{
  "cells": [
    {
      "cell_type": "markdown",
      "id": "4f6292a8",
      "metadata": {
        "id": "4f6292a8"
      },
      "source": [
        "## Relation Extraction using StackingClassifier Model"
      ]
    },
    {
      "cell_type": "markdown",
      "id": "d3ccd045",
      "metadata": {
        "id": "d3ccd045"
      },
      "source": [
        "### Importing necessary libraries for data manipulation, visualization, and natural language processing"
      ]
    },
    {
      "cell_type": "code",
      "execution_count": 1,
      "id": "00ee8964",
      "metadata": {
        "colab": {
          "base_uri": "https://localhost:8080/"
        },
        "id": "00ee8964",
        "outputId": "78128654-c76c-4207-f620-9aae69bb77d7"
      },
      "outputs": [
        {
          "output_type": "stream",
          "name": "stdout",
          "text": [
            "Requirement already satisfied: nltk in /usr/local/lib/python3.10/dist-packages (3.8.1)\n",
            "Requirement already satisfied: click in /usr/local/lib/python3.10/dist-packages (from nltk) (8.1.7)\n",
            "Requirement already satisfied: joblib in /usr/local/lib/python3.10/dist-packages (from nltk) (1.3.2)\n",
            "Requirement already satisfied: regex>=2021.8.3 in /usr/local/lib/python3.10/dist-packages (from nltk) (2023.12.25)\n",
            "Requirement already satisfied: tqdm in /usr/local/lib/python3.10/dist-packages (from nltk) (4.66.2)\n"
          ]
        }
      ],
      "source": [
        "# NLTK library is used for natural language processing because of its specific functionalities available\n",
        "\n",
        "import numpy as np\n",
        "import pandas as pd\n",
        "import matplotlib.pyplot as plt\n",
        "import re\n",
        "!pip install nltk\n",
        "import nltk\n",
        "from nltk.corpus import stopwords\n",
        "from nltk.tokenize import word_tokenize\n",
        "from nltk.stem import WordNetLemmatizer\n",
        "from nltk.stem import PorterStemmer"
      ]
    },
    {
      "cell_type": "markdown",
      "id": "18e3e5fd",
      "metadata": {
        "id": "18e3e5fd"
      },
      "source": [
        "### Libraries for extracting features from text for machine learning algorithms and for encoding categorical labels"
      ]
    },
    {
      "cell_type": "code",
      "execution_count": 2,
      "id": "7c39b160",
      "metadata": {
        "id": "7c39b160"
      },
      "outputs": [],
      "source": [
        "from sklearn.feature_extraction.text import TfidfVectorizer\n",
        "from sklearn.preprocessing import LabelEncoder"
      ]
    },
    {
      "cell_type": "markdown",
      "id": "8da57d80",
      "metadata": {
        "id": "8da57d80"
      },
      "source": [
        "### Downloading the necessary NLTK data packages for tokenization, part-of-speech tagging, lemmatization, and stopwords."
      ]
    },
    {
      "cell_type": "code",
      "execution_count": 3,
      "id": "748a67c4",
      "metadata": {
        "colab": {
          "base_uri": "https://localhost:8080/"
        },
        "id": "748a67c4",
        "outputId": "f37658ea-d3ac-48fd-b94d-d4fe8d602661"
      },
      "outputs": [
        {
          "output_type": "execute_result",
          "data": {
            "text/plain": [
              "True"
            ]
          },
          "metadata": {},
          "execution_count": 3
        }
      ],
      "source": [
        "nltk.download('punkt',  quiet=True)\n",
        "nltk.download('averaged_perceptron_tagger',  quiet=True)\n",
        "nltk.download('wordnet',  quiet=True)\n",
        "nltk.download('stopwords',  quiet=True)"
      ]
    },
    {
      "cell_type": "markdown",
      "id": "cf1d9be8",
      "metadata": {
        "id": "cf1d9be8"
      },
      "source": [
        "### Loading the \"sem_eval_2010_task_8\" dataset from the Hugging Face `datasets` library for NLP tasks"
      ]
    },
    {
      "cell_type": "code",
      "execution_count": 4,
      "id": "4b8c45bd",
      "metadata": {
        "colab": {
          "base_uri": "https://localhost:8080/"
        },
        "id": "4b8c45bd",
        "outputId": "9a2dc539-697d-48b0-bd1a-295d4dbc8f97"
      },
      "outputs": [
        {
          "output_type": "stream",
          "name": "stdout",
          "text": [
            "Collecting datasets\n",
            "  Downloading datasets-2.18.0-py3-none-any.whl (510 kB)\n",
            "\u001b[2K     \u001b[90m━━━━━━━━━━━━━━━━━━━━━━━━━━━━━━━━━━━━━━━━\u001b[0m \u001b[32m510.5/510.5 kB\u001b[0m \u001b[31m4.2 MB/s\u001b[0m eta \u001b[36m0:00:00\u001b[0m\n",
            "\u001b[?25hRequirement already satisfied: filelock in /usr/local/lib/python3.10/dist-packages (from datasets) (3.13.1)\n",
            "Requirement already satisfied: numpy>=1.17 in /usr/local/lib/python3.10/dist-packages (from datasets) (1.25.2)\n",
            "Requirement already satisfied: pyarrow>=12.0.0 in /usr/local/lib/python3.10/dist-packages (from datasets) (14.0.2)\n",
            "Requirement already satisfied: pyarrow-hotfix in /usr/local/lib/python3.10/dist-packages (from datasets) (0.6)\n",
            "Collecting dill<0.3.9,>=0.3.0 (from datasets)\n",
            "  Downloading dill-0.3.8-py3-none-any.whl (116 kB)\n",
            "\u001b[2K     \u001b[90m━━━━━━━━━━━━━━━━━━━━━━━━━━━━━━━━━━━━━━━━\u001b[0m \u001b[32m116.3/116.3 kB\u001b[0m \u001b[31m17.7 MB/s\u001b[0m eta \u001b[36m0:00:00\u001b[0m\n",
            "\u001b[?25hRequirement already satisfied: pandas in /usr/local/lib/python3.10/dist-packages (from datasets) (1.5.3)\n",
            "Requirement already satisfied: requests>=2.19.0 in /usr/local/lib/python3.10/dist-packages (from datasets) (2.31.0)\n",
            "Requirement already satisfied: tqdm>=4.62.1 in /usr/local/lib/python3.10/dist-packages (from datasets) (4.66.2)\n",
            "Requirement already satisfied: xxhash in /usr/local/lib/python3.10/dist-packages (from datasets) (3.4.1)\n",
            "Collecting multiprocess (from datasets)\n",
            "  Downloading multiprocess-0.70.16-py310-none-any.whl (134 kB)\n",
            "\u001b[2K     \u001b[90m━━━━━━━━━━━━━━━━━━━━━━━━━━━━━━━━━━━━━━━━\u001b[0m \u001b[32m134.8/134.8 kB\u001b[0m \u001b[31m23.6 MB/s\u001b[0m eta \u001b[36m0:00:00\u001b[0m\n",
            "\u001b[?25hRequirement already satisfied: fsspec[http]<=2024.2.0,>=2023.1.0 in /usr/local/lib/python3.10/dist-packages (from datasets) (2023.6.0)\n",
            "Requirement already satisfied: aiohttp in /usr/local/lib/python3.10/dist-packages (from datasets) (3.9.3)\n",
            "Requirement already satisfied: huggingface-hub>=0.19.4 in /usr/local/lib/python3.10/dist-packages (from datasets) (0.20.3)\n",
            "Requirement already satisfied: packaging in /usr/local/lib/python3.10/dist-packages (from datasets) (23.2)\n",
            "Requirement already satisfied: pyyaml>=5.1 in /usr/local/lib/python3.10/dist-packages (from datasets) (6.0.1)\n",
            "Requirement already satisfied: aiosignal>=1.1.2 in /usr/local/lib/python3.10/dist-packages (from aiohttp->datasets) (1.3.1)\n",
            "Requirement already satisfied: attrs>=17.3.0 in /usr/local/lib/python3.10/dist-packages (from aiohttp->datasets) (23.2.0)\n",
            "Requirement already satisfied: frozenlist>=1.1.1 in /usr/local/lib/python3.10/dist-packages (from aiohttp->datasets) (1.4.1)\n",
            "Requirement already satisfied: multidict<7.0,>=4.5 in /usr/local/lib/python3.10/dist-packages (from aiohttp->datasets) (6.0.5)\n",
            "Requirement already satisfied: yarl<2.0,>=1.0 in /usr/local/lib/python3.10/dist-packages (from aiohttp->datasets) (1.9.4)\n",
            "Requirement already satisfied: async-timeout<5.0,>=4.0 in /usr/local/lib/python3.10/dist-packages (from aiohttp->datasets) (4.0.3)\n",
            "Requirement already satisfied: typing-extensions>=3.7.4.3 in /usr/local/lib/python3.10/dist-packages (from huggingface-hub>=0.19.4->datasets) (4.10.0)\n",
            "Requirement already satisfied: charset-normalizer<4,>=2 in /usr/local/lib/python3.10/dist-packages (from requests>=2.19.0->datasets) (3.3.2)\n",
            "Requirement already satisfied: idna<4,>=2.5 in /usr/local/lib/python3.10/dist-packages (from requests>=2.19.0->datasets) (3.6)\n",
            "Requirement already satisfied: urllib3<3,>=1.21.1 in /usr/local/lib/python3.10/dist-packages (from requests>=2.19.0->datasets) (2.0.7)\n",
            "Requirement already satisfied: certifi>=2017.4.17 in /usr/local/lib/python3.10/dist-packages (from requests>=2.19.0->datasets) (2024.2.2)\n",
            "Requirement already satisfied: python-dateutil>=2.8.1 in /usr/local/lib/python3.10/dist-packages (from pandas->datasets) (2.8.2)\n",
            "Requirement already satisfied: pytz>=2020.1 in /usr/local/lib/python3.10/dist-packages (from pandas->datasets) (2023.4)\n",
            "Requirement already satisfied: six>=1.5 in /usr/local/lib/python3.10/dist-packages (from python-dateutil>=2.8.1->pandas->datasets) (1.16.0)\n",
            "Installing collected packages: dill, multiprocess, datasets\n",
            "Successfully installed datasets-2.18.0 dill-0.3.8 multiprocess-0.70.16\n"
          ]
        }
      ],
      "source": [
        "!pip install datasets"
      ]
    },
    {
      "cell_type": "code",
      "execution_count": 5,
      "id": "01bd191e",
      "metadata": {
        "colab": {
          "base_uri": "https://localhost:8080/",
          "height": 269,
          "referenced_widgets": [
            "1f8db2ba0324458c901522598ebf5cb8",
            "e88099492d944db5932d85046d5420c5",
            "684a766c935c44cdbd1832f73f44871c",
            "6a59df7e19354f1abce2b67ff5e2c29d",
            "da6825ba200f4d7fad92e3029058f453",
            "0ba9380cb775417eb1142e0e292bc18e",
            "825caf8fe0db4dbbae7eb3e1cacda6f2",
            "b0d6208e51bc42c6881f220e28f52aec",
            "ab0b3d6014ed439ea9c5e892b24710fb",
            "83a28dc93499483a8d7e6fb356bff0d8",
            "ebaa412ee0e5438abcacb5cafd108bad",
            "1eda0f240cd34f678384038fb489cc7d",
            "6a52d1d94a894ed7b76091b9b008a0f9",
            "e0e51297a57f49d2b5da8122f657f2e9",
            "f1345bdabff9482cab00bdae3d066b0d",
            "ccdb29bf88204accb343f8087a8fe07b",
            "374b892a650c49a2a58a52486876d5f2",
            "d70261d7518741bb83d1ed0668437f98",
            "4fb33e6547014e3dad162e864201c6f6",
            "52c391e752604e94a8ddca141bf9ae73",
            "091b65f4b01c4558b6f10daeeb5604c3",
            "27359d5710f1444d903d55a3768030bd",
            "9ac59828e5c74626b2c1d0eaa879b67a",
            "66462a80366b41f890694267bc0bb00e",
            "dd9d86bd38124a6aa9289e138efc87cc",
            "6a71a07b1bf947cd9490a8c9755fe020",
            "2bce7b32144146d5a018db4d723e6993",
            "cfa3fd3c3c9942099e1af88fbce3a58e",
            "fd193c47684e4faa843b868364825272",
            "76abaed3647e4fa9a1b0ce385bc379fd",
            "ff8b12748f054f438f3299079a76bbce",
            "0d68463a62424abbafb0b1d2a1167dc3",
            "fcda8994e5174f0d9f82f2dfad9097cb",
            "ebfa5f5684b34032871397f2d7f6486a",
            "a6e096c9dfad4e10a041ebeafb8a935b",
            "cb9fa295e5ed492d8977ffb52d203f6b",
            "2ac25623ece246b997122aaef541bd17",
            "355a8b8495ac443da97f131e1d5ccfef",
            "fd67501547ba4e778e665c7f7682cb79",
            "e8cf08a57fa744eb8ae3e83337e9b197",
            "d31dcb02d1a6483ca1713905ae89ab51",
            "d45f6be48e7b467ba3b7fd240dcd5591",
            "ec346058238d40b8b4fef451e3fc37e4",
            "eef7e4b96b604a31bae257ae060169ac"
          ]
        },
        "id": "01bd191e",
        "outputId": "a2470bb5-0f40-41aa-9611-9f1967c33890"
      },
      "outputs": [
        {
          "output_type": "stream",
          "name": "stderr",
          "text": [
            "/usr/local/lib/python3.10/dist-packages/huggingface_hub/utils/_token.py:88: UserWarning: \n",
            "The secret `HF_TOKEN` does not exist in your Colab secrets.\n",
            "To authenticate with the Hugging Face Hub, create a token in your settings tab (https://huggingface.co/settings/tokens), set it as secret in your Google Colab and restart your session.\n",
            "You will be able to reuse this secret in all of your notebooks.\n",
            "Please note that authentication is recommended but still optional to access public models or datasets.\n",
            "  warnings.warn(\n"
          ]
        },
        {
          "output_type": "display_data",
          "data": {
            "text/plain": [
              "Downloading data:   0%|          | 0.00/673k [00:00<?, ?B/s]"
            ],
            "application/vnd.jupyter.widget-view+json": {
              "version_major": 2,
              "version_minor": 0,
              "model_id": "1f8db2ba0324458c901522598ebf5cb8"
            }
          },
          "metadata": {}
        },
        {
          "output_type": "display_data",
          "data": {
            "text/plain": [
              "Downloading data:   0%|          | 0.00/231k [00:00<?, ?B/s]"
            ],
            "application/vnd.jupyter.widget-view+json": {
              "version_major": 2,
              "version_minor": 0,
              "model_id": "1eda0f240cd34f678384038fb489cc7d"
            }
          },
          "metadata": {}
        },
        {
          "output_type": "display_data",
          "data": {
            "text/plain": [
              "Generating train split:   0%|          | 0/8000 [00:00<?, ? examples/s]"
            ],
            "application/vnd.jupyter.widget-view+json": {
              "version_major": 2,
              "version_minor": 0,
              "model_id": "9ac59828e5c74626b2c1d0eaa879b67a"
            }
          },
          "metadata": {}
        },
        {
          "output_type": "display_data",
          "data": {
            "text/plain": [
              "Generating test split:   0%|          | 0/2717 [00:00<?, ? examples/s]"
            ],
            "application/vnd.jupyter.widget-view+json": {
              "version_major": 2,
              "version_minor": 0,
              "model_id": "ebfa5f5684b34032871397f2d7f6486a"
            }
          },
          "metadata": {}
        }
      ],
      "source": [
        "from datasets import load_dataset\n",
        "dataset = load_dataset(\"sem_eval_2010_task_8\")"
      ]
    },
    {
      "cell_type": "markdown",
      "id": "2b3b0253",
      "metadata": {
        "id": "2b3b0253"
      },
      "source": [
        "### Converting the dataset into pandas DataFrames for training and testing, facilitating easier data manipulation"
      ]
    },
    {
      "cell_type": "code",
      "execution_count": 6,
      "id": "a406b724",
      "metadata": {
        "id": "a406b724"
      },
      "outputs": [],
      "source": [
        "train_df = pd.DataFrame(dataset[\"train\"])\n",
        "test_df = pd.DataFrame(dataset[\"test\"])"
      ]
    },
    {
      "cell_type": "code",
      "source": [
        "train_df"
      ],
      "metadata": {
        "colab": {
          "base_uri": "https://localhost:8080/",
          "height": 770
        },
        "id": "GRjqg0ibtOiF",
        "outputId": "da59f79f-249b-4b0d-9425-834171a3b835"
      },
      "id": "GRjqg0ibtOiF",
      "execution_count": 46,
      "outputs": [
        {
          "output_type": "execute_result",
          "data": {
            "text/plain": [
              "                                               sentence  relation  \\\n",
              "0     The system as described above has its greatest...         3   \n",
              "1     The <e1>child</e1> was carefully wrapped and b...        18   \n",
              "2     The <e1>author</e1> of a keygen uses a <e2>dis...        11   \n",
              "3     A misty <e1>ridge</e1> uprises from the <e2>su...        18   \n",
              "4     The <e1>student</e1> <e2>association</e2> is t...        12   \n",
              "...                                                 ...       ...   \n",
              "7995  When the <e1>notice</e1> is sent by <e2>fax</e...        18   \n",
              "7996  The <e1>herbicide</e1> is derived from a natur...         8   \n",
              "7997  To test this, we placed a kitchen <e1>match</e...         6   \n",
              "7998  The farmers and city officials in the region h...        18   \n",
              "7999  The <e1>surgeon</e1> cuts a small <e2>hole</e2...        17   \n",
              "\n",
              "                 e1            e2  e1_index  e2_index  \\\n",
              "0     configuration      elements        73       107   \n",
              "1             child        cradle         4        60   \n",
              "2            author  disassembler         4        39   \n",
              "3             ridge         surge         8        40   \n",
              "4           student   association         4        21   \n",
              "...             ...           ...       ...       ...   \n",
              "7995         notice           fax         9        36   \n",
              "7996      herbicide    antibiotic         4        49   \n",
              "7997          match           jar        34        56   \n",
              "7998        farmers        market        87       104   \n",
              "7999        surgeon          hole         4        34   \n",
              "\n",
              "                                       cleaned_sentence  \\\n",
              "0     the system as described above has its greatest...   \n",
              "1     the child was carefully wrapped and bound into...   \n",
              "2     the author of a keygen uses a disassembler to ...   \n",
              "3                  a misty ridge uprises from the surge   \n",
              "4     the student association is the voice of the un...   \n",
              "...                                                 ...   \n",
              "7995  when the notice is sent by fax the notice is n...   \n",
              "7996  the herbicide is derived from a natural antibi...   \n",
              "7997  to test this we placed a kitchen match in the ...   \n",
              "7998  the farmers and city officials in the region h...   \n",
              "7999  the surgeon cuts a small hole in the skull and...   \n",
              "\n",
              "                                                 tokens  \\\n",
              "0     [the, system, as, described, above, has, its, ...   \n",
              "1     [the, child, was, carefully, wrapped, and, bou...   \n",
              "2     [the, author, of, a, keygen, uses, a, disassem...   \n",
              "3          [a, misty, ridge, uprises, from, the, surge]   \n",
              "4     [the, student, association, is, the, voice, of...   \n",
              "...                                                 ...   \n",
              "7995  [when, the, notice, is, sent, by, fax, the, no...   \n",
              "7996  [the, herbicide, is, derived, from, a, natural...   \n",
              "7997  [to, test, this, we, placed, a, kitchen, match...   \n",
              "7998  [the, farmers, and, city, officials, in, the, ...   \n",
              "7999  [the, surgeon, cuts, a, small, hole, in, the, ...   \n",
              "\n",
              "                                               pos_tags  \\\n",
              "0     [(the, DT), (system, NN), (as, IN), (described...   \n",
              "1     [(the, DT), (child, NN), (was, VBD), (carefull...   \n",
              "2     [(the, DT), (author, NN), (of, IN), (a, DT), (...   \n",
              "3     [(a, DT), (misty, JJ), (ridge, NN), (uprises, ...   \n",
              "4     [(the, DT), (student, NN), (association, NN), ...   \n",
              "...                                                 ...   \n",
              "7995  [(when, WRB), (the, DT), (notice, NN), (is, VB...   \n",
              "7996  [(the, DT), (herbicide, NN), (is, VBZ), (deriv...   \n",
              "7997  [(to, TO), (test, VB), (this, DT), (we, PRP), ...   \n",
              "7998  [(the, DT), (farmers, NNS), (and, CC), (city, ...   \n",
              "7999  [(the, DT), (surgeon, NN), (cuts, VBZ), (a, DT...   \n",
              "\n",
              "                                      lemmatized_tokens  \n",
              "0     [the, system, a, described, above, ha, it, gre...  \n",
              "1     [the, child, wa, carefully, wrapped, and, boun...  \n",
              "2     [the, author, of, a, keygen, us, a, disassembl...  \n",
              "3          [a, misty, ridge, uprises, from, the, surge]  \n",
              "4     [the, student, association, is, the, voice, of...  \n",
              "...                                                 ...  \n",
              "7995  [when, the, notice, is, sent, by, fax, the, no...  \n",
              "7996  [the, herbicide, is, derived, from, a, natural...  \n",
              "7997  [to, test, this, we, placed, a, kitchen, match...  \n",
              "7998  [the, farmer, and, city, official, in, the, re...  \n",
              "7999  [the, surgeon, cut, a, small, hole, in, the, s...  \n",
              "\n",
              "[8000 rows x 10 columns]"
            ],
            "text/html": [
              "\n",
              "  <div id=\"df-a99a1131-53cb-49e8-afa6-f20fb5dc10d7\" class=\"colab-df-container\">\n",
              "    <div>\n",
              "<style scoped>\n",
              "    .dataframe tbody tr th:only-of-type {\n",
              "        vertical-align: middle;\n",
              "    }\n",
              "\n",
              "    .dataframe tbody tr th {\n",
              "        vertical-align: top;\n",
              "    }\n",
              "\n",
              "    .dataframe thead th {\n",
              "        text-align: right;\n",
              "    }\n",
              "</style>\n",
              "<table border=\"1\" class=\"dataframe\">\n",
              "  <thead>\n",
              "    <tr style=\"text-align: right;\">\n",
              "      <th></th>\n",
              "      <th>sentence</th>\n",
              "      <th>relation</th>\n",
              "      <th>e1</th>\n",
              "      <th>e2</th>\n",
              "      <th>e1_index</th>\n",
              "      <th>e2_index</th>\n",
              "      <th>cleaned_sentence</th>\n",
              "      <th>tokens</th>\n",
              "      <th>pos_tags</th>\n",
              "      <th>lemmatized_tokens</th>\n",
              "    </tr>\n",
              "  </thead>\n",
              "  <tbody>\n",
              "    <tr>\n",
              "      <th>0</th>\n",
              "      <td>The system as described above has its greatest...</td>\n",
              "      <td>3</td>\n",
              "      <td>configuration</td>\n",
              "      <td>elements</td>\n",
              "      <td>73</td>\n",
              "      <td>107</td>\n",
              "      <td>the system as described above has its greatest...</td>\n",
              "      <td>[the, system, as, described, above, has, its, ...</td>\n",
              "      <td>[(the, DT), (system, NN), (as, IN), (described...</td>\n",
              "      <td>[the, system, a, described, above, ha, it, gre...</td>\n",
              "    </tr>\n",
              "    <tr>\n",
              "      <th>1</th>\n",
              "      <td>The &lt;e1&gt;child&lt;/e1&gt; was carefully wrapped and b...</td>\n",
              "      <td>18</td>\n",
              "      <td>child</td>\n",
              "      <td>cradle</td>\n",
              "      <td>4</td>\n",
              "      <td>60</td>\n",
              "      <td>the child was carefully wrapped and bound into...</td>\n",
              "      <td>[the, child, was, carefully, wrapped, and, bou...</td>\n",
              "      <td>[(the, DT), (child, NN), (was, VBD), (carefull...</td>\n",
              "      <td>[the, child, wa, carefully, wrapped, and, boun...</td>\n",
              "    </tr>\n",
              "    <tr>\n",
              "      <th>2</th>\n",
              "      <td>The &lt;e1&gt;author&lt;/e1&gt; of a keygen uses a &lt;e2&gt;dis...</td>\n",
              "      <td>11</td>\n",
              "      <td>author</td>\n",
              "      <td>disassembler</td>\n",
              "      <td>4</td>\n",
              "      <td>39</td>\n",
              "      <td>the author of a keygen uses a disassembler to ...</td>\n",
              "      <td>[the, author, of, a, keygen, uses, a, disassem...</td>\n",
              "      <td>[(the, DT), (author, NN), (of, IN), (a, DT), (...</td>\n",
              "      <td>[the, author, of, a, keygen, us, a, disassembl...</td>\n",
              "    </tr>\n",
              "    <tr>\n",
              "      <th>3</th>\n",
              "      <td>A misty &lt;e1&gt;ridge&lt;/e1&gt; uprises from the &lt;e2&gt;su...</td>\n",
              "      <td>18</td>\n",
              "      <td>ridge</td>\n",
              "      <td>surge</td>\n",
              "      <td>8</td>\n",
              "      <td>40</td>\n",
              "      <td>a misty ridge uprises from the surge</td>\n",
              "      <td>[a, misty, ridge, uprises, from, the, surge]</td>\n",
              "      <td>[(a, DT), (misty, JJ), (ridge, NN), (uprises, ...</td>\n",
              "      <td>[a, misty, ridge, uprises, from, the, surge]</td>\n",
              "    </tr>\n",
              "    <tr>\n",
              "      <th>4</th>\n",
              "      <td>The &lt;e1&gt;student&lt;/e1&gt; &lt;e2&gt;association&lt;/e2&gt; is t...</td>\n",
              "      <td>12</td>\n",
              "      <td>student</td>\n",
              "      <td>association</td>\n",
              "      <td>4</td>\n",
              "      <td>21</td>\n",
              "      <td>the student association is the voice of the un...</td>\n",
              "      <td>[the, student, association, is, the, voice, of...</td>\n",
              "      <td>[(the, DT), (student, NN), (association, NN), ...</td>\n",
              "      <td>[the, student, association, is, the, voice, of...</td>\n",
              "    </tr>\n",
              "    <tr>\n",
              "      <th>...</th>\n",
              "      <td>...</td>\n",
              "      <td>...</td>\n",
              "      <td>...</td>\n",
              "      <td>...</td>\n",
              "      <td>...</td>\n",
              "      <td>...</td>\n",
              "      <td>...</td>\n",
              "      <td>...</td>\n",
              "      <td>...</td>\n",
              "      <td>...</td>\n",
              "    </tr>\n",
              "    <tr>\n",
              "      <th>7995</th>\n",
              "      <td>When the &lt;e1&gt;notice&lt;/e1&gt; is sent by &lt;e2&gt;fax&lt;/e...</td>\n",
              "      <td>18</td>\n",
              "      <td>notice</td>\n",
              "      <td>fax</td>\n",
              "      <td>9</td>\n",
              "      <td>36</td>\n",
              "      <td>when the notice is sent by fax the notice is n...</td>\n",
              "      <td>[when, the, notice, is, sent, by, fax, the, no...</td>\n",
              "      <td>[(when, WRB), (the, DT), (notice, NN), (is, VB...</td>\n",
              "      <td>[when, the, notice, is, sent, by, fax, the, no...</td>\n",
              "    </tr>\n",
              "    <tr>\n",
              "      <th>7996</th>\n",
              "      <td>The &lt;e1&gt;herbicide&lt;/e1&gt; is derived from a natur...</td>\n",
              "      <td>8</td>\n",
              "      <td>herbicide</td>\n",
              "      <td>antibiotic</td>\n",
              "      <td>4</td>\n",
              "      <td>49</td>\n",
              "      <td>the herbicide is derived from a natural antibi...</td>\n",
              "      <td>[the, herbicide, is, derived, from, a, natural...</td>\n",
              "      <td>[(the, DT), (herbicide, NN), (is, VBZ), (deriv...</td>\n",
              "      <td>[the, herbicide, is, derived, from, a, natural...</td>\n",
              "    </tr>\n",
              "    <tr>\n",
              "      <th>7997</th>\n",
              "      <td>To test this, we placed a kitchen &lt;e1&gt;match&lt;/e...</td>\n",
              "      <td>6</td>\n",
              "      <td>match</td>\n",
              "      <td>jar</td>\n",
              "      <td>34</td>\n",
              "      <td>56</td>\n",
              "      <td>to test this we placed a kitchen match in the ...</td>\n",
              "      <td>[to, test, this, we, placed, a, kitchen, match...</td>\n",
              "      <td>[(to, TO), (test, VB), (this, DT), (we, PRP), ...</td>\n",
              "      <td>[to, test, this, we, placed, a, kitchen, match...</td>\n",
              "    </tr>\n",
              "    <tr>\n",
              "      <th>7998</th>\n",
              "      <td>The farmers and city officials in the region h...</td>\n",
              "      <td>18</td>\n",
              "      <td>farmers</td>\n",
              "      <td>market</td>\n",
              "      <td>87</td>\n",
              "      <td>104</td>\n",
              "      <td>the farmers and city officials in the region h...</td>\n",
              "      <td>[the, farmers, and, city, officials, in, the, ...</td>\n",
              "      <td>[(the, DT), (farmers, NNS), (and, CC), (city, ...</td>\n",
              "      <td>[the, farmer, and, city, official, in, the, re...</td>\n",
              "    </tr>\n",
              "    <tr>\n",
              "      <th>7999</th>\n",
              "      <td>The &lt;e1&gt;surgeon&lt;/e1&gt; cuts a small &lt;e2&gt;hole&lt;/e2...</td>\n",
              "      <td>17</td>\n",
              "      <td>surgeon</td>\n",
              "      <td>hole</td>\n",
              "      <td>4</td>\n",
              "      <td>34</td>\n",
              "      <td>the surgeon cuts a small hole in the skull and...</td>\n",
              "      <td>[the, surgeon, cuts, a, small, hole, in, the, ...</td>\n",
              "      <td>[(the, DT), (surgeon, NN), (cuts, VBZ), (a, DT...</td>\n",
              "      <td>[the, surgeon, cut, a, small, hole, in, the, s...</td>\n",
              "    </tr>\n",
              "  </tbody>\n",
              "</table>\n",
              "<p>8000 rows × 10 columns</p>\n",
              "</div>\n",
              "    <div class=\"colab-df-buttons\">\n",
              "\n",
              "  <div class=\"colab-df-container\">\n",
              "    <button class=\"colab-df-convert\" onclick=\"convertToInteractive('df-a99a1131-53cb-49e8-afa6-f20fb5dc10d7')\"\n",
              "            title=\"Convert this dataframe to an interactive table.\"\n",
              "            style=\"display:none;\">\n",
              "\n",
              "  <svg xmlns=\"http://www.w3.org/2000/svg\" height=\"24px\" viewBox=\"0 -960 960 960\">\n",
              "    <path d=\"M120-120v-720h720v720H120Zm60-500h600v-160H180v160Zm220 220h160v-160H400v160Zm0 220h160v-160H400v160ZM180-400h160v-160H180v160Zm440 0h160v-160H620v160ZM180-180h160v-160H180v160Zm440 0h160v-160H620v160Z\"/>\n",
              "  </svg>\n",
              "    </button>\n",
              "\n",
              "  <style>\n",
              "    .colab-df-container {\n",
              "      display:flex;\n",
              "      gap: 12px;\n",
              "    }\n",
              "\n",
              "    .colab-df-convert {\n",
              "      background-color: #E8F0FE;\n",
              "      border: none;\n",
              "      border-radius: 50%;\n",
              "      cursor: pointer;\n",
              "      display: none;\n",
              "      fill: #1967D2;\n",
              "      height: 32px;\n",
              "      padding: 0 0 0 0;\n",
              "      width: 32px;\n",
              "    }\n",
              "\n",
              "    .colab-df-convert:hover {\n",
              "      background-color: #E2EBFA;\n",
              "      box-shadow: 0px 1px 2px rgba(60, 64, 67, 0.3), 0px 1px 3px 1px rgba(60, 64, 67, 0.15);\n",
              "      fill: #174EA6;\n",
              "    }\n",
              "\n",
              "    .colab-df-buttons div {\n",
              "      margin-bottom: 4px;\n",
              "    }\n",
              "\n",
              "    [theme=dark] .colab-df-convert {\n",
              "      background-color: #3B4455;\n",
              "      fill: #D2E3FC;\n",
              "    }\n",
              "\n",
              "    [theme=dark] .colab-df-convert:hover {\n",
              "      background-color: #434B5C;\n",
              "      box-shadow: 0px 1px 3px 1px rgba(0, 0, 0, 0.15);\n",
              "      filter: drop-shadow(0px 1px 2px rgba(0, 0, 0, 0.3));\n",
              "      fill: #FFFFFF;\n",
              "    }\n",
              "  </style>\n",
              "\n",
              "    <script>\n",
              "      const buttonEl =\n",
              "        document.querySelector('#df-a99a1131-53cb-49e8-afa6-f20fb5dc10d7 button.colab-df-convert');\n",
              "      buttonEl.style.display =\n",
              "        google.colab.kernel.accessAllowed ? 'block' : 'none';\n",
              "\n",
              "      async function convertToInteractive(key) {\n",
              "        const element = document.querySelector('#df-a99a1131-53cb-49e8-afa6-f20fb5dc10d7');\n",
              "        const dataTable =\n",
              "          await google.colab.kernel.invokeFunction('convertToInteractive',\n",
              "                                                    [key], {});\n",
              "        if (!dataTable) return;\n",
              "\n",
              "        const docLinkHtml = 'Like what you see? Visit the ' +\n",
              "          '<a target=\"_blank\" href=https://colab.research.google.com/notebooks/data_table.ipynb>data table notebook</a>'\n",
              "          + ' to learn more about interactive tables.';\n",
              "        element.innerHTML = '';\n",
              "        dataTable['output_type'] = 'display_data';\n",
              "        await google.colab.output.renderOutput(dataTable, element);\n",
              "        const docLink = document.createElement('div');\n",
              "        docLink.innerHTML = docLinkHtml;\n",
              "        element.appendChild(docLink);\n",
              "      }\n",
              "    </script>\n",
              "  </div>\n",
              "\n",
              "\n",
              "<div id=\"df-02f96167-ae62-403c-a213-54d62b84cca4\">\n",
              "  <button class=\"colab-df-quickchart\" onclick=\"quickchart('df-02f96167-ae62-403c-a213-54d62b84cca4')\"\n",
              "            title=\"Suggest charts\"\n",
              "            style=\"display:none;\">\n",
              "\n",
              "<svg xmlns=\"http://www.w3.org/2000/svg\" height=\"24px\"viewBox=\"0 0 24 24\"\n",
              "     width=\"24px\">\n",
              "    <g>\n",
              "        <path d=\"M19 3H5c-1.1 0-2 .9-2 2v14c0 1.1.9 2 2 2h14c1.1 0 2-.9 2-2V5c0-1.1-.9-2-2-2zM9 17H7v-7h2v7zm4 0h-2V7h2v10zm4 0h-2v-4h2v4z\"/>\n",
              "    </g>\n",
              "</svg>\n",
              "  </button>\n",
              "\n",
              "<style>\n",
              "  .colab-df-quickchart {\n",
              "      --bg-color: #E8F0FE;\n",
              "      --fill-color: #1967D2;\n",
              "      --hover-bg-color: #E2EBFA;\n",
              "      --hover-fill-color: #174EA6;\n",
              "      --disabled-fill-color: #AAA;\n",
              "      --disabled-bg-color: #DDD;\n",
              "  }\n",
              "\n",
              "  [theme=dark] .colab-df-quickchart {\n",
              "      --bg-color: #3B4455;\n",
              "      --fill-color: #D2E3FC;\n",
              "      --hover-bg-color: #434B5C;\n",
              "      --hover-fill-color: #FFFFFF;\n",
              "      --disabled-bg-color: #3B4455;\n",
              "      --disabled-fill-color: #666;\n",
              "  }\n",
              "\n",
              "  .colab-df-quickchart {\n",
              "    background-color: var(--bg-color);\n",
              "    border: none;\n",
              "    border-radius: 50%;\n",
              "    cursor: pointer;\n",
              "    display: none;\n",
              "    fill: var(--fill-color);\n",
              "    height: 32px;\n",
              "    padding: 0;\n",
              "    width: 32px;\n",
              "  }\n",
              "\n",
              "  .colab-df-quickchart:hover {\n",
              "    background-color: var(--hover-bg-color);\n",
              "    box-shadow: 0 1px 2px rgba(60, 64, 67, 0.3), 0 1px 3px 1px rgba(60, 64, 67, 0.15);\n",
              "    fill: var(--button-hover-fill-color);\n",
              "  }\n",
              "\n",
              "  .colab-df-quickchart-complete:disabled,\n",
              "  .colab-df-quickchart-complete:disabled:hover {\n",
              "    background-color: var(--disabled-bg-color);\n",
              "    fill: var(--disabled-fill-color);\n",
              "    box-shadow: none;\n",
              "  }\n",
              "\n",
              "  .colab-df-spinner {\n",
              "    border: 2px solid var(--fill-color);\n",
              "    border-color: transparent;\n",
              "    border-bottom-color: var(--fill-color);\n",
              "    animation:\n",
              "      spin 1s steps(1) infinite;\n",
              "  }\n",
              "\n",
              "  @keyframes spin {\n",
              "    0% {\n",
              "      border-color: transparent;\n",
              "      border-bottom-color: var(--fill-color);\n",
              "      border-left-color: var(--fill-color);\n",
              "    }\n",
              "    20% {\n",
              "      border-color: transparent;\n",
              "      border-left-color: var(--fill-color);\n",
              "      border-top-color: var(--fill-color);\n",
              "    }\n",
              "    30% {\n",
              "      border-color: transparent;\n",
              "      border-left-color: var(--fill-color);\n",
              "      border-top-color: var(--fill-color);\n",
              "      border-right-color: var(--fill-color);\n",
              "    }\n",
              "    40% {\n",
              "      border-color: transparent;\n",
              "      border-right-color: var(--fill-color);\n",
              "      border-top-color: var(--fill-color);\n",
              "    }\n",
              "    60% {\n",
              "      border-color: transparent;\n",
              "      border-right-color: var(--fill-color);\n",
              "    }\n",
              "    80% {\n",
              "      border-color: transparent;\n",
              "      border-right-color: var(--fill-color);\n",
              "      border-bottom-color: var(--fill-color);\n",
              "    }\n",
              "    90% {\n",
              "      border-color: transparent;\n",
              "      border-bottom-color: var(--fill-color);\n",
              "    }\n",
              "  }\n",
              "</style>\n",
              "\n",
              "  <script>\n",
              "    async function quickchart(key) {\n",
              "      const quickchartButtonEl =\n",
              "        document.querySelector('#' + key + ' button');\n",
              "      quickchartButtonEl.disabled = true;  // To prevent multiple clicks.\n",
              "      quickchartButtonEl.classList.add('colab-df-spinner');\n",
              "      try {\n",
              "        const charts = await google.colab.kernel.invokeFunction(\n",
              "            'suggestCharts', [key], {});\n",
              "      } catch (error) {\n",
              "        console.error('Error during call to suggestCharts:', error);\n",
              "      }\n",
              "      quickchartButtonEl.classList.remove('colab-df-spinner');\n",
              "      quickchartButtonEl.classList.add('colab-df-quickchart-complete');\n",
              "    }\n",
              "    (() => {\n",
              "      let quickchartButtonEl =\n",
              "        document.querySelector('#df-02f96167-ae62-403c-a213-54d62b84cca4 button');\n",
              "      quickchartButtonEl.style.display =\n",
              "        google.colab.kernel.accessAllowed ? 'block' : 'none';\n",
              "    })();\n",
              "  </script>\n",
              "</div>\n",
              "    </div>\n",
              "  </div>\n"
            ],
            "application/vnd.google.colaboratory.intrinsic+json": {
              "type": "dataframe",
              "variable_name": "train_df",
              "summary": "{\n  \"name\": \"train_df\",\n  \"rows\": 8000,\n  \"fields\": [\n    {\n      \"column\": \"sentence\",\n      \"properties\": {\n        \"dtype\": \"string\",\n        \"num_unique_values\": 8000,\n        \"samples\": [\n          \"The inhabitants send messages to each other by placing the <e1>message</e1> in a <e2>capsule</e2> and placing the capsule in a message tube.\",\n          \"I placed the <e1>cache</e1> in a natural <e2>cavity</e2>, at the base of a part of the fallen arch.\",\n          \"Since then, millions of <e1>dollars</e1> have gone into <e2>reconstructions</e2> for victims of tsunami in 2004.\"\n        ],\n        \"semantic_type\": \"\",\n        \"description\": \"\"\n      }\n    },\n    {\n      \"column\": \"relation\",\n      \"properties\": {\n        \"dtype\": \"number\",\n        \"std\": 6,\n        \"min\": 0,\n        \"max\": 18,\n        \"num_unique_values\": 19,\n        \"samples\": [\n          3,\n          6,\n          0\n        ],\n        \"semantic_type\": \"\",\n        \"description\": \"\"\n      }\n    },\n    {\n      \"column\": \"e1\",\n      \"properties\": {\n        \"dtype\": \"category\",\n        \"num_unique_values\": 3979,\n        \"samples\": [\n          \"camaraderie\",\n          \"sensors\",\n          \"practices\"\n        ],\n        \"semantic_type\": \"\",\n        \"description\": \"\"\n      }\n    },\n    {\n      \"column\": \"e2\",\n      \"properties\": {\n        \"dtype\": \"string\",\n        \"num_unique_values\": 4146,\n        \"samples\": [\n          \"bachelors\",\n          \"pity\",\n          \"pet\"\n        ],\n        \"semantic_type\": \"\",\n        \"description\": \"\"\n      }\n    },\n    {\n      \"column\": \"e1_index\",\n      \"properties\": {\n        \"dtype\": \"number\",\n        \"std\": 32,\n        \"min\": 0,\n        \"max\": 377,\n        \"num_unique_values\": 187,\n        \"samples\": [\n          224,\n          68,\n          45\n        ],\n        \"semantic_type\": \"\",\n        \"description\": \"\"\n      }\n    },\n    {\n      \"column\": \"e2_index\",\n      \"properties\": {\n        \"dtype\": \"number\",\n        \"std\": 32,\n        \"min\": 13,\n        \"max\": 403,\n        \"num_unique_values\": 208,\n        \"samples\": [\n          159,\n          57,\n          85\n        ],\n        \"semantic_type\": \"\",\n        \"description\": \"\"\n      }\n    },\n    {\n      \"column\": \"cleaned_sentence\",\n      \"properties\": {\n        \"dtype\": \"string\",\n        \"num_unique_values\": 7975,\n        \"samples\": [\n          \"so with my little bag full of buttons i faced the cold blustery day to carry out some of these lovely ideas\",\n          \"mr c notes worsening of seizures and cognition with sleep deprivation and stress\",\n          \"artists have created a living piece of leather from mouse stem cells\"\n        ],\n        \"semantic_type\": \"\",\n        \"description\": \"\"\n      }\n    },\n    {\n      \"column\": \"tokens\",\n      \"properties\": {\n        \"dtype\": \"object\",\n        \"semantic_type\": \"\",\n        \"description\": \"\"\n      }\n    },\n    {\n      \"column\": \"pos_tags\",\n      \"properties\": {\n        \"dtype\": \"object\",\n        \"semantic_type\": \"\",\n        \"description\": \"\"\n      }\n    },\n    {\n      \"column\": \"lemmatized_tokens\",\n      \"properties\": {\n        \"dtype\": \"object\",\n        \"semantic_type\": \"\",\n        \"description\": \"\"\n      }\n    }\n  ]\n}"
            }
          },
          "metadata": {},
          "execution_count": 46
        }
      ]
    },
    {
      "cell_type": "code",
      "source": [
        "relation_labels_dict = {\n",
        "    '0': 'Cause-Effect(e1,e2)',\n",
        "    '1': 'Cause-Effect(e2,e1)',\n",
        "    '2': 'Component-Whole(e1,e2)',\n",
        "    '3': 'Component-Whole(e2,e1)',\n",
        "    '4': 'Content-Container(e1,e2)',\n",
        "    '5': 'Content-Container(e2,e1)',\n",
        "    '6': 'Entity-Destination(e1,e2)',\n",
        "    '7': 'Entity-Destination(e2,e1)',\n",
        "    '8': 'Entity-Origin(e1,e2)',\n",
        "    '9': 'Entity-Origin(e2,e1)',\n",
        "    '10': 'Instrument-Agency(e1,e2)',\n",
        "    '11': 'Instrument-Agency(e2,e1)',\n",
        "    '12': 'Member-Collection(e1,e2)',\n",
        "    '13': 'Member-Collection(e2,e1)',\n",
        "    '14': 'Message-Topic(e1,e2)',\n",
        "    '15': 'Message-Topic(e2,e1)',\n",
        "    '16': 'Product-Producer(e1,e2)',\n",
        "    '17': 'Product-Producer(e2,e1)',\n",
        "    '18': 'Other'\n",
        "}"
      ],
      "metadata": {
        "id": "0gywhmphtSIN"
      },
      "id": "0gywhmphtSIN",
      "execution_count": 47,
      "outputs": []
    },
    {
      "cell_type": "markdown",
      "id": "c70b1efd",
      "metadata": {
        "id": "c70b1efd"
      },
      "source": [
        "### The function \"preprocess_data\" preprocesses the text data by performing several NLP tasks:\n",
        "1. Extracting entities : Extracts named entities (e1 and e2) from a sentence and identifies their indices. This is useful for relation classification tasks where the relationship between specific entities in a sentence is examined.\n",
        "2. Cleaning text : Cleans the sentence by removing HTML tags, converting to lowercase, and removing punctuation. This standardizes the text data, making it more amenable to processing and analysis.   \n",
        "3. Tokenizing : Tokenizes the sentence into individual words. This is the first step in processing text, as it transforms a string (sentence) into a list of tokens (words).\n",
        "4. Part-of-Speech Tagging : Applies part-of-speech tagging to tokens. This is important for understanding the grammatical structure of sentences and for specific processing tasks such as lemmatization, which require knowledge of a word's part of speech.\n",
        "5. Lemmatizing : Lemmatizes the tokens, converting them to their base or dictionary form. Unlike stemming, lemmatization considers the context and converts the word to its meaningful base form, which is a valid word itself."
      ]
    },
    {
      "cell_type": "code",
      "execution_count": 7,
      "id": "d39fde2a",
      "metadata": {
        "id": "d39fde2a"
      },
      "outputs": [],
      "source": [
        "def preprocess_data(dataframe):\n",
        "\n",
        "    # Extracting entities and their indices\n",
        "    def extract_entities(sentence):\n",
        "        e1_match = re.search(r'<e1>(.*?)<\\/e1>', sentence)\n",
        "        e2_match = re.search(r'<e2>(.*?)<\\/e2>', sentence)\n",
        "\n",
        "        e1 = e1_match.group(1) if e1_match else ''\n",
        "        e2 = e2_match.group(1) if e2_match else ''\n",
        "\n",
        "        e1_index = e1_match.start() if e1_match else -1\n",
        "        e2_index = e2_match.start() if e2_match else -1\n",
        "\n",
        "        return e1, e2, e1_index, e2_index\n",
        "\n",
        "    dataframe['e1'], dataframe['e2'], dataframe['e1_index'], dataframe['e2_index'] = zip(*dataframe['sentence'].apply(extract_entities))\n",
        "\n",
        "    # Cleaning the sentence\n",
        "    def clean_data(sentence):\n",
        "        sentence = re.sub(r'<\\/?e[12]>', '', sentence)\n",
        "        sentence = sentence.lower()\n",
        "        sentence = re.sub(r'[^a-zA-Z0-9\\s]', '', sentence)\n",
        "        return sentence\n",
        "\n",
        "    dataframe['cleaned_sentence'] = dataframe['sentence'].apply(clean_data)\n",
        "\n",
        "    # Tokenize, POS tag, and lemmatize\n",
        "    def tokenize_text(sentence):\n",
        "        return nltk.word_tokenize(sentence)\n",
        "\n",
        "    def pos_tagging(tokens):\n",
        "        return nltk.pos_tag(tokens)\n",
        "\n",
        "    def lemmatization(tokens):\n",
        "        lemmatizer = WordNetLemmatizer()\n",
        "        return [lemmatizer.lemmatize(token) for token in tokens]\n",
        "\n",
        "    dataframe['tokens'] = dataframe['cleaned_sentence'].apply(tokenize_text)\n",
        "    dataframe['pos_tags'] = dataframe['tokens'].apply(pos_tagging)\n",
        "    dataframe['lemmatized_tokens'] = dataframe['tokens'].apply(lemmatization)\n",
        "\n",
        "    return dataframe"
      ]
    },
    {
      "cell_type": "markdown",
      "id": "f8f0dc9c",
      "metadata": {
        "id": "f8f0dc9c"
      },
      "source": [
        "### Preprocessing training and testing datasets"
      ]
    },
    {
      "cell_type": "code",
      "execution_count": 8,
      "id": "abb9f047",
      "metadata": {
        "id": "abb9f047"
      },
      "outputs": [],
      "source": [
        "train_df = preprocess_data(train_df)\n",
        "test_df = preprocess_data(test_df)"
      ]
    },
    {
      "cell_type": "markdown",
      "id": "04bbaac3",
      "metadata": {
        "id": "04bbaac3"
      },
      "source": [
        "### Vectorizing the text data using TF-IDF to convert text to a matrix of TF-IDF features\n",
        "\n",
        "Here we transform the text into numerical vectors by measuring the importance of each term and the frequency in the document (TF) adjusted by its rarity across all documents (IDF). The TF-IDF value increases proportionally to the number of times a word appears in the document\n",
        "\n",
        "1. TF(t,d) = (Number of times term t appears in a document d) / (Total number of terms in the document d)\n",
        "2. IDF(t,D) = log_e(Total number of documents in the corpus D / Number of documents with term t in them)\n",
        "3. TF-IDF(t, d, D) = TF(t, d) × IDF(t, D)\n",
        "\n"
      ]
    },
    {
      "cell_type": "code",
      "execution_count": 9,
      "id": "f25ac29a",
      "metadata": {
        "id": "f25ac29a"
      },
      "outputs": [],
      "source": [
        "vectorizer = TfidfVectorizer()\n",
        "x_train = vectorizer.fit_transform(train_df['cleaned_sentence'])\n",
        "x_test = vectorizer.transform(test_df['cleaned_sentence'])"
      ]
    },
    {
      "cell_type": "markdown",
      "id": "0f54b3ec",
      "metadata": {
        "id": "0f54b3ec"
      },
      "source": [
        "### Encoding the labels into a format suitable for classification models and transforming the labels for test data."
      ]
    },
    {
      "cell_type": "code",
      "execution_count": 10,
      "id": "a1311614",
      "metadata": {
        "id": "a1311614"
      },
      "outputs": [],
      "source": [
        "le = LabelEncoder()\n",
        "y_train = le.fit_transform(train_df['relation'])\n",
        "y_test = le.transform(test_df['relation'])"
      ]
    },
    {
      "cell_type": "markdown",
      "id": "0e8e1d0f",
      "metadata": {
        "id": "0e8e1d0f"
      },
      "source": [
        "### Importing necessary modules from scikit-learn for the SVC model and evaluation metrics"
      ]
    },
    {
      "cell_type": "code",
      "execution_count": 11,
      "id": "e2ef3af3",
      "metadata": {
        "id": "e2ef3af3"
      },
      "outputs": [],
      "source": [
        "from sklearn.svm import SVC\n",
        "from sklearn.metrics import accuracy_score, classification_report, confusion_matrix, f1_score"
      ]
    },
    {
      "cell_type": "markdown",
      "id": "1eacfb90",
      "metadata": {
        "id": "1eacfb90"
      },
      "source": [
        "#### SVC Model Training\n",
        "\n",
        "#### Instantiate the SVC model with specific hyperparameters:\n",
        "1. kernel = 'linear' : Specifies the use of a linear kernel. This is suitable for text classification tasks where the feature space is high-dimensional. A linear kernel helps in finding a linear decision boundary in this space.\n",
        "\n",
        "2. C = 10 : The regularization parameter. A larger value of C implies a smaller margin. Here, it is set to 10 to penalize misclassifications more, which can be useful for imbalanced datasets.\n",
        "\n",
        "3. gamma = 0.0001 : Kernel coefficient for 'rbf', 'poly', and 'sigmoid'. For a linear kernel, it's not used but specified for completeness.\n",
        "\n",
        "4. class_weight = 'balanced': Adjusts weights inversely proportional to class frequencies in the input data. This is important for handling imbalanced datasets, ensuring that the model does not bias towards the majority class."
      ]
    },
    {
      "cell_type": "code",
      "execution_count": 12,
      "id": "eaf5bd4f",
      "metadata": {
        "id": "eaf5bd4f"
      },
      "outputs": [],
      "source": [
        "svc = SVC(kernel='linear', C=10, gamma=0.0001, class_weight='balanced')"
      ]
    },
    {
      "cell_type": "markdown",
      "id": "dee5f26a",
      "metadata": {
        "id": "dee5f26a"
      },
      "source": [
        "#### Fit the model on the training data.\n",
        "1. x_train: Feature vectors of the training data.\n",
        "2. y_train: Target values (class labels) for the training samples."
      ]
    },
    {
      "cell_type": "code",
      "execution_count": 13,
      "id": "615c360f",
      "metadata": {
        "colab": {
          "base_uri": "https://localhost:8080/",
          "height": 74
        },
        "id": "615c360f",
        "outputId": "28736804-28b9-4c68-ff2c-846fe5115173"
      },
      "outputs": [
        {
          "output_type": "execute_result",
          "data": {
            "text/plain": [
              "SVC(C=10, class_weight='balanced', gamma=0.0001, kernel='linear')"
            ],
            "text/html": [
              "<style>#sk-container-id-1 {color: black;background-color: white;}#sk-container-id-1 pre{padding: 0;}#sk-container-id-1 div.sk-toggleable {background-color: white;}#sk-container-id-1 label.sk-toggleable__label {cursor: pointer;display: block;width: 100%;margin-bottom: 0;padding: 0.3em;box-sizing: border-box;text-align: center;}#sk-container-id-1 label.sk-toggleable__label-arrow:before {content: \"▸\";float: left;margin-right: 0.25em;color: #696969;}#sk-container-id-1 label.sk-toggleable__label-arrow:hover:before {color: black;}#sk-container-id-1 div.sk-estimator:hover label.sk-toggleable__label-arrow:before {color: black;}#sk-container-id-1 div.sk-toggleable__content {max-height: 0;max-width: 0;overflow: hidden;text-align: left;background-color: #f0f8ff;}#sk-container-id-1 div.sk-toggleable__content pre {margin: 0.2em;color: black;border-radius: 0.25em;background-color: #f0f8ff;}#sk-container-id-1 input.sk-toggleable__control:checked~div.sk-toggleable__content {max-height: 200px;max-width: 100%;overflow: auto;}#sk-container-id-1 input.sk-toggleable__control:checked~label.sk-toggleable__label-arrow:before {content: \"▾\";}#sk-container-id-1 div.sk-estimator input.sk-toggleable__control:checked~label.sk-toggleable__label {background-color: #d4ebff;}#sk-container-id-1 div.sk-label input.sk-toggleable__control:checked~label.sk-toggleable__label {background-color: #d4ebff;}#sk-container-id-1 input.sk-hidden--visually {border: 0;clip: rect(1px 1px 1px 1px);clip: rect(1px, 1px, 1px, 1px);height: 1px;margin: -1px;overflow: hidden;padding: 0;position: absolute;width: 1px;}#sk-container-id-1 div.sk-estimator {font-family: monospace;background-color: #f0f8ff;border: 1px dotted black;border-radius: 0.25em;box-sizing: border-box;margin-bottom: 0.5em;}#sk-container-id-1 div.sk-estimator:hover {background-color: #d4ebff;}#sk-container-id-1 div.sk-parallel-item::after {content: \"\";width: 100%;border-bottom: 1px solid gray;flex-grow: 1;}#sk-container-id-1 div.sk-label:hover label.sk-toggleable__label {background-color: #d4ebff;}#sk-container-id-1 div.sk-serial::before {content: \"\";position: absolute;border-left: 1px solid gray;box-sizing: border-box;top: 0;bottom: 0;left: 50%;z-index: 0;}#sk-container-id-1 div.sk-serial {display: flex;flex-direction: column;align-items: center;background-color: white;padding-right: 0.2em;padding-left: 0.2em;position: relative;}#sk-container-id-1 div.sk-item {position: relative;z-index: 1;}#sk-container-id-1 div.sk-parallel {display: flex;align-items: stretch;justify-content: center;background-color: white;position: relative;}#sk-container-id-1 div.sk-item::before, #sk-container-id-1 div.sk-parallel-item::before {content: \"\";position: absolute;border-left: 1px solid gray;box-sizing: border-box;top: 0;bottom: 0;left: 50%;z-index: -1;}#sk-container-id-1 div.sk-parallel-item {display: flex;flex-direction: column;z-index: 1;position: relative;background-color: white;}#sk-container-id-1 div.sk-parallel-item:first-child::after {align-self: flex-end;width: 50%;}#sk-container-id-1 div.sk-parallel-item:last-child::after {align-self: flex-start;width: 50%;}#sk-container-id-1 div.sk-parallel-item:only-child::after {width: 0;}#sk-container-id-1 div.sk-dashed-wrapped {border: 1px dashed gray;margin: 0 0.4em 0.5em 0.4em;box-sizing: border-box;padding-bottom: 0.4em;background-color: white;}#sk-container-id-1 div.sk-label label {font-family: monospace;font-weight: bold;display: inline-block;line-height: 1.2em;}#sk-container-id-1 div.sk-label-container {text-align: center;}#sk-container-id-1 div.sk-container {/* jupyter's `normalize.less` sets `[hidden] { display: none; }` but bootstrap.min.css set `[hidden] { display: none !important; }` so we also need the `!important` here to be able to override the default hidden behavior on the sphinx rendered scikit-learn.org. See: https://github.com/scikit-learn/scikit-learn/issues/21755 */display: inline-block !important;position: relative;}#sk-container-id-1 div.sk-text-repr-fallback {display: none;}</style><div id=\"sk-container-id-1\" class=\"sk-top-container\"><div class=\"sk-text-repr-fallback\"><pre>SVC(C=10, class_weight=&#x27;balanced&#x27;, gamma=0.0001, kernel=&#x27;linear&#x27;)</pre><b>In a Jupyter environment, please rerun this cell to show the HTML representation or trust the notebook. <br />On GitHub, the HTML representation is unable to render, please try loading this page with nbviewer.org.</b></div><div class=\"sk-container\" hidden><div class=\"sk-item\"><div class=\"sk-estimator sk-toggleable\"><input class=\"sk-toggleable__control sk-hidden--visually\" id=\"sk-estimator-id-1\" type=\"checkbox\" checked><label for=\"sk-estimator-id-1\" class=\"sk-toggleable__label sk-toggleable__label-arrow\">SVC</label><div class=\"sk-toggleable__content\"><pre>SVC(C=10, class_weight=&#x27;balanced&#x27;, gamma=0.0001, kernel=&#x27;linear&#x27;)</pre></div></div></div></div></div>"
            ]
          },
          "metadata": {},
          "execution_count": 13
        }
      ],
      "source": [
        "svc.fit(x_train, y_train)"
      ]
    },
    {
      "cell_type": "markdown",
      "id": "adf5955d",
      "metadata": {
        "id": "adf5955d"
      },
      "source": [
        "#### Model Prediction and Evaluation\n",
        "\n",
        "1. Predict the class labels for the test set.\n",
        "2. x_test: Feature vectors of the test data."
      ]
    },
    {
      "cell_type": "code",
      "execution_count": 14,
      "id": "cb40c863",
      "metadata": {
        "colab": {
          "base_uri": "https://localhost:8080/"
        },
        "id": "cb40c863",
        "outputId": "24af7625-0eda-46b1-a448-093ab5472d76"
      },
      "outputs": [
        {
          "output_type": "stream",
          "name": "stdout",
          "text": [
            "Accuracy: 0.548767022451233\n",
            "              precision    recall  f1-score   support\n",
            "\n",
            "           0       0.89      0.72      0.79       134\n",
            "           1       0.78      0.82      0.80       194\n",
            "           2       0.44      0.54      0.48       162\n",
            "           3       0.43      0.31      0.36       150\n",
            "           4       0.68      0.71      0.70       153\n",
            "           5       0.63      0.62      0.62        39\n",
            "           6       0.74      0.83      0.79       291\n",
            "           7       0.00      0.00      0.00         1\n",
            "           8       0.62      0.73      0.67       211\n",
            "           9       0.90      0.38      0.54        47\n",
            "          10       0.43      0.27      0.33        22\n",
            "          11       0.56      0.43      0.49       134\n",
            "          12       0.75      0.19      0.30        32\n",
            "          13       0.53      0.58      0.55       201\n",
            "          14       0.62      0.50      0.55       210\n",
            "          15       0.65      0.39      0.49        51\n",
            "          16       0.44      0.40      0.42       108\n",
            "          17       0.50      0.23      0.31       123\n",
            "          18       0.29      0.39      0.33       454\n",
            "\n",
            "    accuracy                           0.55      2717\n",
            "   macro avg       0.57      0.47      0.50      2717\n",
            "weighted avg       0.57      0.55      0.55      2717\n",
            "\n",
            "[[ 96   9   2   2   1   0   1   0   3   0   0   2   0   4   1   0   1   1\n",
            "   11]\n",
            " [  4 160   1   2   0   0   0   0  10   0   0   1   0   2   0   0   3   0\n",
            "   11]\n",
            " [  0   3  87  11   5   0   0   0   6   0   2   1   2   6   4   0   1   2\n",
            "   32]\n",
            " [  0   0  27  47   0   0   4   0   0   0   0   8   0  12   4   0   0   2\n",
            "   46]\n",
            " [  0   0   4   2 109   2   9   0   7   0   0   0   0   3   0   0   1   0\n",
            "   16]\n",
            " [  0   0   0   0   8  24   0   0   0   0   0   0   0   1   0   0   0   0\n",
            "    6]\n",
            " [  0   0   5   1  13   2 242   0   1   0   0   0   0   1   1   0   0   0\n",
            "   25]\n",
            " [  0   0   0   0   0   0   0   0   0   0   0   0   0   0   0   0   0   0\n",
            "    1]\n",
            " [  1   5   7   2   1   0   6   0 153   0   0   2   0   1   2   0   6   1\n",
            "   24]\n",
            " [  1   1   1   3   1   0   0   0   1  18   0   0   0   2   0   0   2   1\n",
            "   16]\n",
            " [  0   1   0   0   0   0   0   0   0   0   6   3   0   1   1   0   1   0\n",
            "    9]\n",
            " [  0   0   9   7   0   1   5   0   6   0   1  57   0   5   2   0   4   1\n",
            "   36]\n",
            " [  0   0   1   0   0   0   0   0   2   0   0   1   6   5   2   1   0   0\n",
            "   14]\n",
            " [  0   3   7   4   1   0   0   0   9   0   2   1   0 116   5   0   6   2\n",
            "   45]\n",
            " [  0   1  10   6   0   2   3   0   6   0   1   2   0  10 104   7   2   4\n",
            "   52]\n",
            " [  0   0   2   2   0   0   0   0   4   0   0   1   0   0   9  20   1   0\n",
            "   12]\n",
            " [  1   6   2   0   1   0   1   0   7   0   0   0   0   3   3   0  43   5\n",
            "   36]\n",
            " [  1   1   7   5   1   1   6   0   7   0   0   5   0   6   3   0   9  28\n",
            "   43]\n",
            " [  4  14  27  15  19   6  48   0  26   2   2  17   0  42  28   3  17   9\n",
            "  175]]\n"
          ]
        }
      ],
      "source": [
        "y_pred = svc.predict(x_test)\n",
        "accuracy = accuracy_score(y_test, y_pred)\n",
        "\n",
        "#printing the performance metric scores.\n",
        "print(\"Accuracy:\", accuracy)\n",
        "print(classification_report(y_test, y_pred, zero_division=0))\n",
        "print(confusion_matrix(y_test, y_pred))"
      ]
    },
    {
      "cell_type": "markdown",
      "id": "2e362960",
      "metadata": {
        "id": "2e362960"
      },
      "source": [
        "#### Calculate and print the F1 score:\n",
        "1. The F1 score is the harmonic mean of precision and recall, providing a balance between them.\n",
        "2. It's particularly useful in the evaluation of binary classification systems, where the class distribution is imbalanced."
      ]
    },
    {
      "cell_type": "code",
      "execution_count": 15,
      "id": "b734140b",
      "metadata": {
        "colab": {
          "base_uri": "https://localhost:8080/"
        },
        "id": "b734140b",
        "outputId": "2273d037-9ab3-464e-e562-835b067c2419"
      },
      "outputs": [
        {
          "output_type": "stream",
          "name": "stdout",
          "text": [
            "0.548767022451233\n"
          ]
        }
      ],
      "source": [
        "f1score = f1_score(y_test, y_pred, average='micro', labels=np.unique(y_train))\n",
        "print(f1score)"
      ]
    },
    {
      "cell_type": "markdown",
      "id": "75f5c610",
      "metadata": {
        "id": "75f5c610"
      },
      "source": [
        "#### Calculate F1 score for each relation:\n",
        "1. This step calculates the F1 score for each class individually, providing insights into the model's performance on a per-class basis. This can highlight which classes are well-predicted by the model and which are not."
      ]
    },
    {
      "cell_type": "code",
      "execution_count": 16,
      "id": "46bee2da",
      "metadata": {
        "colab": {
          "base_uri": "https://localhost:8080/"
        },
        "id": "46bee2da",
        "outputId": "0f40dec1-b2e5-49b0-bfc3-6d1bb63b5c32"
      },
      "outputs": [
        {
          "output_type": "stream",
          "name": "stdout",
          "text": [
            "Relation: 0, F1 Score: 0.793388429752066\n",
            "Relation: 1, F1 Score: 0.8040201005025125\n",
            "Relation: 2, F1 Score: 0.481994459833795\n",
            "Relation: 3, F1 Score: 0.362934362934363\n",
            "Relation: 4, F1 Score: 0.6964856230031949\n",
            "Relation: 5, F1 Score: 0.6233766233766234\n",
            "Relation: 6, F1 Score: 0.7857142857142857\n",
            "Relation: 7, F1 Score: 0.0\n",
            "Relation: 8, F1 Score: 0.6666666666666667\n",
            "Relation: 9, F1 Score: 0.5373134328358209\n",
            "Relation: 10, F1 Score: 0.33333333333333326\n",
            "Relation: 11, F1 Score: 0.4851063829787234\n",
            "Relation: 12, F1 Score: 0.3\n",
            "Relation: 13, F1 Score: 0.5510688836104513\n",
            "Relation: 14, F1 Score: 0.5488126649076518\n",
            "Relation: 15, F1 Score: 0.4878048780487804\n",
            "Relation: 16, F1 Score: 0.41951219512195115\n",
            "Relation: 17, F1 Score: 0.3128491620111732\n",
            "Relation: 18, F1 Score: 0.3289473684210526\n"
          ]
        }
      ],
      "source": [
        "f1_score_per_relation = f1_score(y_test, y_pred, average=None, labels=np.unique(y_train))\n",
        "# Print F1 score for each relation\n",
        "relations = le.inverse_transform(range(len(le.classes_)))\n",
        "for relation, score in zip(relations, f1_score_per_relation):\n",
        "    print(f\"Relation: {relation}, F1 Score: {score}\")"
      ]
    },
    {
      "cell_type": "markdown",
      "id": "206b792e",
      "metadata": {
        "id": "206b792e"
      },
      "source": [
        "#### Import the necessary modules from scikit-learn for creating ensemble models"
      ]
    },
    {
      "cell_type": "code",
      "execution_count": 17,
      "id": "06154144",
      "metadata": {
        "id": "06154144"
      },
      "outputs": [],
      "source": [
        "from sklearn.ensemble import RandomForestClassifier\n",
        "from sklearn.ensemble import StackingClassifier"
      ]
    },
    {
      "cell_type": "markdown",
      "id": "9de81a52",
      "metadata": {
        "id": "9de81a52"
      },
      "source": [
        "#### Stacking Classifier Setup\n",
        "\n",
        "1. The Stacking Classifier is an ensemble learning technique that combines multiple classification models via a final estimator. Here, we use RandomForest and SVC as base models and another SVC as the final estimator.\n",
        "2. Define base models for the stacking classifier.\n",
        "3. Each model is defined as a tuple consisting of a unique name and the model instance."
      ]
    },
    {
      "cell_type": "code",
      "execution_count": 18,
      "id": "df876ca5",
      "metadata": {
        "id": "df876ca5"
      },
      "outputs": [],
      "source": [
        "base_models = [\n",
        "    ('rf', RandomForestClassifier(n_estimators=100, random_state=151)),\n",
        "    ('svc', SVC(probability=True, kernel='linear', random_state=151))\n",
        "]"
      ]
    },
    {
      "cell_type": "markdown",
      "id": "12672d05",
      "metadata": {
        "id": "12672d05"
      },
      "source": [
        "### Defining the final model.\n",
        "\n",
        "1. The final model (meta-learner) takes in the outputs of the base models as input and makes the final prediction.\n",
        "2. Here, we are using another SVC, but with a radial basis function (rbf) kernel."
      ]
    },
    {
      "cell_type": "code",
      "execution_count": 19,
      "id": "bb420b47",
      "metadata": {
        "colab": {
          "base_uri": "https://localhost:8080/",
          "height": 320
        },
        "id": "bb420b47",
        "outputId": "77807daf-201e-4450-d3bd-833f6ffb0247"
      },
      "outputs": [
        {
          "output_type": "stream",
          "name": "stderr",
          "text": [
            "/usr/local/lib/python3.10/dist-packages/sklearn/model_selection/_split.py:700: UserWarning: The least populated class in y has only 1 members, which is less than n_splits=5.\n",
            "  warnings.warn(\n",
            "/usr/local/lib/python3.10/dist-packages/sklearn/model_selection/_validation.py:1116: RuntimeWarning: Number of classes in training fold (18) does not match total number of classes (19). Results may not be appropriate for your use case. To fix this, use a cross-validation technique resulting in properly stratified folds\n",
            "  warnings.warn(\n",
            "/usr/local/lib/python3.10/dist-packages/sklearn/model_selection/_split.py:700: UserWarning: The least populated class in y has only 1 members, which is less than n_splits=5.\n",
            "  warnings.warn(\n",
            "/usr/local/lib/python3.10/dist-packages/sklearn/model_selection/_validation.py:1116: RuntimeWarning: Number of classes in training fold (18) does not match total number of classes (19). Results may not be appropriate for your use case. To fix this, use a cross-validation technique resulting in properly stratified folds\n",
            "  warnings.warn(\n"
          ]
        },
        {
          "output_type": "execute_result",
          "data": {
            "text/plain": [
              "StackingClassifier(cv=5,\n",
              "                   estimators=[('rf', RandomForestClassifier(random_state=151)),\n",
              "                               ('svc',\n",
              "                                SVC(kernel='linear', probability=True,\n",
              "                                    random_state=151))],\n",
              "                   final_estimator=SVC(probability=True, random_state=42))"
            ],
            "text/html": [
              "<style>#sk-container-id-2 {color: black;background-color: white;}#sk-container-id-2 pre{padding: 0;}#sk-container-id-2 div.sk-toggleable {background-color: white;}#sk-container-id-2 label.sk-toggleable__label {cursor: pointer;display: block;width: 100%;margin-bottom: 0;padding: 0.3em;box-sizing: border-box;text-align: center;}#sk-container-id-2 label.sk-toggleable__label-arrow:before {content: \"▸\";float: left;margin-right: 0.25em;color: #696969;}#sk-container-id-2 label.sk-toggleable__label-arrow:hover:before {color: black;}#sk-container-id-2 div.sk-estimator:hover label.sk-toggleable__label-arrow:before {color: black;}#sk-container-id-2 div.sk-toggleable__content {max-height: 0;max-width: 0;overflow: hidden;text-align: left;background-color: #f0f8ff;}#sk-container-id-2 div.sk-toggleable__content pre {margin: 0.2em;color: black;border-radius: 0.25em;background-color: #f0f8ff;}#sk-container-id-2 input.sk-toggleable__control:checked~div.sk-toggleable__content {max-height: 200px;max-width: 100%;overflow: auto;}#sk-container-id-2 input.sk-toggleable__control:checked~label.sk-toggleable__label-arrow:before {content: \"▾\";}#sk-container-id-2 div.sk-estimator input.sk-toggleable__control:checked~label.sk-toggleable__label {background-color: #d4ebff;}#sk-container-id-2 div.sk-label input.sk-toggleable__control:checked~label.sk-toggleable__label {background-color: #d4ebff;}#sk-container-id-2 input.sk-hidden--visually {border: 0;clip: rect(1px 1px 1px 1px);clip: rect(1px, 1px, 1px, 1px);height: 1px;margin: -1px;overflow: hidden;padding: 0;position: absolute;width: 1px;}#sk-container-id-2 div.sk-estimator {font-family: monospace;background-color: #f0f8ff;border: 1px dotted black;border-radius: 0.25em;box-sizing: border-box;margin-bottom: 0.5em;}#sk-container-id-2 div.sk-estimator:hover {background-color: #d4ebff;}#sk-container-id-2 div.sk-parallel-item::after {content: \"\";width: 100%;border-bottom: 1px solid gray;flex-grow: 1;}#sk-container-id-2 div.sk-label:hover label.sk-toggleable__label {background-color: #d4ebff;}#sk-container-id-2 div.sk-serial::before {content: \"\";position: absolute;border-left: 1px solid gray;box-sizing: border-box;top: 0;bottom: 0;left: 50%;z-index: 0;}#sk-container-id-2 div.sk-serial {display: flex;flex-direction: column;align-items: center;background-color: white;padding-right: 0.2em;padding-left: 0.2em;position: relative;}#sk-container-id-2 div.sk-item {position: relative;z-index: 1;}#sk-container-id-2 div.sk-parallel {display: flex;align-items: stretch;justify-content: center;background-color: white;position: relative;}#sk-container-id-2 div.sk-item::before, #sk-container-id-2 div.sk-parallel-item::before {content: \"\";position: absolute;border-left: 1px solid gray;box-sizing: border-box;top: 0;bottom: 0;left: 50%;z-index: -1;}#sk-container-id-2 div.sk-parallel-item {display: flex;flex-direction: column;z-index: 1;position: relative;background-color: white;}#sk-container-id-2 div.sk-parallel-item:first-child::after {align-self: flex-end;width: 50%;}#sk-container-id-2 div.sk-parallel-item:last-child::after {align-self: flex-start;width: 50%;}#sk-container-id-2 div.sk-parallel-item:only-child::after {width: 0;}#sk-container-id-2 div.sk-dashed-wrapped {border: 1px dashed gray;margin: 0 0.4em 0.5em 0.4em;box-sizing: border-box;padding-bottom: 0.4em;background-color: white;}#sk-container-id-2 div.sk-label label {font-family: monospace;font-weight: bold;display: inline-block;line-height: 1.2em;}#sk-container-id-2 div.sk-label-container {text-align: center;}#sk-container-id-2 div.sk-container {/* jupyter's `normalize.less` sets `[hidden] { display: none; }` but bootstrap.min.css set `[hidden] { display: none !important; }` so we also need the `!important` here to be able to override the default hidden behavior on the sphinx rendered scikit-learn.org. See: https://github.com/scikit-learn/scikit-learn/issues/21755 */display: inline-block !important;position: relative;}#sk-container-id-2 div.sk-text-repr-fallback {display: none;}</style><div id=\"sk-container-id-2\" class=\"sk-top-container\"><div class=\"sk-text-repr-fallback\"><pre>StackingClassifier(cv=5,\n",
              "                   estimators=[(&#x27;rf&#x27;, RandomForestClassifier(random_state=151)),\n",
              "                               (&#x27;svc&#x27;,\n",
              "                                SVC(kernel=&#x27;linear&#x27;, probability=True,\n",
              "                                    random_state=151))],\n",
              "                   final_estimator=SVC(probability=True, random_state=42))</pre><b>In a Jupyter environment, please rerun this cell to show the HTML representation or trust the notebook. <br />On GitHub, the HTML representation is unable to render, please try loading this page with nbviewer.org.</b></div><div class=\"sk-container\" hidden><div class=\"sk-item sk-dashed-wrapped\"><div class=\"sk-label-container\"><div class=\"sk-label sk-toggleable\"><input class=\"sk-toggleable__control sk-hidden--visually\" id=\"sk-estimator-id-2\" type=\"checkbox\" ><label for=\"sk-estimator-id-2\" class=\"sk-toggleable__label sk-toggleable__label-arrow\">StackingClassifier</label><div class=\"sk-toggleable__content\"><pre>StackingClassifier(cv=5,\n",
              "                   estimators=[(&#x27;rf&#x27;, RandomForestClassifier(random_state=151)),\n",
              "                               (&#x27;svc&#x27;,\n",
              "                                SVC(kernel=&#x27;linear&#x27;, probability=True,\n",
              "                                    random_state=151))],\n",
              "                   final_estimator=SVC(probability=True, random_state=42))</pre></div></div></div><div class=\"sk-serial\"><div class=\"sk-item\"><div class=\"sk-parallel\"><div class=\"sk-parallel-item\"><div class=\"sk-item\"><div class=\"sk-label-container\"><div class=\"sk-label sk-toggleable\"><label>rf</label></div></div><div class=\"sk-serial\"><div class=\"sk-item\"><div class=\"sk-estimator sk-toggleable\"><input class=\"sk-toggleable__control sk-hidden--visually\" id=\"sk-estimator-id-3\" type=\"checkbox\" ><label for=\"sk-estimator-id-3\" class=\"sk-toggleable__label sk-toggleable__label-arrow\">RandomForestClassifier</label><div class=\"sk-toggleable__content\"><pre>RandomForestClassifier(random_state=151)</pre></div></div></div></div></div></div><div class=\"sk-parallel-item\"><div class=\"sk-item\"><div class=\"sk-label-container\"><div class=\"sk-label sk-toggleable\"><label>svc</label></div></div><div class=\"sk-serial\"><div class=\"sk-item\"><div class=\"sk-estimator sk-toggleable\"><input class=\"sk-toggleable__control sk-hidden--visually\" id=\"sk-estimator-id-4\" type=\"checkbox\" ><label for=\"sk-estimator-id-4\" class=\"sk-toggleable__label sk-toggleable__label-arrow\">SVC</label><div class=\"sk-toggleable__content\"><pre>SVC(kernel=&#x27;linear&#x27;, probability=True, random_state=151)</pre></div></div></div></div></div></div></div></div><div class=\"sk-item\"><div class=\"sk-parallel\"><div class=\"sk-parallel-item\"><div class=\"sk-item\"><div class=\"sk-label-container\"><div class=\"sk-label sk-toggleable\"><label>final_estimator</label></div></div><div class=\"sk-serial\"><div class=\"sk-item\"><div class=\"sk-estimator sk-toggleable\"><input class=\"sk-toggleable__control sk-hidden--visually\" id=\"sk-estimator-id-5\" type=\"checkbox\" ><label for=\"sk-estimator-id-5\" class=\"sk-toggleable__label sk-toggleable__label-arrow\">SVC</label><div class=\"sk-toggleable__content\"><pre>SVC(probability=True, random_state=42)</pre></div></div></div></div></div></div></div></div></div></div></div></div>"
            ]
          },
          "metadata": {},
          "execution_count": 19
        }
      ],
      "source": [
        "final_model = SVC(kernel='rbf', probability=True, C=1.0, random_state=42)\n",
        "stacking_model = StackingClassifier(estimators=base_models, final_estimator=final_model, cv=5)\n",
        "stacking_model.fit(x_train, y_train)"
      ]
    },
    {
      "cell_type": "markdown",
      "id": "062bb3b7",
      "metadata": {
        "id": "062bb3b7"
      },
      "source": [
        "#### Model Prediction and Evaluation\n",
        "\n",
        "1. Predict the class labels for the test set using the trained stacking model.\n",
        "2. The predictions are based on the combined strategy of the base models followed by the final model's decision."
      ]
    },
    {
      "cell_type": "code",
      "execution_count": 20,
      "id": "9212883e",
      "metadata": {
        "id": "9212883e"
      },
      "outputs": [],
      "source": [
        "y_pred_stack = stacking_model.predict(x_test)"
      ]
    },
    {
      "cell_type": "code",
      "execution_count": 21,
      "id": "ecb929f2",
      "metadata": {
        "colab": {
          "base_uri": "https://localhost:8080/"
        },
        "id": "ecb929f2",
        "outputId": "7a8c883c-e31f-4e12-b828-c1f3a0699084"
      },
      "outputs": [
        {
          "output_type": "stream",
          "name": "stdout",
          "text": [
            "Accuracy: 0.5800515274199485\n",
            "              precision    recall  f1-score   support\n",
            "\n",
            "           0       0.92      0.73      0.82       134\n",
            "           1       0.77      0.85      0.81       194\n",
            "           2       0.45      0.54      0.49       162\n",
            "           3       0.59      0.31      0.41       150\n",
            "           4       0.68      0.78      0.72       153\n",
            "           5       0.65      0.72      0.68        39\n",
            "           6       0.73      0.88      0.80       291\n",
            "           7       0.00      0.00      0.00         1\n",
            "           8       0.60      0.79      0.68       211\n",
            "           9       0.74      0.66      0.70        47\n",
            "          10       0.37      0.45      0.41        22\n",
            "          11       0.62      0.49      0.55       134\n",
            "          12       0.36      0.25      0.30        32\n",
            "          13       0.55      0.66      0.60       201\n",
            "          14       0.64      0.58      0.61       210\n",
            "          15       0.69      0.49      0.57        51\n",
            "          16       0.42      0.47      0.45       108\n",
            "          17       0.49      0.24      0.33       123\n",
            "          18       0.31      0.30      0.31       454\n",
            "\n",
            "    accuracy                           0.58      2717\n",
            "   macro avg       0.56      0.54      0.54      2717\n",
            "weighted avg       0.58      0.58      0.57      2717\n",
            "\n",
            "[[ 98  12   1   0   1   0   1   0   3   0   0   1   0   1   2   0   1   0\n",
            "   13]\n",
            " [  2 164   1   0   0   0   0   0  12   0   0   0   0   3   0   0   4   0\n",
            "    8]\n",
            " [  0   2  87   6   9   0   1   0  10   0   3   2   3   7   6   0   2   1\n",
            "   23]\n",
            " [  0   0  27  47   0   0   6   0   0   0   1   9   0  12   4   0   0   5\n",
            "   39]\n",
            " [  0   0   3   1 119   3   6   0   4   1   0   0   0   2   0   0   0   0\n",
            "   14]\n",
            " [  0   0   0   2   4  28   0   0   0   0   0   0   0   0   0   0   0   0\n",
            "    5]\n",
            " [  0   0   4   1  11   1 256   0   0   0   0   0   0   0   1   0   0   0\n",
            "   17]\n",
            " [  0   0   0   0   0   0   0   0   0   0   0   0   0   0   0   0   0   0\n",
            "    1]\n",
            " [  1   7   7   0   2   0   7   0 166   2   1   1   0   2   1   0   6   0\n",
            "    8]\n",
            " [  0   0   0   0   0   0   1   0   1  31   0   0   0   3   0   0   3   1\n",
            "    7]\n",
            " [  0   0   0   0   0   0   0   0   0   0  10   3   0   2   0   0   1   0\n",
            "    6]\n",
            " [  0   2   8   6   0   1   9   0   6   0   2  66   0   6   0   0   4   1\n",
            "   23]\n",
            " [  0   0   2   0   1   0   2   0   2   0   0   0   8   4   2   1   0   0\n",
            "   10]\n",
            " [  0   2   8   3   3   0   1   0  11   0   2   1   2 133   3   0   6   2\n",
            "   24]\n",
            " [  0   0  10   1   0   2   4   0  10   1   2   0   0  10 121   6   5   5\n",
            "   33]\n",
            " [  0   0   2   0   1   0   0   0   3   0   0   0   0   0   7  25   1   0\n",
            "   12]\n",
            " [  1   7   1   1   1   0   3   0   8   0   2   0   1   2   3   0  51   8\n",
            "   19]\n",
            " [  0   2   7   5   1   1   5   0   6   0   1   3   0  10   6   0  11  30\n",
            "   35]\n",
            " [  4  14  24   7  23   7  49   0  36   7   3  20   8  46  33   4  25   8\n",
            "  136]]\n"
          ]
        }
      ],
      "source": [
        "accuracy = accuracy_score(y_test, y_pred_stack)\n",
        "print(\"Accuracy:\", accuracy)\n",
        "print(classification_report(y_test, y_pred_stack, zero_division=0))\n",
        "print(confusion_matrix(y_test, y_pred_stack))"
      ]
    },
    {
      "cell_type": "code",
      "execution_count": 22,
      "id": "936fa55a",
      "metadata": {
        "colab": {
          "base_uri": "https://localhost:8080/"
        },
        "id": "936fa55a",
        "outputId": "28298b26-8fcd-4748-ce84-4a89bef39a10"
      },
      "outputs": [
        {
          "output_type": "stream",
          "name": "stdout",
          "text": [
            "0.5800515274199485\n"
          ]
        }
      ],
      "source": [
        "# Micro - F1 score calculation.\n",
        "f1scores = f1_score(y_test, y_pred_stack, average='micro', labels=np.unique(y_train))\n",
        "print(f1scores)"
      ]
    },
    {
      "cell_type": "code",
      "execution_count": 23,
      "id": "339bbfe6",
      "metadata": {
        "colab": {
          "base_uri": "https://localhost:8080/"
        },
        "id": "339bbfe6",
        "outputId": "29773430-57d0-43a3-bd5d-990b2fbe1188"
      },
      "outputs": [
        {
          "output_type": "stream",
          "name": "stdout",
          "text": [
            "Relation: 0, F1 Score: 0.8166666666666667\n",
            "Relation: 1, F1 Score: 0.8078817733990147\n",
            "Relation: 2, F1 Score: 0.4915254237288136\n",
            "Relation: 3, F1 Score: 0.40869565217391307\n",
            "Relation: 4, F1 Score: 0.723404255319149\n",
            "Relation: 5, F1 Score: 0.6829268292682927\n",
            "Relation: 6, F1 Score: 0.7975077881619937\n",
            "Relation: 7, F1 Score: 0.0\n",
            "Relation: 8, F1 Score: 0.6789366053169734\n",
            "Relation: 9, F1 Score: 0.6966292134831461\n",
            "Relation: 10, F1 Score: 0.40816326530612246\n",
            "Relation: 11, F1 Score: 0.55\n",
            "Relation: 12, F1 Score: 0.2962962962962963\n",
            "Relation: 13, F1 Score: 0.5990990990990992\n",
            "Relation: 14, F1 Score: 0.606516290726817\n",
            "Relation: 15, F1 Score: 0.5747126436781609\n",
            "Relation: 16, F1 Score: 0.4473684210526316\n",
            "Relation: 17, F1 Score: 0.32608695652173914\n",
            "Relation: 18, F1 Score: 0.30665163472378804\n"
          ]
        }
      ],
      "source": [
        "# Print F1 score for each relation\n",
        "f1_scores_per_relation = f1_score(y_test, y_pred_stack, average=None, labels=np.unique(y_train))\n",
        "relations = le.inverse_transform(range(len(le.classes_)))\n",
        "for relation, score in zip(relations, f1_scores_per_relation):\n",
        "    print(f\"Relation: {relation}, F1 Score: {score}\")"
      ]
    },
    {
      "cell_type": "markdown",
      "source": [
        "#User Testing"
      ],
      "metadata": {
        "id": "7Y8DCoR3tlYb"
      },
      "id": "7Y8DCoR3tlYb"
    },
    {
      "cell_type": "code",
      "source": [
        "#classify_relation_svm function is being imported from the 'classifier' module and is then used for relation classification.\n",
        "\n",
        "from classifier import classify_relation_svm"
      ],
      "metadata": {
        "id": "8p7jGBfsrfoz"
      },
      "id": "8p7jGBfsrfoz",
      "execution_count": 50,
      "outputs": []
    },
    {
      "cell_type": "code",
      "source": [
        "####################\n",
        "\"\"\" USER TESTING \"\"\"\n",
        "####################\n",
        "\n",
        "# Prompt the user for input in the specified format\n",
        "print(\"Enter a sentence with entities in the format: \\\"The software <e1>company</e1> addressed the problem with the <e2>publication</e2> of a fix on Saturday.\\\"\")\n",
        "\n",
        "\n",
        "\n",
        "\n",
        "user_input = input(\"Enter a sentence for relation classification: \")\n",
        "\n",
        "\n",
        "\n",
        "\n",
        "predicted_relation = classify_relation_svm(user_input,vectorizer, stacking_model)\n",
        "print(f\"Prediction Relation: {predicted_relation}\")\n",
        "\n",
        "# Get the predicted relation label\n",
        "predicted_relation_label = relation_labels_dict[str(predicted_relation)]\n",
        "\n",
        "# Print the result\n",
        "print(f\"Predicted Relation Class Label: {predicted_relation_label}\")"
      ],
      "metadata": {
        "id": "7RRE3gkQvhWx"
      },
      "id": "7RRE3gkQvhWx",
      "execution_count": null,
      "outputs": []
    }
  ],
  "metadata": {
    "kernelspec": {
      "display_name": "Python 3 (ipykernel)",
      "language": "python",
      "name": "python3"
    },
    "language_info": {
      "codemirror_mode": {
        "name": "ipython",
        "version": 3
      },
      "file_extension": ".py",
      "mimetype": "text/x-python",
      "name": "python",
      "nbconvert_exporter": "python",
      "pygments_lexer": "ipython3",
      "version": "3.11.4"
    },
    "colab": {
      "provenance": []
    },
    "widgets": {
      "application/vnd.jupyter.widget-state+json": {
        "1f8db2ba0324458c901522598ebf5cb8": {
          "model_module": "@jupyter-widgets/controls",
          "model_name": "HBoxModel",
          "model_module_version": "1.5.0",
          "state": {
            "_dom_classes": [],
            "_model_module": "@jupyter-widgets/controls",
            "_model_module_version": "1.5.0",
            "_model_name": "HBoxModel",
            "_view_count": null,
            "_view_module": "@jupyter-widgets/controls",
            "_view_module_version": "1.5.0",
            "_view_name": "HBoxView",
            "box_style": "",
            "children": [
              "IPY_MODEL_e88099492d944db5932d85046d5420c5",
              "IPY_MODEL_684a766c935c44cdbd1832f73f44871c",
              "IPY_MODEL_6a59df7e19354f1abce2b67ff5e2c29d"
            ],
            "layout": "IPY_MODEL_da6825ba200f4d7fad92e3029058f453"
          }
        },
        "e88099492d944db5932d85046d5420c5": {
          "model_module": "@jupyter-widgets/controls",
          "model_name": "HTMLModel",
          "model_module_version": "1.5.0",
          "state": {
            "_dom_classes": [],
            "_model_module": "@jupyter-widgets/controls",
            "_model_module_version": "1.5.0",
            "_model_name": "HTMLModel",
            "_view_count": null,
            "_view_module": "@jupyter-widgets/controls",
            "_view_module_version": "1.5.0",
            "_view_name": "HTMLView",
            "description": "",
            "description_tooltip": null,
            "layout": "IPY_MODEL_0ba9380cb775417eb1142e0e292bc18e",
            "placeholder": "​",
            "style": "IPY_MODEL_825caf8fe0db4dbbae7eb3e1cacda6f2",
            "value": "Downloading data: 100%"
          }
        },
        "684a766c935c44cdbd1832f73f44871c": {
          "model_module": "@jupyter-widgets/controls",
          "model_name": "FloatProgressModel",
          "model_module_version": "1.5.0",
          "state": {
            "_dom_classes": [],
            "_model_module": "@jupyter-widgets/controls",
            "_model_module_version": "1.5.0",
            "_model_name": "FloatProgressModel",
            "_view_count": null,
            "_view_module": "@jupyter-widgets/controls",
            "_view_module_version": "1.5.0",
            "_view_name": "ProgressView",
            "bar_style": "success",
            "description": "",
            "description_tooltip": null,
            "layout": "IPY_MODEL_b0d6208e51bc42c6881f220e28f52aec",
            "max": 672958,
            "min": 0,
            "orientation": "horizontal",
            "style": "IPY_MODEL_ab0b3d6014ed439ea9c5e892b24710fb",
            "value": 672958
          }
        },
        "6a59df7e19354f1abce2b67ff5e2c29d": {
          "model_module": "@jupyter-widgets/controls",
          "model_name": "HTMLModel",
          "model_module_version": "1.5.0",
          "state": {
            "_dom_classes": [],
            "_model_module": "@jupyter-widgets/controls",
            "_model_module_version": "1.5.0",
            "_model_name": "HTMLModel",
            "_view_count": null,
            "_view_module": "@jupyter-widgets/controls",
            "_view_module_version": "1.5.0",
            "_view_name": "HTMLView",
            "description": "",
            "description_tooltip": null,
            "layout": "IPY_MODEL_83a28dc93499483a8d7e6fb356bff0d8",
            "placeholder": "​",
            "style": "IPY_MODEL_ebaa412ee0e5438abcacb5cafd108bad",
            "value": " 673k/673k [00:00&lt;00:00, 3.19MB/s]"
          }
        },
        "da6825ba200f4d7fad92e3029058f453": {
          "model_module": "@jupyter-widgets/base",
          "model_name": "LayoutModel",
          "model_module_version": "1.2.0",
          "state": {
            "_model_module": "@jupyter-widgets/base",
            "_model_module_version": "1.2.0",
            "_model_name": "LayoutModel",
            "_view_count": null,
            "_view_module": "@jupyter-widgets/base",
            "_view_module_version": "1.2.0",
            "_view_name": "LayoutView",
            "align_content": null,
            "align_items": null,
            "align_self": null,
            "border": null,
            "bottom": null,
            "display": null,
            "flex": null,
            "flex_flow": null,
            "grid_area": null,
            "grid_auto_columns": null,
            "grid_auto_flow": null,
            "grid_auto_rows": null,
            "grid_column": null,
            "grid_gap": null,
            "grid_row": null,
            "grid_template_areas": null,
            "grid_template_columns": null,
            "grid_template_rows": null,
            "height": null,
            "justify_content": null,
            "justify_items": null,
            "left": null,
            "margin": null,
            "max_height": null,
            "max_width": null,
            "min_height": null,
            "min_width": null,
            "object_fit": null,
            "object_position": null,
            "order": null,
            "overflow": null,
            "overflow_x": null,
            "overflow_y": null,
            "padding": null,
            "right": null,
            "top": null,
            "visibility": null,
            "width": null
          }
        },
        "0ba9380cb775417eb1142e0e292bc18e": {
          "model_module": "@jupyter-widgets/base",
          "model_name": "LayoutModel",
          "model_module_version": "1.2.0",
          "state": {
            "_model_module": "@jupyter-widgets/base",
            "_model_module_version": "1.2.0",
            "_model_name": "LayoutModel",
            "_view_count": null,
            "_view_module": "@jupyter-widgets/base",
            "_view_module_version": "1.2.0",
            "_view_name": "LayoutView",
            "align_content": null,
            "align_items": null,
            "align_self": null,
            "border": null,
            "bottom": null,
            "display": null,
            "flex": null,
            "flex_flow": null,
            "grid_area": null,
            "grid_auto_columns": null,
            "grid_auto_flow": null,
            "grid_auto_rows": null,
            "grid_column": null,
            "grid_gap": null,
            "grid_row": null,
            "grid_template_areas": null,
            "grid_template_columns": null,
            "grid_template_rows": null,
            "height": null,
            "justify_content": null,
            "justify_items": null,
            "left": null,
            "margin": null,
            "max_height": null,
            "max_width": null,
            "min_height": null,
            "min_width": null,
            "object_fit": null,
            "object_position": null,
            "order": null,
            "overflow": null,
            "overflow_x": null,
            "overflow_y": null,
            "padding": null,
            "right": null,
            "top": null,
            "visibility": null,
            "width": null
          }
        },
        "825caf8fe0db4dbbae7eb3e1cacda6f2": {
          "model_module": "@jupyter-widgets/controls",
          "model_name": "DescriptionStyleModel",
          "model_module_version": "1.5.0",
          "state": {
            "_model_module": "@jupyter-widgets/controls",
            "_model_module_version": "1.5.0",
            "_model_name": "DescriptionStyleModel",
            "_view_count": null,
            "_view_module": "@jupyter-widgets/base",
            "_view_module_version": "1.2.0",
            "_view_name": "StyleView",
            "description_width": ""
          }
        },
        "b0d6208e51bc42c6881f220e28f52aec": {
          "model_module": "@jupyter-widgets/base",
          "model_name": "LayoutModel",
          "model_module_version": "1.2.0",
          "state": {
            "_model_module": "@jupyter-widgets/base",
            "_model_module_version": "1.2.0",
            "_model_name": "LayoutModel",
            "_view_count": null,
            "_view_module": "@jupyter-widgets/base",
            "_view_module_version": "1.2.0",
            "_view_name": "LayoutView",
            "align_content": null,
            "align_items": null,
            "align_self": null,
            "border": null,
            "bottom": null,
            "display": null,
            "flex": null,
            "flex_flow": null,
            "grid_area": null,
            "grid_auto_columns": null,
            "grid_auto_flow": null,
            "grid_auto_rows": null,
            "grid_column": null,
            "grid_gap": null,
            "grid_row": null,
            "grid_template_areas": null,
            "grid_template_columns": null,
            "grid_template_rows": null,
            "height": null,
            "justify_content": null,
            "justify_items": null,
            "left": null,
            "margin": null,
            "max_height": null,
            "max_width": null,
            "min_height": null,
            "min_width": null,
            "object_fit": null,
            "object_position": null,
            "order": null,
            "overflow": null,
            "overflow_x": null,
            "overflow_y": null,
            "padding": null,
            "right": null,
            "top": null,
            "visibility": null,
            "width": null
          }
        },
        "ab0b3d6014ed439ea9c5e892b24710fb": {
          "model_module": "@jupyter-widgets/controls",
          "model_name": "ProgressStyleModel",
          "model_module_version": "1.5.0",
          "state": {
            "_model_module": "@jupyter-widgets/controls",
            "_model_module_version": "1.5.0",
            "_model_name": "ProgressStyleModel",
            "_view_count": null,
            "_view_module": "@jupyter-widgets/base",
            "_view_module_version": "1.2.0",
            "_view_name": "StyleView",
            "bar_color": null,
            "description_width": ""
          }
        },
        "83a28dc93499483a8d7e6fb356bff0d8": {
          "model_module": "@jupyter-widgets/base",
          "model_name": "LayoutModel",
          "model_module_version": "1.2.0",
          "state": {
            "_model_module": "@jupyter-widgets/base",
            "_model_module_version": "1.2.0",
            "_model_name": "LayoutModel",
            "_view_count": null,
            "_view_module": "@jupyter-widgets/base",
            "_view_module_version": "1.2.0",
            "_view_name": "LayoutView",
            "align_content": null,
            "align_items": null,
            "align_self": null,
            "border": null,
            "bottom": null,
            "display": null,
            "flex": null,
            "flex_flow": null,
            "grid_area": null,
            "grid_auto_columns": null,
            "grid_auto_flow": null,
            "grid_auto_rows": null,
            "grid_column": null,
            "grid_gap": null,
            "grid_row": null,
            "grid_template_areas": null,
            "grid_template_columns": null,
            "grid_template_rows": null,
            "height": null,
            "justify_content": null,
            "justify_items": null,
            "left": null,
            "margin": null,
            "max_height": null,
            "max_width": null,
            "min_height": null,
            "min_width": null,
            "object_fit": null,
            "object_position": null,
            "order": null,
            "overflow": null,
            "overflow_x": null,
            "overflow_y": null,
            "padding": null,
            "right": null,
            "top": null,
            "visibility": null,
            "width": null
          }
        },
        "ebaa412ee0e5438abcacb5cafd108bad": {
          "model_module": "@jupyter-widgets/controls",
          "model_name": "DescriptionStyleModel",
          "model_module_version": "1.5.0",
          "state": {
            "_model_module": "@jupyter-widgets/controls",
            "_model_module_version": "1.5.0",
            "_model_name": "DescriptionStyleModel",
            "_view_count": null,
            "_view_module": "@jupyter-widgets/base",
            "_view_module_version": "1.2.0",
            "_view_name": "StyleView",
            "description_width": ""
          }
        },
        "1eda0f240cd34f678384038fb489cc7d": {
          "model_module": "@jupyter-widgets/controls",
          "model_name": "HBoxModel",
          "model_module_version": "1.5.0",
          "state": {
            "_dom_classes": [],
            "_model_module": "@jupyter-widgets/controls",
            "_model_module_version": "1.5.0",
            "_model_name": "HBoxModel",
            "_view_count": null,
            "_view_module": "@jupyter-widgets/controls",
            "_view_module_version": "1.5.0",
            "_view_name": "HBoxView",
            "box_style": "",
            "children": [
              "IPY_MODEL_6a52d1d94a894ed7b76091b9b008a0f9",
              "IPY_MODEL_e0e51297a57f49d2b5da8122f657f2e9",
              "IPY_MODEL_f1345bdabff9482cab00bdae3d066b0d"
            ],
            "layout": "IPY_MODEL_ccdb29bf88204accb343f8087a8fe07b"
          }
        },
        "6a52d1d94a894ed7b76091b9b008a0f9": {
          "model_module": "@jupyter-widgets/controls",
          "model_name": "HTMLModel",
          "model_module_version": "1.5.0",
          "state": {
            "_dom_classes": [],
            "_model_module": "@jupyter-widgets/controls",
            "_model_module_version": "1.5.0",
            "_model_name": "HTMLModel",
            "_view_count": null,
            "_view_module": "@jupyter-widgets/controls",
            "_view_module_version": "1.5.0",
            "_view_name": "HTMLView",
            "description": "",
            "description_tooltip": null,
            "layout": "IPY_MODEL_374b892a650c49a2a58a52486876d5f2",
            "placeholder": "​",
            "style": "IPY_MODEL_d70261d7518741bb83d1ed0668437f98",
            "value": "Downloading data: 100%"
          }
        },
        "e0e51297a57f49d2b5da8122f657f2e9": {
          "model_module": "@jupyter-widgets/controls",
          "model_name": "FloatProgressModel",
          "model_module_version": "1.5.0",
          "state": {
            "_dom_classes": [],
            "_model_module": "@jupyter-widgets/controls",
            "_model_module_version": "1.5.0",
            "_model_name": "FloatProgressModel",
            "_view_count": null,
            "_view_module": "@jupyter-widgets/controls",
            "_view_module_version": "1.5.0",
            "_view_name": "ProgressView",
            "bar_style": "success",
            "description": "",
            "description_tooltip": null,
            "layout": "IPY_MODEL_4fb33e6547014e3dad162e864201c6f6",
            "max": 230821,
            "min": 0,
            "orientation": "horizontal",
            "style": "IPY_MODEL_52c391e752604e94a8ddca141bf9ae73",
            "value": 230821
          }
        },
        "f1345bdabff9482cab00bdae3d066b0d": {
          "model_module": "@jupyter-widgets/controls",
          "model_name": "HTMLModel",
          "model_module_version": "1.5.0",
          "state": {
            "_dom_classes": [],
            "_model_module": "@jupyter-widgets/controls",
            "_model_module_version": "1.5.0",
            "_model_name": "HTMLModel",
            "_view_count": null,
            "_view_module": "@jupyter-widgets/controls",
            "_view_module_version": "1.5.0",
            "_view_name": "HTMLView",
            "description": "",
            "description_tooltip": null,
            "layout": "IPY_MODEL_091b65f4b01c4558b6f10daeeb5604c3",
            "placeholder": "​",
            "style": "IPY_MODEL_27359d5710f1444d903d55a3768030bd",
            "value": " 231k/231k [00:00&lt;00:00, 2.67MB/s]"
          }
        },
        "ccdb29bf88204accb343f8087a8fe07b": {
          "model_module": "@jupyter-widgets/base",
          "model_name": "LayoutModel",
          "model_module_version": "1.2.0",
          "state": {
            "_model_module": "@jupyter-widgets/base",
            "_model_module_version": "1.2.0",
            "_model_name": "LayoutModel",
            "_view_count": null,
            "_view_module": "@jupyter-widgets/base",
            "_view_module_version": "1.2.0",
            "_view_name": "LayoutView",
            "align_content": null,
            "align_items": null,
            "align_self": null,
            "border": null,
            "bottom": null,
            "display": null,
            "flex": null,
            "flex_flow": null,
            "grid_area": null,
            "grid_auto_columns": null,
            "grid_auto_flow": null,
            "grid_auto_rows": null,
            "grid_column": null,
            "grid_gap": null,
            "grid_row": null,
            "grid_template_areas": null,
            "grid_template_columns": null,
            "grid_template_rows": null,
            "height": null,
            "justify_content": null,
            "justify_items": null,
            "left": null,
            "margin": null,
            "max_height": null,
            "max_width": null,
            "min_height": null,
            "min_width": null,
            "object_fit": null,
            "object_position": null,
            "order": null,
            "overflow": null,
            "overflow_x": null,
            "overflow_y": null,
            "padding": null,
            "right": null,
            "top": null,
            "visibility": null,
            "width": null
          }
        },
        "374b892a650c49a2a58a52486876d5f2": {
          "model_module": "@jupyter-widgets/base",
          "model_name": "LayoutModel",
          "model_module_version": "1.2.0",
          "state": {
            "_model_module": "@jupyter-widgets/base",
            "_model_module_version": "1.2.0",
            "_model_name": "LayoutModel",
            "_view_count": null,
            "_view_module": "@jupyter-widgets/base",
            "_view_module_version": "1.2.0",
            "_view_name": "LayoutView",
            "align_content": null,
            "align_items": null,
            "align_self": null,
            "border": null,
            "bottom": null,
            "display": null,
            "flex": null,
            "flex_flow": null,
            "grid_area": null,
            "grid_auto_columns": null,
            "grid_auto_flow": null,
            "grid_auto_rows": null,
            "grid_column": null,
            "grid_gap": null,
            "grid_row": null,
            "grid_template_areas": null,
            "grid_template_columns": null,
            "grid_template_rows": null,
            "height": null,
            "justify_content": null,
            "justify_items": null,
            "left": null,
            "margin": null,
            "max_height": null,
            "max_width": null,
            "min_height": null,
            "min_width": null,
            "object_fit": null,
            "object_position": null,
            "order": null,
            "overflow": null,
            "overflow_x": null,
            "overflow_y": null,
            "padding": null,
            "right": null,
            "top": null,
            "visibility": null,
            "width": null
          }
        },
        "d70261d7518741bb83d1ed0668437f98": {
          "model_module": "@jupyter-widgets/controls",
          "model_name": "DescriptionStyleModel",
          "model_module_version": "1.5.0",
          "state": {
            "_model_module": "@jupyter-widgets/controls",
            "_model_module_version": "1.5.0",
            "_model_name": "DescriptionStyleModel",
            "_view_count": null,
            "_view_module": "@jupyter-widgets/base",
            "_view_module_version": "1.2.0",
            "_view_name": "StyleView",
            "description_width": ""
          }
        },
        "4fb33e6547014e3dad162e864201c6f6": {
          "model_module": "@jupyter-widgets/base",
          "model_name": "LayoutModel",
          "model_module_version": "1.2.0",
          "state": {
            "_model_module": "@jupyter-widgets/base",
            "_model_module_version": "1.2.0",
            "_model_name": "LayoutModel",
            "_view_count": null,
            "_view_module": "@jupyter-widgets/base",
            "_view_module_version": "1.2.0",
            "_view_name": "LayoutView",
            "align_content": null,
            "align_items": null,
            "align_self": null,
            "border": null,
            "bottom": null,
            "display": null,
            "flex": null,
            "flex_flow": null,
            "grid_area": null,
            "grid_auto_columns": null,
            "grid_auto_flow": null,
            "grid_auto_rows": null,
            "grid_column": null,
            "grid_gap": null,
            "grid_row": null,
            "grid_template_areas": null,
            "grid_template_columns": null,
            "grid_template_rows": null,
            "height": null,
            "justify_content": null,
            "justify_items": null,
            "left": null,
            "margin": null,
            "max_height": null,
            "max_width": null,
            "min_height": null,
            "min_width": null,
            "object_fit": null,
            "object_position": null,
            "order": null,
            "overflow": null,
            "overflow_x": null,
            "overflow_y": null,
            "padding": null,
            "right": null,
            "top": null,
            "visibility": null,
            "width": null
          }
        },
        "52c391e752604e94a8ddca141bf9ae73": {
          "model_module": "@jupyter-widgets/controls",
          "model_name": "ProgressStyleModel",
          "model_module_version": "1.5.0",
          "state": {
            "_model_module": "@jupyter-widgets/controls",
            "_model_module_version": "1.5.0",
            "_model_name": "ProgressStyleModel",
            "_view_count": null,
            "_view_module": "@jupyter-widgets/base",
            "_view_module_version": "1.2.0",
            "_view_name": "StyleView",
            "bar_color": null,
            "description_width": ""
          }
        },
        "091b65f4b01c4558b6f10daeeb5604c3": {
          "model_module": "@jupyter-widgets/base",
          "model_name": "LayoutModel",
          "model_module_version": "1.2.0",
          "state": {
            "_model_module": "@jupyter-widgets/base",
            "_model_module_version": "1.2.0",
            "_model_name": "LayoutModel",
            "_view_count": null,
            "_view_module": "@jupyter-widgets/base",
            "_view_module_version": "1.2.0",
            "_view_name": "LayoutView",
            "align_content": null,
            "align_items": null,
            "align_self": null,
            "border": null,
            "bottom": null,
            "display": null,
            "flex": null,
            "flex_flow": null,
            "grid_area": null,
            "grid_auto_columns": null,
            "grid_auto_flow": null,
            "grid_auto_rows": null,
            "grid_column": null,
            "grid_gap": null,
            "grid_row": null,
            "grid_template_areas": null,
            "grid_template_columns": null,
            "grid_template_rows": null,
            "height": null,
            "justify_content": null,
            "justify_items": null,
            "left": null,
            "margin": null,
            "max_height": null,
            "max_width": null,
            "min_height": null,
            "min_width": null,
            "object_fit": null,
            "object_position": null,
            "order": null,
            "overflow": null,
            "overflow_x": null,
            "overflow_y": null,
            "padding": null,
            "right": null,
            "top": null,
            "visibility": null,
            "width": null
          }
        },
        "27359d5710f1444d903d55a3768030bd": {
          "model_module": "@jupyter-widgets/controls",
          "model_name": "DescriptionStyleModel",
          "model_module_version": "1.5.0",
          "state": {
            "_model_module": "@jupyter-widgets/controls",
            "_model_module_version": "1.5.0",
            "_model_name": "DescriptionStyleModel",
            "_view_count": null,
            "_view_module": "@jupyter-widgets/base",
            "_view_module_version": "1.2.0",
            "_view_name": "StyleView",
            "description_width": ""
          }
        },
        "9ac59828e5c74626b2c1d0eaa879b67a": {
          "model_module": "@jupyter-widgets/controls",
          "model_name": "HBoxModel",
          "model_module_version": "1.5.0",
          "state": {
            "_dom_classes": [],
            "_model_module": "@jupyter-widgets/controls",
            "_model_module_version": "1.5.0",
            "_model_name": "HBoxModel",
            "_view_count": null,
            "_view_module": "@jupyter-widgets/controls",
            "_view_module_version": "1.5.0",
            "_view_name": "HBoxView",
            "box_style": "",
            "children": [
              "IPY_MODEL_66462a80366b41f890694267bc0bb00e",
              "IPY_MODEL_dd9d86bd38124a6aa9289e138efc87cc",
              "IPY_MODEL_6a71a07b1bf947cd9490a8c9755fe020"
            ],
            "layout": "IPY_MODEL_2bce7b32144146d5a018db4d723e6993"
          }
        },
        "66462a80366b41f890694267bc0bb00e": {
          "model_module": "@jupyter-widgets/controls",
          "model_name": "HTMLModel",
          "model_module_version": "1.5.0",
          "state": {
            "_dom_classes": [],
            "_model_module": "@jupyter-widgets/controls",
            "_model_module_version": "1.5.0",
            "_model_name": "HTMLModel",
            "_view_count": null,
            "_view_module": "@jupyter-widgets/controls",
            "_view_module_version": "1.5.0",
            "_view_name": "HTMLView",
            "description": "",
            "description_tooltip": null,
            "layout": "IPY_MODEL_cfa3fd3c3c9942099e1af88fbce3a58e",
            "placeholder": "​",
            "style": "IPY_MODEL_fd193c47684e4faa843b868364825272",
            "value": "Generating train split: 100%"
          }
        },
        "dd9d86bd38124a6aa9289e138efc87cc": {
          "model_module": "@jupyter-widgets/controls",
          "model_name": "FloatProgressModel",
          "model_module_version": "1.5.0",
          "state": {
            "_dom_classes": [],
            "_model_module": "@jupyter-widgets/controls",
            "_model_module_version": "1.5.0",
            "_model_name": "FloatProgressModel",
            "_view_count": null,
            "_view_module": "@jupyter-widgets/controls",
            "_view_module_version": "1.5.0",
            "_view_name": "ProgressView",
            "bar_style": "success",
            "description": "",
            "description_tooltip": null,
            "layout": "IPY_MODEL_76abaed3647e4fa9a1b0ce385bc379fd",
            "max": 8000,
            "min": 0,
            "orientation": "horizontal",
            "style": "IPY_MODEL_ff8b12748f054f438f3299079a76bbce",
            "value": 8000
          }
        },
        "6a71a07b1bf947cd9490a8c9755fe020": {
          "model_module": "@jupyter-widgets/controls",
          "model_name": "HTMLModel",
          "model_module_version": "1.5.0",
          "state": {
            "_dom_classes": [],
            "_model_module": "@jupyter-widgets/controls",
            "_model_module_version": "1.5.0",
            "_model_name": "HTMLModel",
            "_view_count": null,
            "_view_module": "@jupyter-widgets/controls",
            "_view_module_version": "1.5.0",
            "_view_name": "HTMLView",
            "description": "",
            "description_tooltip": null,
            "layout": "IPY_MODEL_0d68463a62424abbafb0b1d2a1167dc3",
            "placeholder": "​",
            "style": "IPY_MODEL_fcda8994e5174f0d9f82f2dfad9097cb",
            "value": " 8000/8000 [00:00&lt;00:00, 87834.46 examples/s]"
          }
        },
        "2bce7b32144146d5a018db4d723e6993": {
          "model_module": "@jupyter-widgets/base",
          "model_name": "LayoutModel",
          "model_module_version": "1.2.0",
          "state": {
            "_model_module": "@jupyter-widgets/base",
            "_model_module_version": "1.2.0",
            "_model_name": "LayoutModel",
            "_view_count": null,
            "_view_module": "@jupyter-widgets/base",
            "_view_module_version": "1.2.0",
            "_view_name": "LayoutView",
            "align_content": null,
            "align_items": null,
            "align_self": null,
            "border": null,
            "bottom": null,
            "display": null,
            "flex": null,
            "flex_flow": null,
            "grid_area": null,
            "grid_auto_columns": null,
            "grid_auto_flow": null,
            "grid_auto_rows": null,
            "grid_column": null,
            "grid_gap": null,
            "grid_row": null,
            "grid_template_areas": null,
            "grid_template_columns": null,
            "grid_template_rows": null,
            "height": null,
            "justify_content": null,
            "justify_items": null,
            "left": null,
            "margin": null,
            "max_height": null,
            "max_width": null,
            "min_height": null,
            "min_width": null,
            "object_fit": null,
            "object_position": null,
            "order": null,
            "overflow": null,
            "overflow_x": null,
            "overflow_y": null,
            "padding": null,
            "right": null,
            "top": null,
            "visibility": null,
            "width": null
          }
        },
        "cfa3fd3c3c9942099e1af88fbce3a58e": {
          "model_module": "@jupyter-widgets/base",
          "model_name": "LayoutModel",
          "model_module_version": "1.2.0",
          "state": {
            "_model_module": "@jupyter-widgets/base",
            "_model_module_version": "1.2.0",
            "_model_name": "LayoutModel",
            "_view_count": null,
            "_view_module": "@jupyter-widgets/base",
            "_view_module_version": "1.2.0",
            "_view_name": "LayoutView",
            "align_content": null,
            "align_items": null,
            "align_self": null,
            "border": null,
            "bottom": null,
            "display": null,
            "flex": null,
            "flex_flow": null,
            "grid_area": null,
            "grid_auto_columns": null,
            "grid_auto_flow": null,
            "grid_auto_rows": null,
            "grid_column": null,
            "grid_gap": null,
            "grid_row": null,
            "grid_template_areas": null,
            "grid_template_columns": null,
            "grid_template_rows": null,
            "height": null,
            "justify_content": null,
            "justify_items": null,
            "left": null,
            "margin": null,
            "max_height": null,
            "max_width": null,
            "min_height": null,
            "min_width": null,
            "object_fit": null,
            "object_position": null,
            "order": null,
            "overflow": null,
            "overflow_x": null,
            "overflow_y": null,
            "padding": null,
            "right": null,
            "top": null,
            "visibility": null,
            "width": null
          }
        },
        "fd193c47684e4faa843b868364825272": {
          "model_module": "@jupyter-widgets/controls",
          "model_name": "DescriptionStyleModel",
          "model_module_version": "1.5.0",
          "state": {
            "_model_module": "@jupyter-widgets/controls",
            "_model_module_version": "1.5.0",
            "_model_name": "DescriptionStyleModel",
            "_view_count": null,
            "_view_module": "@jupyter-widgets/base",
            "_view_module_version": "1.2.0",
            "_view_name": "StyleView",
            "description_width": ""
          }
        },
        "76abaed3647e4fa9a1b0ce385bc379fd": {
          "model_module": "@jupyter-widgets/base",
          "model_name": "LayoutModel",
          "model_module_version": "1.2.0",
          "state": {
            "_model_module": "@jupyter-widgets/base",
            "_model_module_version": "1.2.0",
            "_model_name": "LayoutModel",
            "_view_count": null,
            "_view_module": "@jupyter-widgets/base",
            "_view_module_version": "1.2.0",
            "_view_name": "LayoutView",
            "align_content": null,
            "align_items": null,
            "align_self": null,
            "border": null,
            "bottom": null,
            "display": null,
            "flex": null,
            "flex_flow": null,
            "grid_area": null,
            "grid_auto_columns": null,
            "grid_auto_flow": null,
            "grid_auto_rows": null,
            "grid_column": null,
            "grid_gap": null,
            "grid_row": null,
            "grid_template_areas": null,
            "grid_template_columns": null,
            "grid_template_rows": null,
            "height": null,
            "justify_content": null,
            "justify_items": null,
            "left": null,
            "margin": null,
            "max_height": null,
            "max_width": null,
            "min_height": null,
            "min_width": null,
            "object_fit": null,
            "object_position": null,
            "order": null,
            "overflow": null,
            "overflow_x": null,
            "overflow_y": null,
            "padding": null,
            "right": null,
            "top": null,
            "visibility": null,
            "width": null
          }
        },
        "ff8b12748f054f438f3299079a76bbce": {
          "model_module": "@jupyter-widgets/controls",
          "model_name": "ProgressStyleModel",
          "model_module_version": "1.5.0",
          "state": {
            "_model_module": "@jupyter-widgets/controls",
            "_model_module_version": "1.5.0",
            "_model_name": "ProgressStyleModel",
            "_view_count": null,
            "_view_module": "@jupyter-widgets/base",
            "_view_module_version": "1.2.0",
            "_view_name": "StyleView",
            "bar_color": null,
            "description_width": ""
          }
        },
        "0d68463a62424abbafb0b1d2a1167dc3": {
          "model_module": "@jupyter-widgets/base",
          "model_name": "LayoutModel",
          "model_module_version": "1.2.0",
          "state": {
            "_model_module": "@jupyter-widgets/base",
            "_model_module_version": "1.2.0",
            "_model_name": "LayoutModel",
            "_view_count": null,
            "_view_module": "@jupyter-widgets/base",
            "_view_module_version": "1.2.0",
            "_view_name": "LayoutView",
            "align_content": null,
            "align_items": null,
            "align_self": null,
            "border": null,
            "bottom": null,
            "display": null,
            "flex": null,
            "flex_flow": null,
            "grid_area": null,
            "grid_auto_columns": null,
            "grid_auto_flow": null,
            "grid_auto_rows": null,
            "grid_column": null,
            "grid_gap": null,
            "grid_row": null,
            "grid_template_areas": null,
            "grid_template_columns": null,
            "grid_template_rows": null,
            "height": null,
            "justify_content": null,
            "justify_items": null,
            "left": null,
            "margin": null,
            "max_height": null,
            "max_width": null,
            "min_height": null,
            "min_width": null,
            "object_fit": null,
            "object_position": null,
            "order": null,
            "overflow": null,
            "overflow_x": null,
            "overflow_y": null,
            "padding": null,
            "right": null,
            "top": null,
            "visibility": null,
            "width": null
          }
        },
        "fcda8994e5174f0d9f82f2dfad9097cb": {
          "model_module": "@jupyter-widgets/controls",
          "model_name": "DescriptionStyleModel",
          "model_module_version": "1.5.0",
          "state": {
            "_model_module": "@jupyter-widgets/controls",
            "_model_module_version": "1.5.0",
            "_model_name": "DescriptionStyleModel",
            "_view_count": null,
            "_view_module": "@jupyter-widgets/base",
            "_view_module_version": "1.2.0",
            "_view_name": "StyleView",
            "description_width": ""
          }
        },
        "ebfa5f5684b34032871397f2d7f6486a": {
          "model_module": "@jupyter-widgets/controls",
          "model_name": "HBoxModel",
          "model_module_version": "1.5.0",
          "state": {
            "_dom_classes": [],
            "_model_module": "@jupyter-widgets/controls",
            "_model_module_version": "1.5.0",
            "_model_name": "HBoxModel",
            "_view_count": null,
            "_view_module": "@jupyter-widgets/controls",
            "_view_module_version": "1.5.0",
            "_view_name": "HBoxView",
            "box_style": "",
            "children": [
              "IPY_MODEL_a6e096c9dfad4e10a041ebeafb8a935b",
              "IPY_MODEL_cb9fa295e5ed492d8977ffb52d203f6b",
              "IPY_MODEL_2ac25623ece246b997122aaef541bd17"
            ],
            "layout": "IPY_MODEL_355a8b8495ac443da97f131e1d5ccfef"
          }
        },
        "a6e096c9dfad4e10a041ebeafb8a935b": {
          "model_module": "@jupyter-widgets/controls",
          "model_name": "HTMLModel",
          "model_module_version": "1.5.0",
          "state": {
            "_dom_classes": [],
            "_model_module": "@jupyter-widgets/controls",
            "_model_module_version": "1.5.0",
            "_model_name": "HTMLModel",
            "_view_count": null,
            "_view_module": "@jupyter-widgets/controls",
            "_view_module_version": "1.5.0",
            "_view_name": "HTMLView",
            "description": "",
            "description_tooltip": null,
            "layout": "IPY_MODEL_fd67501547ba4e778e665c7f7682cb79",
            "placeholder": "​",
            "style": "IPY_MODEL_e8cf08a57fa744eb8ae3e83337e9b197",
            "value": "Generating test split: 100%"
          }
        },
        "cb9fa295e5ed492d8977ffb52d203f6b": {
          "model_module": "@jupyter-widgets/controls",
          "model_name": "FloatProgressModel",
          "model_module_version": "1.5.0",
          "state": {
            "_dom_classes": [],
            "_model_module": "@jupyter-widgets/controls",
            "_model_module_version": "1.5.0",
            "_model_name": "FloatProgressModel",
            "_view_count": null,
            "_view_module": "@jupyter-widgets/controls",
            "_view_module_version": "1.5.0",
            "_view_name": "ProgressView",
            "bar_style": "success",
            "description": "",
            "description_tooltip": null,
            "layout": "IPY_MODEL_d31dcb02d1a6483ca1713905ae89ab51",
            "max": 2717,
            "min": 0,
            "orientation": "horizontal",
            "style": "IPY_MODEL_d45f6be48e7b467ba3b7fd240dcd5591",
            "value": 2717
          }
        },
        "2ac25623ece246b997122aaef541bd17": {
          "model_module": "@jupyter-widgets/controls",
          "model_name": "HTMLModel",
          "model_module_version": "1.5.0",
          "state": {
            "_dom_classes": [],
            "_model_module": "@jupyter-widgets/controls",
            "_model_module_version": "1.5.0",
            "_model_name": "HTMLModel",
            "_view_count": null,
            "_view_module": "@jupyter-widgets/controls",
            "_view_module_version": "1.5.0",
            "_view_name": "HTMLView",
            "description": "",
            "description_tooltip": null,
            "layout": "IPY_MODEL_ec346058238d40b8b4fef451e3fc37e4",
            "placeholder": "​",
            "style": "IPY_MODEL_eef7e4b96b604a31bae257ae060169ac",
            "value": " 2717/2717 [00:00&lt;00:00, 121559.12 examples/s]"
          }
        },
        "355a8b8495ac443da97f131e1d5ccfef": {
          "model_module": "@jupyter-widgets/base",
          "model_name": "LayoutModel",
          "model_module_version": "1.2.0",
          "state": {
            "_model_module": "@jupyter-widgets/base",
            "_model_module_version": "1.2.0",
            "_model_name": "LayoutModel",
            "_view_count": null,
            "_view_module": "@jupyter-widgets/base",
            "_view_module_version": "1.2.0",
            "_view_name": "LayoutView",
            "align_content": null,
            "align_items": null,
            "align_self": null,
            "border": null,
            "bottom": null,
            "display": null,
            "flex": null,
            "flex_flow": null,
            "grid_area": null,
            "grid_auto_columns": null,
            "grid_auto_flow": null,
            "grid_auto_rows": null,
            "grid_column": null,
            "grid_gap": null,
            "grid_row": null,
            "grid_template_areas": null,
            "grid_template_columns": null,
            "grid_template_rows": null,
            "height": null,
            "justify_content": null,
            "justify_items": null,
            "left": null,
            "margin": null,
            "max_height": null,
            "max_width": null,
            "min_height": null,
            "min_width": null,
            "object_fit": null,
            "object_position": null,
            "order": null,
            "overflow": null,
            "overflow_x": null,
            "overflow_y": null,
            "padding": null,
            "right": null,
            "top": null,
            "visibility": null,
            "width": null
          }
        },
        "fd67501547ba4e778e665c7f7682cb79": {
          "model_module": "@jupyter-widgets/base",
          "model_name": "LayoutModel",
          "model_module_version": "1.2.0",
          "state": {
            "_model_module": "@jupyter-widgets/base",
            "_model_module_version": "1.2.0",
            "_model_name": "LayoutModel",
            "_view_count": null,
            "_view_module": "@jupyter-widgets/base",
            "_view_module_version": "1.2.0",
            "_view_name": "LayoutView",
            "align_content": null,
            "align_items": null,
            "align_self": null,
            "border": null,
            "bottom": null,
            "display": null,
            "flex": null,
            "flex_flow": null,
            "grid_area": null,
            "grid_auto_columns": null,
            "grid_auto_flow": null,
            "grid_auto_rows": null,
            "grid_column": null,
            "grid_gap": null,
            "grid_row": null,
            "grid_template_areas": null,
            "grid_template_columns": null,
            "grid_template_rows": null,
            "height": null,
            "justify_content": null,
            "justify_items": null,
            "left": null,
            "margin": null,
            "max_height": null,
            "max_width": null,
            "min_height": null,
            "min_width": null,
            "object_fit": null,
            "object_position": null,
            "order": null,
            "overflow": null,
            "overflow_x": null,
            "overflow_y": null,
            "padding": null,
            "right": null,
            "top": null,
            "visibility": null,
            "width": null
          }
        },
        "e8cf08a57fa744eb8ae3e83337e9b197": {
          "model_module": "@jupyter-widgets/controls",
          "model_name": "DescriptionStyleModel",
          "model_module_version": "1.5.0",
          "state": {
            "_model_module": "@jupyter-widgets/controls",
            "_model_module_version": "1.5.0",
            "_model_name": "DescriptionStyleModel",
            "_view_count": null,
            "_view_module": "@jupyter-widgets/base",
            "_view_module_version": "1.2.0",
            "_view_name": "StyleView",
            "description_width": ""
          }
        },
        "d31dcb02d1a6483ca1713905ae89ab51": {
          "model_module": "@jupyter-widgets/base",
          "model_name": "LayoutModel",
          "model_module_version": "1.2.0",
          "state": {
            "_model_module": "@jupyter-widgets/base",
            "_model_module_version": "1.2.0",
            "_model_name": "LayoutModel",
            "_view_count": null,
            "_view_module": "@jupyter-widgets/base",
            "_view_module_version": "1.2.0",
            "_view_name": "LayoutView",
            "align_content": null,
            "align_items": null,
            "align_self": null,
            "border": null,
            "bottom": null,
            "display": null,
            "flex": null,
            "flex_flow": null,
            "grid_area": null,
            "grid_auto_columns": null,
            "grid_auto_flow": null,
            "grid_auto_rows": null,
            "grid_column": null,
            "grid_gap": null,
            "grid_row": null,
            "grid_template_areas": null,
            "grid_template_columns": null,
            "grid_template_rows": null,
            "height": null,
            "justify_content": null,
            "justify_items": null,
            "left": null,
            "margin": null,
            "max_height": null,
            "max_width": null,
            "min_height": null,
            "min_width": null,
            "object_fit": null,
            "object_position": null,
            "order": null,
            "overflow": null,
            "overflow_x": null,
            "overflow_y": null,
            "padding": null,
            "right": null,
            "top": null,
            "visibility": null,
            "width": null
          }
        },
        "d45f6be48e7b467ba3b7fd240dcd5591": {
          "model_module": "@jupyter-widgets/controls",
          "model_name": "ProgressStyleModel",
          "model_module_version": "1.5.0",
          "state": {
            "_model_module": "@jupyter-widgets/controls",
            "_model_module_version": "1.5.0",
            "_model_name": "ProgressStyleModel",
            "_view_count": null,
            "_view_module": "@jupyter-widgets/base",
            "_view_module_version": "1.2.0",
            "_view_name": "StyleView",
            "bar_color": null,
            "description_width": ""
          }
        },
        "ec346058238d40b8b4fef451e3fc37e4": {
          "model_module": "@jupyter-widgets/base",
          "model_name": "LayoutModel",
          "model_module_version": "1.2.0",
          "state": {
            "_model_module": "@jupyter-widgets/base",
            "_model_module_version": "1.2.0",
            "_model_name": "LayoutModel",
            "_view_count": null,
            "_view_module": "@jupyter-widgets/base",
            "_view_module_version": "1.2.0",
            "_view_name": "LayoutView",
            "align_content": null,
            "align_items": null,
            "align_self": null,
            "border": null,
            "bottom": null,
            "display": null,
            "flex": null,
            "flex_flow": null,
            "grid_area": null,
            "grid_auto_columns": null,
            "grid_auto_flow": null,
            "grid_auto_rows": null,
            "grid_column": null,
            "grid_gap": null,
            "grid_row": null,
            "grid_template_areas": null,
            "grid_template_columns": null,
            "grid_template_rows": null,
            "height": null,
            "justify_content": null,
            "justify_items": null,
            "left": null,
            "margin": null,
            "max_height": null,
            "max_width": null,
            "min_height": null,
            "min_width": null,
            "object_fit": null,
            "object_position": null,
            "order": null,
            "overflow": null,
            "overflow_x": null,
            "overflow_y": null,
            "padding": null,
            "right": null,
            "top": null,
            "visibility": null,
            "width": null
          }
        },
        "eef7e4b96b604a31bae257ae060169ac": {
          "model_module": "@jupyter-widgets/controls",
          "model_name": "DescriptionStyleModel",
          "model_module_version": "1.5.0",
          "state": {
            "_model_module": "@jupyter-widgets/controls",
            "_model_module_version": "1.5.0",
            "_model_name": "DescriptionStyleModel",
            "_view_count": null,
            "_view_module": "@jupyter-widgets/base",
            "_view_module_version": "1.2.0",
            "_view_name": "StyleView",
            "description_width": ""
          }
        }
      }
    }
  },
  "nbformat": 4,
  "nbformat_minor": 5
}