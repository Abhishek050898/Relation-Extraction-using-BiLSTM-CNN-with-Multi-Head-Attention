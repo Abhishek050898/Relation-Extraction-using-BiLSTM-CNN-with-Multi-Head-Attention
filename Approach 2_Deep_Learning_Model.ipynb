{
  "cells": [
    {
      "cell_type": "markdown",
      "metadata": {
        "id": "3f8jDcCw68NS"
      },
      "source": [
        "# Relation Extraction using NLP and Neural Networks modelling ( BiLSTM + CNN with Multi-head Attention )"
      ]
    },
    {
      "cell_type": "markdown",
      "metadata": {
        "id": "cqKwn9qF68NT"
      },
      "source": [
        "### Importing necessary libraries for natural language processing and machine learning tasks"
      ]
    },
    {
      "cell_type": "code",
      "execution_count": null,
      "metadata": {
        "colab": {
          "base_uri": "https://localhost:8080/"
        },
        "id": "74-e0TNgB9gF",
        "outputId": "7fb20832-225d-4dc7-b402-71a365049a4a"
      },
      "outputs": [
        {
          "name": "stdout",
          "output_type": "stream",
          "text": [
            "Mounted at /content/drive\n"
          ]
        }
      ],
      "source": [
        "# Importing SpaCy for advanced natural language processing tasks\n",
        "import spacy\n",
        "from spacy import displacy\n",
        "from spacy.tokens import DocBin\n",
        "\n",
        "# Importing essential libraries for data manipulation and visualization\n",
        "import numpy as np\n",
        "import pandas as pd\n",
        "import matplotlib.pyplot as plt\n",
        "from wordcloud import WordCloud\n",
        "\n",
        "# Importing NLTK for basic natural language processing tasks\n",
        "import nltk\n",
        "from nltk.corpus import stopwords\n",
        "from nltk.tokenize import word_tokenize\n",
        "from nltk.stem import WordNetLemmatizer\n",
        "from nltk.stem import PorterStemmer\n",
        "\n",
        "# Importing libraries for machine learning and deep learning\n",
        "from sklearn.feature_extraction.text import TfidfVectorizer\n",
        "from keras.models import Sequential\n",
        "from keras.layers import LSTM, Dense\n",
        "from sklearn.model_selection import train_test_split\n",
        "from sklearn.preprocessing import StandardScaler\n",
        "from sklearn.svm import SVC\n",
        "from sklearn.pipeline import Pipeline\n",
        "from sklearn.linear_model import LogisticRegression\n",
        "from sklearn.ensemble import RandomForestClassifier\n",
        "from sklearn.metrics import classification_report\n",
        "from sklearn.preprocessing import LabelEncoder\n",
        "from sklearn.naive_bayes import MultinomialNB\n",
        "from sklearn.neural_network import MLPClassifier\n",
        "import tensorflow as tf\n",
        "from tensorflow.keras import layers, models\n",
        "from tensorflow.keras.layers import Layer, Input, Embedding, Dropout, Conv1D, Bidirectional, LSTM, Activation, GlobalMaxPooling1D, Dense, Permute, Lambda, concatenate, Flatten, Reshape\n",
        "from tensorflow.keras.models import Model\n",
        "from tensorflow.keras import regularizers\n",
        "from tensorflow.keras.optimizers import Adadelta\n",
        "import tensorflow.keras.backend as K\n",
        "from tensorflow.keras.layers import MultiHeadAttention\n",
        "from tensorflow.keras.preprocessing.sequence import pad_sequences\n",
        "from tensorflow.keras.preprocessing.text import Tokenizer\n",
        "\n",
        "# Mounting Google Drive if working in Google Colab\n",
        "from google.colab import drive\n",
        "drive.mount('/content/drive')"
      ]
    },
    {
      "cell_type": "code",
      "execution_count": null,
      "metadata": {
        "colab": {
          "base_uri": "https://localhost:8080/"
        },
        "id": "LMRL-DYVHFYE",
        "outputId": "251d80ed-3fbd-475a-c2cd-0176c3f97ae0"
      },
      "outputs": [
        {
          "name": "stderr",
          "output_type": "stream",
          "text": [
            "[nltk_data] Downloading package punkt to /root/nltk_data...\n",
            "[nltk_data]   Unzipping tokenizers/punkt.zip.\n"
          ]
        },
        {
          "data": {
            "text/plain": [
              "True"
            ]
          },
          "execution_count": 2,
          "metadata": {},
          "output_type": "execute_result"
        }
      ],
      "source": [
        "nltk.download('punkt')"
      ]
    },
    {
      "cell_type": "code",
      "execution_count": null,
      "metadata": {
        "colab": {
          "base_uri": "https://localhost:8080/"
        },
        "id": "7es8EmXo68NV",
        "outputId": "1da7553a-b8ec-4c11-dfd8-bcf5025eddf4"
      },
      "outputs": [
        {
          "name": "stdout",
          "output_type": "stream",
          "text": [
            "Collecting datasets\n",
            "  Downloading datasets-2.18.0-py3-none-any.whl (510 kB)\n",
            "\u001b[2K     \u001b[90m━━━━━━━━━━━━━━━━━━━━━━━━━━━━━━━━━━━━━━━━\u001b[0m \u001b[32m510.5/510.5 kB\u001b[0m \u001b[31m3.0 MB/s\u001b[0m eta \u001b[36m0:00:00\u001b[0m\n",
            "\u001b[?25hRequirement already satisfied: filelock in /usr/local/lib/python3.10/dist-packages (from datasets) (3.13.1)\n",
            "Requirement already satisfied: numpy>=1.17 in /usr/local/lib/python3.10/dist-packages (from datasets) (1.25.2)\n",
            "Requirement already satisfied: pyarrow>=12.0.0 in /usr/local/lib/python3.10/dist-packages (from datasets) (14.0.2)\n",
            "Requirement already satisfied: pyarrow-hotfix in /usr/local/lib/python3.10/dist-packages (from datasets) (0.6)\n",
            "Collecting dill<0.3.9,>=0.3.0 (from datasets)\n",
            "  Downloading dill-0.3.8-py3-none-any.whl (116 kB)\n",
            "\u001b[2K     \u001b[90m━━━━━━━━━━━━━━━━━━━━━━━━━━━━━━━━━━━━━━━━\u001b[0m \u001b[32m116.3/116.3 kB\u001b[0m \u001b[31m16.6 MB/s\u001b[0m eta \u001b[36m0:00:00\u001b[0m\n",
            "\u001b[?25hRequirement already satisfied: pandas in /usr/local/lib/python3.10/dist-packages (from datasets) (1.5.3)\n",
            "Requirement already satisfied: requests>=2.19.0 in /usr/local/lib/python3.10/dist-packages (from datasets) (2.31.0)\n",
            "Requirement already satisfied: tqdm>=4.62.1 in /usr/local/lib/python3.10/dist-packages (from datasets) (4.66.2)\n",
            "Requirement already satisfied: xxhash in /usr/local/lib/python3.10/dist-packages (from datasets) (3.4.1)\n",
            "Collecting multiprocess (from datasets)\n",
            "  Downloading multiprocess-0.70.16-py310-none-any.whl (134 kB)\n",
            "\u001b[2K     \u001b[90m━━━━━━━━━━━━━━━━━━━━━━━━━━━━━━━━━━━━━━━━\u001b[0m \u001b[32m134.8/134.8 kB\u001b[0m \u001b[31m20.1 MB/s\u001b[0m eta \u001b[36m0:00:00\u001b[0m\n",
            "\u001b[?25hRequirement already satisfied: fsspec[http]<=2024.2.0,>=2023.1.0 in /usr/local/lib/python3.10/dist-packages (from datasets) (2023.6.0)\n",
            "Requirement already satisfied: aiohttp in /usr/local/lib/python3.10/dist-packages (from datasets) (3.9.3)\n",
            "Requirement already satisfied: huggingface-hub>=0.19.4 in /usr/local/lib/python3.10/dist-packages (from datasets) (0.20.3)\n",
            "Requirement already satisfied: packaging in /usr/local/lib/python3.10/dist-packages (from datasets) (23.2)\n",
            "Requirement already satisfied: pyyaml>=5.1 in /usr/local/lib/python3.10/dist-packages (from datasets) (6.0.1)\n",
            "Requirement already satisfied: aiosignal>=1.1.2 in /usr/local/lib/python3.10/dist-packages (from aiohttp->datasets) (1.3.1)\n",
            "Requirement already satisfied: attrs>=17.3.0 in /usr/local/lib/python3.10/dist-packages (from aiohttp->datasets) (23.2.0)\n",
            "Requirement already satisfied: frozenlist>=1.1.1 in /usr/local/lib/python3.10/dist-packages (from aiohttp->datasets) (1.4.1)\n",
            "Requirement already satisfied: multidict<7.0,>=4.5 in /usr/local/lib/python3.10/dist-packages (from aiohttp->datasets) (6.0.5)\n",
            "Requirement already satisfied: yarl<2.0,>=1.0 in /usr/local/lib/python3.10/dist-packages (from aiohttp->datasets) (1.9.4)\n",
            "Requirement already satisfied: async-timeout<5.0,>=4.0 in /usr/local/lib/python3.10/dist-packages (from aiohttp->datasets) (4.0.3)\n",
            "Requirement already satisfied: typing-extensions>=3.7.4.3 in /usr/local/lib/python3.10/dist-packages (from huggingface-hub>=0.19.4->datasets) (4.10.0)\n",
            "Requirement already satisfied: charset-normalizer<4,>=2 in /usr/local/lib/python3.10/dist-packages (from requests>=2.19.0->datasets) (3.3.2)\n",
            "Requirement already satisfied: idna<4,>=2.5 in /usr/local/lib/python3.10/dist-packages (from requests>=2.19.0->datasets) (3.6)\n",
            "Requirement already satisfied: urllib3<3,>=1.21.1 in /usr/local/lib/python3.10/dist-packages (from requests>=2.19.0->datasets) (2.0.7)\n",
            "Requirement already satisfied: certifi>=2017.4.17 in /usr/local/lib/python3.10/dist-packages (from requests>=2.19.0->datasets) (2024.2.2)\n",
            "Requirement already satisfied: python-dateutil>=2.8.1 in /usr/local/lib/python3.10/dist-packages (from pandas->datasets) (2.8.2)\n",
            "Requirement already satisfied: pytz>=2020.1 in /usr/local/lib/python3.10/dist-packages (from pandas->datasets) (2023.4)\n",
            "Requirement already satisfied: six>=1.5 in /usr/local/lib/python3.10/dist-packages (from python-dateutil>=2.8.1->pandas->datasets) (1.16.0)\n",
            "Installing collected packages: dill, multiprocess, datasets\n",
            "Successfully installed datasets-2.18.0 dill-0.3.8 multiprocess-0.70.16\n"
          ]
        }
      ],
      "source": [
        "# Installing the datasets library using pip\n",
        "!pip install datasets"
      ]
    },
    {
      "cell_type": "markdown",
      "metadata": {
        "id": "QQE-Xrr268NV"
      },
      "source": [
        "### Importing and Loading the SemEval dataset"
      ]
    },
    {
      "cell_type": "code",
      "execution_count": null,
      "metadata": {
        "colab": {
          "base_uri": "https://localhost:8080/",
          "height": 269,
          "referenced_widgets": [
            "1f2d03bb65694a26bb7703e89605fb08",
            "502b5d7f9e104458a737e361c5a1b424",
            "256ed2c1b8aa47ef804927262dd08bb0",
            "14e89743c39646dda620fd632186f6bf",
            "689fdf5a205e4c49a8df4fb26c8388d8",
            "4048460df13448508bccefb64f9ae73d",
            "678991b53fbf4856948a2aa749d57699",
            "5402924c27664224a5d20c357a883366",
            "46fffc5b33a5422bb0355eae26847c6a",
            "2e5127c828c94d7aa80d257d44552c1c",
            "3a7b1132f1a44b5c8e61094cd8dce26f",
            "25af4eeba72b468ba85326f7113205ee",
            "9f839c7087534c4fbd701a0a475c3363",
            "2f948e0c9497494091c264f91937dbfb",
            "c7813825053947fc9b2fcc35d99cbab0",
            "7d3d899f90704097ad021238232fa11d",
            "745ad333fb0f4a728b914a029e7e37b2",
            "2a5a35992a3f4ef9ada92367222fa191",
            "86c46680231b4fd7b7e0a6a5b4614466",
            "26342bbd117b4f4d9d6485b97d43d21e",
            "2512449d8b6a475aaa2c893c9cbaad26",
            "fcc0e7b353fe452bbd674628395e3356",
            "d86146d98e614582ab44acdb477cc49d",
            "1f0e2827b48343c893b36d2b27211bda",
            "e192d35df35e485ca6db4741a1262d91",
            "e13424bc5b244150a97f56e60ad38e7f",
            "a74343e8351f48588f06365e501a0213",
            "9479708d83524d62841a4edb92b4173c",
            "251f0a16d4f349c7995d6bc097efc97f",
            "74a9092b07de4d598f36b793ab18fb0d",
            "8ff8a786239b4e1eaa5481fa3d45f365",
            "7882a49db1d5492dab1ebf401da7deef",
            "64fc6df6c334495fa07bd2bed2ad2768",
            "0931c01c4e864576850c03724b9ab241",
            "fba51b380b044e87b64a60dc296f77c8",
            "e893198875eb4a11bd06a70b535b7d44",
            "35e351f5d1f94e62993758af3176fd9a",
            "b0e5cfca436f47f5899f5b63d95f1784",
            "57a9dd1d046c406ea5b82fa6e4e51ce6",
            "bc6ee126104c40bf83e8c4f9bbf3c4ab",
            "7c1f269d009c42abb0fbb1a2f3f2bafd",
            "cd6bce2820ce42d592d28906daabca4f",
            "66c89599662e436189ae3d65ae78f428",
            "8e00ac0c3a474f4cb9d55b786fc74ed4"
          ]
        },
        "id": "veQEHV5tajdP",
        "outputId": "68f9618f-38c5-4730-c52a-0a31a16c132f"
      },
      "outputs": [
        {
          "name": "stderr",
          "output_type": "stream",
          "text": [
            "/usr/local/lib/python3.10/dist-packages/huggingface_hub/utils/_token.py:88: UserWarning: \n",
            "The secret `HF_TOKEN` does not exist in your Colab secrets.\n",
            "To authenticate with the Hugging Face Hub, create a token in your settings tab (https://huggingface.co/settings/tokens), set it as secret in your Google Colab and restart your session.\n",
            "You will be able to reuse this secret in all of your notebooks.\n",
            "Please note that authentication is recommended but still optional to access public models or datasets.\n",
            "  warnings.warn(\n"
          ]
        },
        {
          "data": {
            "application/vnd.jupyter.widget-view+json": {
              "model_id": "1f2d03bb65694a26bb7703e89605fb08",
              "version_major": 2,
              "version_minor": 0
            },
            "text/plain": [
              "Downloading data:   0%|          | 0.00/673k [00:00<?, ?B/s]"
            ]
          },
          "metadata": {},
          "output_type": "display_data"
        },
        {
          "data": {
            "application/vnd.jupyter.widget-view+json": {
              "model_id": "25af4eeba72b468ba85326f7113205ee",
              "version_major": 2,
              "version_minor": 0
            },
            "text/plain": [
              "Downloading data:   0%|          | 0.00/231k [00:00<?, ?B/s]"
            ]
          },
          "metadata": {},
          "output_type": "display_data"
        },
        {
          "data": {
            "application/vnd.jupyter.widget-view+json": {
              "model_id": "d86146d98e614582ab44acdb477cc49d",
              "version_major": 2,
              "version_minor": 0
            },
            "text/plain": [
              "Generating train split:   0%|          | 0/8000 [00:00<?, ? examples/s]"
            ]
          },
          "metadata": {},
          "output_type": "display_data"
        },
        {
          "data": {
            "application/vnd.jupyter.widget-view+json": {
              "model_id": "0931c01c4e864576850c03724b9ab241",
              "version_major": 2,
              "version_minor": 0
            },
            "text/plain": [
              "Generating test split:   0%|          | 0/2717 [00:00<?, ? examples/s]"
            ]
          },
          "metadata": {},
          "output_type": "display_data"
        }
      ],
      "source": [
        "# Importing the load_dataset function from the datasets library\n",
        "from datasets import load_dataset\n",
        "\n",
        "# Loading the SemEval 2010 Task 8 dataset using the load_dataset function\n",
        "dataset = load_dataset(\"sem_eval_2010_task_8\")"
      ]
    },
    {
      "cell_type": "code",
      "execution_count": null,
      "metadata": {
        "colab": {
          "base_uri": "https://localhost:8080/"
        },
        "id": "3AIgH6AXak2k",
        "outputId": "b58ad224-6408-4250-cd86-8a09f40e0c3e"
      },
      "outputs": [
        {
          "name": "stdout",
          "output_type": "stream",
          "text": [
            "DatasetDict({\n",
            "    train: Dataset({\n",
            "        features: ['sentence', 'relation'],\n",
            "        num_rows: 8000\n",
            "    })\n",
            "    test: Dataset({\n",
            "        features: ['sentence', 'relation'],\n",
            "        num_rows: 2717\n",
            "    })\n",
            "})\n"
          ]
        }
      ],
      "source": [
        "# Printing the loaded dataset\n",
        "print(dataset)"
      ]
    },
    {
      "cell_type": "code",
      "execution_count": null,
      "metadata": {
        "id": "XjtYNttdanQF"
      },
      "outputs": [],
      "source": [
        "# Extracting the training and testing data from the loaded dataset\n",
        "train_data = dataset[\"train\"]\n",
        "test_data = dataset[\"test\"]"
      ]
    },
    {
      "cell_type": "code",
      "execution_count": null,
      "metadata": {
        "colab": {
          "base_uri": "https://localhost:8080/"
        },
        "id": "X1pnoqWUauCO",
        "outputId": "2f2b3da1-b44f-4f30-fea4-d41402df1f96"
      },
      "outputs": [
        {
          "data": {
            "text/plain": [
              "Dataset({\n",
              "    features: ['sentence', 'relation'],\n",
              "    num_rows: 2717\n",
              "})"
            ]
          },
          "execution_count": 7,
          "metadata": {},
          "output_type": "execute_result"
        }
      ],
      "source": [
        "# Displaying the testing data\n",
        "test_data"
      ]
    },
    {
      "cell_type": "markdown",
      "metadata": {
        "id": "TxLDafewa0xA"
      },
      "source": [
        "### Convert Train_data to a DataFrame"
      ]
    },
    {
      "cell_type": "code",
      "execution_count": null,
      "metadata": {
        "colab": {
          "base_uri": "https://localhost:8080/",
          "height": 423
        },
        "id": "iWHZd_H7ayqd",
        "outputId": "2e403cbd-e8a7-4522-eff8-4216aee89ddb"
      },
      "outputs": [
        {
          "data": {
            "application/vnd.google.colaboratory.intrinsic+json": {
              "summary": "{\n  \"name\": \"train_df\",\n  \"rows\": 8000,\n  \"fields\": [\n    {\n      \"column\": \"sentence\",\n      \"properties\": {\n        \"dtype\": \"string\",\n        \"num_unique_values\": 8000,\n        \"samples\": [\n          \"The inhabitants send messages to each other by placing the <e1>message</e1> in a <e2>capsule</e2> and placing the capsule in a message tube.\",\n          \"I placed the <e1>cache</e1> in a natural <e2>cavity</e2>, at the base of a part of the fallen arch.\",\n          \"Since then, millions of <e1>dollars</e1> have gone into <e2>reconstructions</e2> for victims of tsunami in 2004.\"\n        ],\n        \"semantic_type\": \"\",\n        \"description\": \"\"\n      }\n    },\n    {\n      \"column\": \"relation\",\n      \"properties\": {\n        \"dtype\": \"number\",\n        \"std\": 6,\n        \"min\": 0,\n        \"max\": 18,\n        \"num_unique_values\": 19,\n        \"samples\": [\n          3,\n          6,\n          0\n        ],\n        \"semantic_type\": \"\",\n        \"description\": \"\"\n      }\n    }\n  ]\n}",
              "type": "dataframe",
              "variable_name": "train_df"
            },
            "text/html": [
              "\n",
              "  <div id=\"df-4f5faa16-4952-4f39-b2d6-de226133fdd0\" class=\"colab-df-container\">\n",
              "    <div>\n",
              "<style scoped>\n",
              "    .dataframe tbody tr th:only-of-type {\n",
              "        vertical-align: middle;\n",
              "    }\n",
              "\n",
              "    .dataframe tbody tr th {\n",
              "        vertical-align: top;\n",
              "    }\n",
              "\n",
              "    .dataframe thead th {\n",
              "        text-align: right;\n",
              "    }\n",
              "</style>\n",
              "<table border=\"1\" class=\"dataframe\">\n",
              "  <thead>\n",
              "    <tr style=\"text-align: right;\">\n",
              "      <th></th>\n",
              "      <th>sentence</th>\n",
              "      <th>relation</th>\n",
              "    </tr>\n",
              "  </thead>\n",
              "  <tbody>\n",
              "    <tr>\n",
              "      <th>0</th>\n",
              "      <td>The system as described above has its greatest...</td>\n",
              "      <td>3</td>\n",
              "    </tr>\n",
              "    <tr>\n",
              "      <th>1</th>\n",
              "      <td>The &lt;e1&gt;child&lt;/e1&gt; was carefully wrapped and b...</td>\n",
              "      <td>18</td>\n",
              "    </tr>\n",
              "    <tr>\n",
              "      <th>2</th>\n",
              "      <td>The &lt;e1&gt;author&lt;/e1&gt; of a keygen uses a &lt;e2&gt;dis...</td>\n",
              "      <td>11</td>\n",
              "    </tr>\n",
              "    <tr>\n",
              "      <th>3</th>\n",
              "      <td>A misty &lt;e1&gt;ridge&lt;/e1&gt; uprises from the &lt;e2&gt;su...</td>\n",
              "      <td>18</td>\n",
              "    </tr>\n",
              "    <tr>\n",
              "      <th>4</th>\n",
              "      <td>The &lt;e1&gt;student&lt;/e1&gt; &lt;e2&gt;association&lt;/e2&gt; is t...</td>\n",
              "      <td>12</td>\n",
              "    </tr>\n",
              "    <tr>\n",
              "      <th>...</th>\n",
              "      <td>...</td>\n",
              "      <td>...</td>\n",
              "    </tr>\n",
              "    <tr>\n",
              "      <th>7995</th>\n",
              "      <td>When the &lt;e1&gt;notice&lt;/e1&gt; is sent by &lt;e2&gt;fax&lt;/e...</td>\n",
              "      <td>18</td>\n",
              "    </tr>\n",
              "    <tr>\n",
              "      <th>7996</th>\n",
              "      <td>The &lt;e1&gt;herbicide&lt;/e1&gt; is derived from a natur...</td>\n",
              "      <td>8</td>\n",
              "    </tr>\n",
              "    <tr>\n",
              "      <th>7997</th>\n",
              "      <td>To test this, we placed a kitchen &lt;e1&gt;match&lt;/e...</td>\n",
              "      <td>6</td>\n",
              "    </tr>\n",
              "    <tr>\n",
              "      <th>7998</th>\n",
              "      <td>The farmers and city officials in the region h...</td>\n",
              "      <td>18</td>\n",
              "    </tr>\n",
              "    <tr>\n",
              "      <th>7999</th>\n",
              "      <td>The &lt;e1&gt;surgeon&lt;/e1&gt; cuts a small &lt;e2&gt;hole&lt;/e2...</td>\n",
              "      <td>17</td>\n",
              "    </tr>\n",
              "  </tbody>\n",
              "</table>\n",
              "<p>8000 rows × 2 columns</p>\n",
              "</div>\n",
              "    <div class=\"colab-df-buttons\">\n",
              "\n",
              "  <div class=\"colab-df-container\">\n",
              "    <button class=\"colab-df-convert\" onclick=\"convertToInteractive('df-4f5faa16-4952-4f39-b2d6-de226133fdd0')\"\n",
              "            title=\"Convert this dataframe to an interactive table.\"\n",
              "            style=\"display:none;\">\n",
              "\n",
              "  <svg xmlns=\"http://www.w3.org/2000/svg\" height=\"24px\" viewBox=\"0 -960 960 960\">\n",
              "    <path d=\"M120-120v-720h720v720H120Zm60-500h600v-160H180v160Zm220 220h160v-160H400v160Zm0 220h160v-160H400v160ZM180-400h160v-160H180v160Zm440 0h160v-160H620v160ZM180-180h160v-160H180v160Zm440 0h160v-160H620v160Z\"/>\n",
              "  </svg>\n",
              "    </button>\n",
              "\n",
              "  <style>\n",
              "    .colab-df-container {\n",
              "      display:flex;\n",
              "      gap: 12px;\n",
              "    }\n",
              "\n",
              "    .colab-df-convert {\n",
              "      background-color: #E8F0FE;\n",
              "      border: none;\n",
              "      border-radius: 50%;\n",
              "      cursor: pointer;\n",
              "      display: none;\n",
              "      fill: #1967D2;\n",
              "      height: 32px;\n",
              "      padding: 0 0 0 0;\n",
              "      width: 32px;\n",
              "    }\n",
              "\n",
              "    .colab-df-convert:hover {\n",
              "      background-color: #E2EBFA;\n",
              "      box-shadow: 0px 1px 2px rgba(60, 64, 67, 0.3), 0px 1px 3px 1px rgba(60, 64, 67, 0.15);\n",
              "      fill: #174EA6;\n",
              "    }\n",
              "\n",
              "    .colab-df-buttons div {\n",
              "      margin-bottom: 4px;\n",
              "    }\n",
              "\n",
              "    [theme=dark] .colab-df-convert {\n",
              "      background-color: #3B4455;\n",
              "      fill: #D2E3FC;\n",
              "    }\n",
              "\n",
              "    [theme=dark] .colab-df-convert:hover {\n",
              "      background-color: #434B5C;\n",
              "      box-shadow: 0px 1px 3px 1px rgba(0, 0, 0, 0.15);\n",
              "      filter: drop-shadow(0px 1px 2px rgba(0, 0, 0, 0.3));\n",
              "      fill: #FFFFFF;\n",
              "    }\n",
              "  </style>\n",
              "\n",
              "    <script>\n",
              "      const buttonEl =\n",
              "        document.querySelector('#df-4f5faa16-4952-4f39-b2d6-de226133fdd0 button.colab-df-convert');\n",
              "      buttonEl.style.display =\n",
              "        google.colab.kernel.accessAllowed ? 'block' : 'none';\n",
              "\n",
              "      async function convertToInteractive(key) {\n",
              "        const element = document.querySelector('#df-4f5faa16-4952-4f39-b2d6-de226133fdd0');\n",
              "        const dataTable =\n",
              "          await google.colab.kernel.invokeFunction('convertToInteractive',\n",
              "                                                    [key], {});\n",
              "        if (!dataTable) return;\n",
              "\n",
              "        const docLinkHtml = 'Like what you see? Visit the ' +\n",
              "          '<a target=\"_blank\" href=https://colab.research.google.com/notebooks/data_table.ipynb>data table notebook</a>'\n",
              "          + ' to learn more about interactive tables.';\n",
              "        element.innerHTML = '';\n",
              "        dataTable['output_type'] = 'display_data';\n",
              "        await google.colab.output.renderOutput(dataTable, element);\n",
              "        const docLink = document.createElement('div');\n",
              "        docLink.innerHTML = docLinkHtml;\n",
              "        element.appendChild(docLink);\n",
              "      }\n",
              "    </script>\n",
              "  </div>\n",
              "\n",
              "\n",
              "<div id=\"df-abe0bea2-9a07-4ba8-9636-49526ca6ebfa\">\n",
              "  <button class=\"colab-df-quickchart\" onclick=\"quickchart('df-abe0bea2-9a07-4ba8-9636-49526ca6ebfa')\"\n",
              "            title=\"Suggest charts\"\n",
              "            style=\"display:none;\">\n",
              "\n",
              "<svg xmlns=\"http://www.w3.org/2000/svg\" height=\"24px\"viewBox=\"0 0 24 24\"\n",
              "     width=\"24px\">\n",
              "    <g>\n",
              "        <path d=\"M19 3H5c-1.1 0-2 .9-2 2v14c0 1.1.9 2 2 2h14c1.1 0 2-.9 2-2V5c0-1.1-.9-2-2-2zM9 17H7v-7h2v7zm4 0h-2V7h2v10zm4 0h-2v-4h2v4z\"/>\n",
              "    </g>\n",
              "</svg>\n",
              "  </button>\n",
              "\n",
              "<style>\n",
              "  .colab-df-quickchart {\n",
              "      --bg-color: #E8F0FE;\n",
              "      --fill-color: #1967D2;\n",
              "      --hover-bg-color: #E2EBFA;\n",
              "      --hover-fill-color: #174EA6;\n",
              "      --disabled-fill-color: #AAA;\n",
              "      --disabled-bg-color: #DDD;\n",
              "  }\n",
              "\n",
              "  [theme=dark] .colab-df-quickchart {\n",
              "      --bg-color: #3B4455;\n",
              "      --fill-color: #D2E3FC;\n",
              "      --hover-bg-color: #434B5C;\n",
              "      --hover-fill-color: #FFFFFF;\n",
              "      --disabled-bg-color: #3B4455;\n",
              "      --disabled-fill-color: #666;\n",
              "  }\n",
              "\n",
              "  .colab-df-quickchart {\n",
              "    background-color: var(--bg-color);\n",
              "    border: none;\n",
              "    border-radius: 50%;\n",
              "    cursor: pointer;\n",
              "    display: none;\n",
              "    fill: var(--fill-color);\n",
              "    height: 32px;\n",
              "    padding: 0;\n",
              "    width: 32px;\n",
              "  }\n",
              "\n",
              "  .colab-df-quickchart:hover {\n",
              "    background-color: var(--hover-bg-color);\n",
              "    box-shadow: 0 1px 2px rgba(60, 64, 67, 0.3), 0 1px 3px 1px rgba(60, 64, 67, 0.15);\n",
              "    fill: var(--button-hover-fill-color);\n",
              "  }\n",
              "\n",
              "  .colab-df-quickchart-complete:disabled,\n",
              "  .colab-df-quickchart-complete:disabled:hover {\n",
              "    background-color: var(--disabled-bg-color);\n",
              "    fill: var(--disabled-fill-color);\n",
              "    box-shadow: none;\n",
              "  }\n",
              "\n",
              "  .colab-df-spinner {\n",
              "    border: 2px solid var(--fill-color);\n",
              "    border-color: transparent;\n",
              "    border-bottom-color: var(--fill-color);\n",
              "    animation:\n",
              "      spin 1s steps(1) infinite;\n",
              "  }\n",
              "\n",
              "  @keyframes spin {\n",
              "    0% {\n",
              "      border-color: transparent;\n",
              "      border-bottom-color: var(--fill-color);\n",
              "      border-left-color: var(--fill-color);\n",
              "    }\n",
              "    20% {\n",
              "      border-color: transparent;\n",
              "      border-left-color: var(--fill-color);\n",
              "      border-top-color: var(--fill-color);\n",
              "    }\n",
              "    30% {\n",
              "      border-color: transparent;\n",
              "      border-left-color: var(--fill-color);\n",
              "      border-top-color: var(--fill-color);\n",
              "      border-right-color: var(--fill-color);\n",
              "    }\n",
              "    40% {\n",
              "      border-color: transparent;\n",
              "      border-right-color: var(--fill-color);\n",
              "      border-top-color: var(--fill-color);\n",
              "    }\n",
              "    60% {\n",
              "      border-color: transparent;\n",
              "      border-right-color: var(--fill-color);\n",
              "    }\n",
              "    80% {\n",
              "      border-color: transparent;\n",
              "      border-right-color: var(--fill-color);\n",
              "      border-bottom-color: var(--fill-color);\n",
              "    }\n",
              "    90% {\n",
              "      border-color: transparent;\n",
              "      border-bottom-color: var(--fill-color);\n",
              "    }\n",
              "  }\n",
              "</style>\n",
              "\n",
              "  <script>\n",
              "    async function quickchart(key) {\n",
              "      const quickchartButtonEl =\n",
              "        document.querySelector('#' + key + ' button');\n",
              "      quickchartButtonEl.disabled = true;  // To prevent multiple clicks.\n",
              "      quickchartButtonEl.classList.add('colab-df-spinner');\n",
              "      try {\n",
              "        const charts = await google.colab.kernel.invokeFunction(\n",
              "            'suggestCharts', [key], {});\n",
              "      } catch (error) {\n",
              "        console.error('Error during call to suggestCharts:', error);\n",
              "      }\n",
              "      quickchartButtonEl.classList.remove('colab-df-spinner');\n",
              "      quickchartButtonEl.classList.add('colab-df-quickchart-complete');\n",
              "    }\n",
              "    (() => {\n",
              "      let quickchartButtonEl =\n",
              "        document.querySelector('#df-abe0bea2-9a07-4ba8-9636-49526ca6ebfa button');\n",
              "      quickchartButtonEl.style.display =\n",
              "        google.colab.kernel.accessAllowed ? 'block' : 'none';\n",
              "    })();\n",
              "  </script>\n",
              "</div>\n",
              "    </div>\n",
              "  </div>\n"
            ],
            "text/plain": [
              "                                               sentence  relation\n",
              "0     The system as described above has its greatest...         3\n",
              "1     The <e1>child</e1> was carefully wrapped and b...        18\n",
              "2     The <e1>author</e1> of a keygen uses a <e2>dis...        11\n",
              "3     A misty <e1>ridge</e1> uprises from the <e2>su...        18\n",
              "4     The <e1>student</e1> <e2>association</e2> is t...        12\n",
              "...                                                 ...       ...\n",
              "7995  When the <e1>notice</e1> is sent by <e2>fax</e...        18\n",
              "7996  The <e1>herbicide</e1> is derived from a natur...         8\n",
              "7997  To test this, we placed a kitchen <e1>match</e...         6\n",
              "7998  The farmers and city officials in the region h...        18\n",
              "7999  The <e1>surgeon</e1> cuts a small <e2>hole</e2...        17\n",
              "\n",
              "[8000 rows x 2 columns]"
            ]
          },
          "execution_count": 8,
          "metadata": {},
          "output_type": "execute_result"
        }
      ],
      "source": [
        "# Converting the training data to a DataFrame using pandas\n",
        "train_df = pd.DataFrame(train_data)\n",
        "train_df"
      ]
    },
    {
      "cell_type": "code",
      "execution_count": null,
      "metadata": {
        "id": "m6kmEWOLUGZK"
      },
      "outputs": [],
      "source": [
        "relation_labels_dict = {\n",
        "    '0': 'Cause-Effect(e1,e2)',\n",
        "    '1': 'Cause-Effect(e2,e1)',\n",
        "    '2': 'Component-Whole(e1,e2)',\n",
        "    '3': 'Component-Whole(e2,e1)',\n",
        "    '4': 'Content-Container(e1,e2)',\n",
        "    '5': 'Content-Container(e2,e1)',\n",
        "    '6': 'Entity-Destination(e1,e2)',\n",
        "    '7': 'Entity-Destination(e2,e1)',\n",
        "    '8': 'Entity-Origin(e1,e2)',\n",
        "    '9': 'Entity-Origin(e2,e1)',\n",
        "    '10': 'Instrument-Agency(e1,e2)',\n",
        "    '11': 'Instrument-Agency(e2,e1)',\n",
        "    '12': 'Member-Collection(e1,e2)',\n",
        "    '13': 'Member-Collection(e2,e1)',\n",
        "    '14': 'Message-Topic(e1,e2)',\n",
        "    '15': 'Message-Topic(e2,e1)',\n",
        "    '16': 'Product-Producer(e1,e2)',\n",
        "    '17': 'Product-Producer(e2,e1)',\n",
        "    '18': 'Other'\n",
        "}\n"
      ]
    },
    {
      "cell_type": "markdown",
      "metadata": {
        "id": "T7lNc_LAa4XM"
      },
      "source": [
        "### Generating Word Cloud for Initial Training Data\n"
      ]
    },
    {
      "cell_type": "code",
      "execution_count": null,
      "metadata": {
        "colab": {
          "base_uri": "https://localhost:8080/",
          "height": 444
        },
        "id": "3RS59vVSa2K8",
        "outputId": "cf5ccb36-bb20-4eb5-bb29-eb97dfdc24f2"
      },
      "outputs": [
        {
          "data": {
            "image/png": "[encoded data removed]",
            "text/plain": [
              "<Figure size 1000x500 with 1 Axes>"
            ]
          },
          "metadata": {},
          "output_type": "display_data"
        }
      ],
      "source": [
        "# Concatenating all sentences into a corpus of text\n",
        "all_sentences_train = \" \".join(train_df[\"sentence\"])\n",
        "\n",
        "# Create word cloud for training data\n",
        "wordcloud_train = WordCloud(width=800, height=400, background_color=\"white\")\n",
        "wordcloud_train.generate(all_sentences_train)\n",
        "\n",
        "#Display the word cloud for training data\n",
        "plt.figure(figsize=(10, 5))\n",
        "plt.imshow(wordcloud_train, interpolation='bilinear')\n",
        "plt.title(\"Word Cloud for Training Data\")\n",
        "plt.axis(\"off\")\n",
        "plt.show()"
      ]
    },
    {
      "cell_type": "markdown",
      "metadata": {
        "id": "UrUC4o1w68NX"
      },
      "source": [
        "### Entity Extraction from Sentences\n",
        "\n",
        "Function to extract entities and their indices from cleaned sentence.\n",
        "\n",
        "Args:\n",
        "- sentence (str): The cleaned sentence with entity tags.\n",
        "\n",
        "Returns:\n",
        "- e1 (str): The text of the first entity.\n",
        "- e2 (str): The text of the second entity.\n",
        "- e1_index (int): The starting index of the first entity.\n",
        "- e2_index (int): The starting index of the second entity."
      ]
    },
    {
      "cell_type": "code",
      "execution_count": null,
      "metadata": {
        "id": "nKNj_shHa7a4"
      },
      "outputs": [],
      "source": [
        "import re\n",
        "# Function to extract entities and their indices from cleaned sentence\n",
        "def extract_entities(sentence):\n",
        "    # Using regular expressions to find the text between <e1> and </e1> tags and <e2> and </e2> tags\n",
        "    e1_match = re.search(r'<e1>(.*?)<\\/e1>', sentence)\n",
        "    e2_match = re.search(r'<e2>(.*?)<\\/e2>', sentence)\n",
        "\n",
        "    # Extracting entity texts or setting empty string if not found\n",
        "    e1 = e1_match.group(1) if e1_match else ''\n",
        "    e2 = e2_match.group(1) if e2_match else ''\n",
        "\n",
        "    # Extracting entity indices or setting -1 if not found\n",
        "    e1_index = e1_match.start() if e1_match else -1\n",
        "    e2_index = e2_match.start() if e2_match else -1\n",
        "\n",
        "    return e1, e2, e1_index, e2_index\n",
        "\n",
        "# Apply the function to each row in the DataFrame\n",
        "train_df['e1'], train_df['e2'], train_df['e1_index'], train_df['e2_index'] = zip(*train_df['sentence'].apply(extract_entities))\n"
      ]
    },
    {
      "cell_type": "code",
      "execution_count": null,
      "metadata": {
        "colab": {
          "base_uri": "https://localhost:8080/",
          "height": 143
        },
        "id": "zL6snpVRa8OP",
        "outputId": "d708251f-9b28-4871-914c-ec5759ab2bd2"
      },
      "outputs": [
        {
          "data": {
            "application/vnd.google.colaboratory.intrinsic+json": {
              "summary": "{\n  \"name\": \"train_df\",\n  \"rows\": 8000,\n  \"fields\": [\n    {\n      \"column\": \"sentence\",\n      \"properties\": {\n        \"dtype\": \"string\",\n        \"num_unique_values\": 8000,\n        \"samples\": [\n          \"The inhabitants send messages to each other by placing the <e1>message</e1> in a <e2>capsule</e2> and placing the capsule in a message tube.\",\n          \"I placed the <e1>cache</e1> in a natural <e2>cavity</e2>, at the base of a part of the fallen arch.\",\n          \"Since then, millions of <e1>dollars</e1> have gone into <e2>reconstructions</e2> for victims of tsunami in 2004.\"\n        ],\n        \"semantic_type\": \"\",\n        \"description\": \"\"\n      }\n    },\n    {\n      \"column\": \"relation\",\n      \"properties\": {\n        \"dtype\": \"number\",\n        \"std\": 6,\n        \"min\": 0,\n        \"max\": 18,\n        \"num_unique_values\": 19,\n        \"samples\": [\n          3,\n          6,\n          0\n        ],\n        \"semantic_type\": \"\",\n        \"description\": \"\"\n      }\n    },\n    {\n      \"column\": \"e1\",\n      \"properties\": {\n        \"dtype\": \"category\",\n        \"num_unique_values\": 3979,\n        \"samples\": [\n          \"camaraderie\",\n          \"sensors\",\n          \"practices\"\n        ],\n        \"semantic_type\": \"\",\n        \"description\": \"\"\n      }\n    },\n    {\n      \"column\": \"e2\",\n      \"properties\": {\n        \"dtype\": \"string\",\n        \"num_unique_values\": 4146,\n        \"samples\": [\n          \"bachelors\",\n          \"pity\",\n          \"pet\"\n        ],\n        \"semantic_type\": \"\",\n        \"description\": \"\"\n      }\n    },\n    {\n      \"column\": \"e1_index\",\n      \"properties\": {\n        \"dtype\": \"number\",\n        \"std\": 32,\n        \"min\": 0,\n        \"max\": 377,\n        \"num_unique_values\": 187,\n        \"samples\": [\n          224,\n          68,\n          45\n        ],\n        \"semantic_type\": \"\",\n        \"description\": \"\"\n      }\n    },\n    {\n      \"column\": \"e2_index\",\n      \"properties\": {\n        \"dtype\": \"number\",\n        \"std\": 32,\n        \"min\": 13,\n        \"max\": 403,\n        \"num_unique_values\": 208,\n        \"samples\": [\n          159,\n          57,\n          85\n        ],\n        \"semantic_type\": \"\",\n        \"description\": \"\"\n      }\n    }\n  ]\n}",
              "type": "dataframe",
              "variable_name": "train_df"
            },
            "text/html": [
              "\n",
              "  <div id=\"df-d4044afe-4149-470a-897d-586ff6291dbb\" class=\"colab-df-container\">\n",
              "    <div>\n",
              "<style scoped>\n",
              "    .dataframe tbody tr th:only-of-type {\n",
              "        vertical-align: middle;\n",
              "    }\n",
              "\n",
              "    .dataframe tbody tr th {\n",
              "        vertical-align: top;\n",
              "    }\n",
              "\n",
              "    .dataframe thead th {\n",
              "        text-align: right;\n",
              "    }\n",
              "</style>\n",
              "<table border=\"1\" class=\"dataframe\">\n",
              "  <thead>\n",
              "    <tr style=\"text-align: right;\">\n",
              "      <th></th>\n",
              "      <th>sentence</th>\n",
              "      <th>relation</th>\n",
              "      <th>e1</th>\n",
              "      <th>e2</th>\n",
              "      <th>e1_index</th>\n",
              "      <th>e2_index</th>\n",
              "    </tr>\n",
              "  </thead>\n",
              "  <tbody>\n",
              "    <tr>\n",
              "      <th>0</th>\n",
              "      <td>The system as described above has its greatest...</td>\n",
              "      <td>3</td>\n",
              "      <td>configuration</td>\n",
              "      <td>elements</td>\n",
              "      <td>73</td>\n",
              "      <td>107</td>\n",
              "    </tr>\n",
              "    <tr>\n",
              "      <th>1</th>\n",
              "      <td>The &lt;e1&gt;child&lt;/e1&gt; was carefully wrapped and b...</td>\n",
              "      <td>18</td>\n",
              "      <td>child</td>\n",
              "      <td>cradle</td>\n",
              "      <td>4</td>\n",
              "      <td>60</td>\n",
              "    </tr>\n",
              "    <tr>\n",
              "      <th>2</th>\n",
              "      <td>The &lt;e1&gt;author&lt;/e1&gt; of a keygen uses a &lt;e2&gt;dis...</td>\n",
              "      <td>11</td>\n",
              "      <td>author</td>\n",
              "      <td>disassembler</td>\n",
              "      <td>4</td>\n",
              "      <td>39</td>\n",
              "    </tr>\n",
              "  </tbody>\n",
              "</table>\n",
              "</div>\n",
              "    <div class=\"colab-df-buttons\">\n",
              "\n",
              "  <div class=\"colab-df-container\">\n",
              "    <button class=\"colab-df-convert\" onclick=\"convertToInteractive('df-d4044afe-4149-470a-897d-586ff6291dbb')\"\n",
              "            title=\"Convert this dataframe to an interactive table.\"\n",
              "            style=\"display:none;\">\n",
              "\n",
              "  <svg xmlns=\"http://www.w3.org/2000/svg\" height=\"24px\" viewBox=\"0 -960 960 960\">\n",
              "    <path d=\"M120-120v-720h720v720H120Zm60-500h600v-160H180v160Zm220 220h160v-160H400v160Zm0 220h160v-160H400v160ZM180-400h160v-160H180v160Zm440 0h160v-160H620v160ZM180-180h160v-160H180v160Zm440 0h160v-160H620v160Z\"/>\n",
              "  </svg>\n",
              "    </button>\n",
              "\n",
              "  <style>\n",
              "    .colab-df-container {\n",
              "      display:flex;\n",
              "      gap: 12px;\n",
              "    }\n",
              "\n",
              "    .colab-df-convert {\n",
              "      background-color: #E8F0FE;\n",
              "      border: none;\n",
              "      border-radius: 50%;\n",
              "      cursor: pointer;\n",
              "      display: none;\n",
              "      fill: #1967D2;\n",
              "      height: 32px;\n",
              "      padding: 0 0 0 0;\n",
              "      width: 32px;\n",
              "    }\n",
              "\n",
              "    .colab-df-convert:hover {\n",
              "      background-color: #E2EBFA;\n",
              "      box-shadow: 0px 1px 2px rgba(60, 64, 67, 0.3), 0px 1px 3px 1px rgba(60, 64, 67, 0.15);\n",
              "      fill: #174EA6;\n",
              "    }\n",
              "\n",
              "    .colab-df-buttons div {\n",
              "      margin-bottom: 4px;\n",
              "    }\n",
              "\n",
              "    [theme=dark] .colab-df-convert {\n",
              "      background-color: #3B4455;\n",
              "      fill: #D2E3FC;\n",
              "    }\n",
              "\n",
              "    [theme=dark] .colab-df-convert:hover {\n",
              "      background-color: #434B5C;\n",
              "      box-shadow: 0px 1px 3px 1px rgba(0, 0, 0, 0.15);\n",
              "      filter: drop-shadow(0px 1px 2px rgba(0, 0, 0, 0.3));\n",
              "      fill: #FFFFFF;\n",
              "    }\n",
              "  </style>\n",
              "\n",
              "    <script>\n",
              "      const buttonEl =\n",
              "        document.querySelector('#df-d4044afe-4149-470a-897d-586ff6291dbb button.colab-df-convert');\n",
              "      buttonEl.style.display =\n",
              "        google.colab.kernel.accessAllowed ? 'block' : 'none';\n",
              "\n",
              "      async function convertToInteractive(key) {\n",
              "        const element = document.querySelector('#df-d4044afe-4149-470a-897d-586ff6291dbb');\n",
              "        const dataTable =\n",
              "          await google.colab.kernel.invokeFunction('convertToInteractive',\n",
              "                                                    [key], {});\n",
              "        if (!dataTable) return;\n",
              "\n",
              "        const docLinkHtml = 'Like what you see? Visit the ' +\n",
              "          '<a target=\"_blank\" href=https://colab.research.google.com/notebooks/data_table.ipynb>data table notebook</a>'\n",
              "          + ' to learn more about interactive tables.';\n",
              "        element.innerHTML = '';\n",
              "        dataTable['output_type'] = 'display_data';\n",
              "        await google.colab.output.renderOutput(dataTable, element);\n",
              "        const docLink = document.createElement('div');\n",
              "        docLink.innerHTML = docLinkHtml;\n",
              "        element.appendChild(docLink);\n",
              "      }\n",
              "    </script>\n",
              "  </div>\n",
              "\n",
              "\n",
              "<div id=\"df-adc3a956-cc49-43d1-b584-db7648aad293\">\n",
              "  <button class=\"colab-df-quickchart\" onclick=\"quickchart('df-adc3a956-cc49-43d1-b584-db7648aad293')\"\n",
              "            title=\"Suggest charts\"\n",
              "            style=\"display:none;\">\n",
              "\n",
              "<svg xmlns=\"http://www.w3.org/2000/svg\" height=\"24px\"viewBox=\"0 0 24 24\"\n",
              "     width=\"24px\">\n",
              "    <g>\n",
              "        <path d=\"M19 3H5c-1.1 0-2 .9-2 2v14c0 1.1.9 2 2 2h14c1.1 0 2-.9 2-2V5c0-1.1-.9-2-2-2zM9 17H7v-7h2v7zm4 0h-2V7h2v10zm4 0h-2v-4h2v4z\"/>\n",
              "    </g>\n",
              "</svg>\n",
              "  </button>\n",
              "\n",
              "<style>\n",
              "  .colab-df-quickchart {\n",
              "      --bg-color: #E8F0FE;\n",
              "      --fill-color: #1967D2;\n",
              "      --hover-bg-color: #E2EBFA;\n",
              "      --hover-fill-color: #174EA6;\n",
              "      --disabled-fill-color: #AAA;\n",
              "      --disabled-bg-color: #DDD;\n",
              "  }\n",
              "\n",
              "  [theme=dark] .colab-df-quickchart {\n",
              "      --bg-color: #3B4455;\n",
              "      --fill-color: #D2E3FC;\n",
              "      --hover-bg-color: #434B5C;\n",
              "      --hover-fill-color: #FFFFFF;\n",
              "      --disabled-bg-color: #3B4455;\n",
              "      --disabled-fill-color: #666;\n",
              "  }\n",
              "\n",
              "  .colab-df-quickchart {\n",
              "    background-color: var(--bg-color);\n",
              "    border: none;\n",
              "    border-radius: 50%;\n",
              "    cursor: pointer;\n",
              "    display: none;\n",
              "    fill: var(--fill-color);\n",
              "    height: 32px;\n",
              "    padding: 0;\n",
              "    width: 32px;\n",
              "  }\n",
              "\n",
              "  .colab-df-quickchart:hover {\n",
              "    background-color: var(--hover-bg-color);\n",
              "    box-shadow: 0 1px 2px rgba(60, 64, 67, 0.3), 0 1px 3px 1px rgba(60, 64, 67, 0.15);\n",
              "    fill: var(--button-hover-fill-color);\n",
              "  }\n",
              "\n",
              "  .colab-df-quickchart-complete:disabled,\n",
              "  .colab-df-quickchart-complete:disabled:hover {\n",
              "    background-color: var(--disabled-bg-color);\n",
              "    fill: var(--disabled-fill-color);\n",
              "    box-shadow: none;\n",
              "  }\n",
              "\n",
              "  .colab-df-spinner {\n",
              "    border: 2px solid var(--fill-color);\n",
              "    border-color: transparent;\n",
              "    border-bottom-color: var(--fill-color);\n",
              "    animation:\n",
              "      spin 1s steps(1) infinite;\n",
              "  }\n",
              "\n",
              "  @keyframes spin {\n",
              "    0% {\n",
              "      border-color: transparent;\n",
              "      border-bottom-color: var(--fill-color);\n",
              "      border-left-color: var(--fill-color);\n",
              "    }\n",
              "    20% {\n",
              "      border-color: transparent;\n",
              "      border-left-color: var(--fill-color);\n",
              "      border-top-color: var(--fill-color);\n",
              "    }\n",
              "    30% {\n",
              "      border-color: transparent;\n",
              "      border-left-color: var(--fill-color);\n",
              "      border-top-color: var(--fill-color);\n",
              "      border-right-color: var(--fill-color);\n",
              "    }\n",
              "    40% {\n",
              "      border-color: transparent;\n",
              "      border-right-color: var(--fill-color);\n",
              "      border-top-color: var(--fill-color);\n",
              "    }\n",
              "    60% {\n",
              "      border-color: transparent;\n",
              "      border-right-color: var(--fill-color);\n",
              "    }\n",
              "    80% {\n",
              "      border-color: transparent;\n",
              "      border-right-color: var(--fill-color);\n",
              "      border-bottom-color: var(--fill-color);\n",
              "    }\n",
              "    90% {\n",
              "      border-color: transparent;\n",
              "      border-bottom-color: var(--fill-color);\n",
              "    }\n",
              "  }\n",
              "</style>\n",
              "\n",
              "  <script>\n",
              "    async function quickchart(key) {\n",
              "      const quickchartButtonEl =\n",
              "        document.querySelector('#' + key + ' button');\n",
              "      quickchartButtonEl.disabled = true;  // To prevent multiple clicks.\n",
              "      quickchartButtonEl.classList.add('colab-df-spinner');\n",
              "      try {\n",
              "        const charts = await google.colab.kernel.invokeFunction(\n",
              "            'suggestCharts', [key], {});\n",
              "      } catch (error) {\n",
              "        console.error('Error during call to suggestCharts:', error);\n",
              "      }\n",
              "      quickchartButtonEl.classList.remove('colab-df-spinner');\n",
              "      quickchartButtonEl.classList.add('colab-df-quickchart-complete');\n",
              "    }\n",
              "    (() => {\n",
              "      let quickchartButtonEl =\n",
              "        document.querySelector('#df-adc3a956-cc49-43d1-b584-db7648aad293 button');\n",
              "      quickchartButtonEl.style.display =\n",
              "        google.colab.kernel.accessAllowed ? 'block' : 'none';\n",
              "    })();\n",
              "  </script>\n",
              "</div>\n",
              "    </div>\n",
              "  </div>\n"
            ],
            "text/plain": [
              "                                            sentence  relation             e1  \\\n",
              "0  The system as described above has its greatest...         3  configuration   \n",
              "1  The <e1>child</e1> was carefully wrapped and b...        18          child   \n",
              "2  The <e1>author</e1> of a keygen uses a <e2>dis...        11         author   \n",
              "\n",
              "             e2  e1_index  e2_index  \n",
              "0      elements        73       107  \n",
              "1        cradle         4        60  \n",
              "2  disassembler         4        39  "
            ]
          },
          "execution_count": 12,
          "metadata": {},
          "output_type": "execute_result"
        }
      ],
      "source": [
        "train_df.head(3)"
      ]
    },
    {
      "cell_type": "markdown",
      "metadata": {
        "id": "LU7EeT5UbALt"
      },
      "source": [
        "## Data Cleaning\n",
        "\n",
        "This function takes a DataFrame containing training data as input and returns a list of tokenized sentences. Each sentence is cleaned by converting it to lowercase, replacing entity tags with special tokens, and removing non-alphanumeric characters. Finally, the sentences are tokenized using NLTK's word_tokenize function.\n",
        "\n",
        "Steps involved:\n",
        "\n",
        "1. **Sentence Extraction**: For each row, it extracts the sentence and removes any leading or trailing quotes.\n",
        "2. **Lowercasing**: It converts the extracted sentence to lowercase using the lower() method.\n",
        "3. **Entity Tag Replacement**: It replaces <e1>, </e1>, <e2>, and </e2> tags with special tokens (E1_START, E1_END, E2_START, E2_END) using the replace() method.\n",
        "4. **Noise Removal**: It removes non-alphanumeric characters from the sentence using regular expressions (re.sub()).\n",
        "5. **Tokenization**: It tokenizes the cleaned sentence using NLTK's word_tokenize() function.\n",
        "6. **Storing Tokens**: It stores the tokenized sentence in the sentences list.\n",
        "7. **Return**: Finally, it returns the list of tokenized sentences (sentences)."
      ]
    },
    {
      "cell_type": "code",
      "execution_count": null,
      "metadata": {
        "id": "AQEJhI4la-Jb"
      },
      "outputs": [],
      "source": [
        "def clean_and_tokenize(train_df):\n",
        "    \"\"\"\n",
        "    Function to clean and tokenize sentences in the DataFrame.\n",
        "\n",
        "    Args:\n",
        "    - train_df (DataFrame): DataFrame containing the training data.\n",
        "\n",
        "    Returns:\n",
        "    - sentences (list of lists): Tokenized sentences.\n",
        "    \"\"\"\n",
        "    sentences, relations = [], []\n",
        "\n",
        "    for i, row in train_df.iterrows():\n",
        "        sentence = train_df['sentence'][i][0:-1]  # Remove leading/trailing quotes\n",
        "        #label = train_df['relation'][i]\n",
        "\n",
        "        # Convert Text to Lowercase\n",
        "        sentence = sentence.lower()\n",
        "\n",
        "        # Replace <e1> and </e1> tags with tokens\n",
        "        sentence = sentence.replace(\"<e1>\", \" E1_START \").replace(\"</e1>\", \" E1_END \")\n",
        "        # Replace <e2> and </e2> tags with tokens\n",
        "        sentence = sentence.replace(\"<e2>\", \" E2_START \").replace(\"</e2>\", \" E2_END \")\n",
        "\n",
        "        # Remove Noise\n",
        "        sentence = re.sub(r'[^a-zA-Z0-9\\s]', '', sentence)\n",
        "\n",
        "\n",
        "        # Tokenize the sentence\n",
        "        tokens = word_tokenize(sentence)\n",
        "\n",
        "        # Store preprocessed sentence and label\n",
        "        sentences.append(tokens)\n",
        "        #relations.append(label)\n",
        "\n",
        "    return sentences\n"
      ]
    },
    {
      "cell_type": "code",
      "execution_count": null,
      "metadata": {
        "colab": {
          "base_uri": "https://localhost:8080/"
        },
        "id": "qCcYEBXbbDJR",
        "outputId": "7a953d57-5913-4094-d246-739cebf556c3"
      },
      "outputs": [
        {
          "data": {
            "text/plain": [
              "['the',\n",
              " 'E1START',\n",
              " 'child',\n",
              " 'E1END',\n",
              " 'was',\n",
              " 'carefully',\n",
              " 'wrapped',\n",
              " 'and',\n",
              " 'bound',\n",
              " 'into',\n",
              " 'the',\n",
              " 'E2START',\n",
              " 'cradle',\n",
              " 'E2END',\n",
              " 'by',\n",
              " 'means',\n",
              " 'of',\n",
              " 'a',\n",
              " 'cord']"
            ]
          },
          "execution_count": 14,
          "metadata": {},
          "output_type": "execute_result"
        }
      ],
      "source": [
        "# Access the tokenized representation of the second sentence in the preprocessed training data\n",
        "sentences = clean_and_tokenize(train_df)\n",
        "sentences[1]"
      ]
    },
    {
      "cell_type": "code",
      "execution_count": null,
      "metadata": {
        "id": "XZnGUaC1bFgx"
      },
      "outputs": [],
      "source": [
        "# Apply the clean_and_tokenize function to preprocess and tokenize each sentence in the training data\n",
        "train_df['cleaned_tokens'] = clean_and_tokenize(train_df)"
      ]
    },
    {
      "cell_type": "code",
      "execution_count": null,
      "metadata": {
        "colab": {
          "base_uri": "https://localhost:8080/",
          "height": 195
        },
        "id": "4DaBCWQObGrq",
        "outputId": "c163e2d8-1426-4b1c-bb27-d88cc7c35f7d"
      },
      "outputs": [
        {
          "data": {
            "application/vnd.google.colaboratory.intrinsic+json": {
              "summary": "{\n  \"name\": \"train_df\",\n  \"rows\": 8000,\n  \"fields\": [\n    {\n      \"column\": \"sentence\",\n      \"properties\": {\n        \"dtype\": \"string\",\n        \"num_unique_values\": 8000,\n        \"samples\": [\n          \"The inhabitants send messages to each other by placing the <e1>message</e1> in a <e2>capsule</e2> and placing the capsule in a message tube.\",\n          \"I placed the <e1>cache</e1> in a natural <e2>cavity</e2>, at the base of a part of the fallen arch.\",\n          \"Since then, millions of <e1>dollars</e1> have gone into <e2>reconstructions</e2> for victims of tsunami in 2004.\"\n        ],\n        \"semantic_type\": \"\",\n        \"description\": \"\"\n      }\n    },\n    {\n      \"column\": \"relation\",\n      \"properties\": {\n        \"dtype\": \"number\",\n        \"std\": 6,\n        \"min\": 0,\n        \"max\": 18,\n        \"num_unique_values\": 19,\n        \"samples\": [\n          3,\n          6,\n          0\n        ],\n        \"semantic_type\": \"\",\n        \"description\": \"\"\n      }\n    },\n    {\n      \"column\": \"e1\",\n      \"properties\": {\n        \"dtype\": \"category\",\n        \"num_unique_values\": 3979,\n        \"samples\": [\n          \"camaraderie\",\n          \"sensors\",\n          \"practices\"\n        ],\n        \"semantic_type\": \"\",\n        \"description\": \"\"\n      }\n    },\n    {\n      \"column\": \"e2\",\n      \"properties\": {\n        \"dtype\": \"string\",\n        \"num_unique_values\": 4146,\n        \"samples\": [\n          \"bachelors\",\n          \"pity\",\n          \"pet\"\n        ],\n        \"semantic_type\": \"\",\n        \"description\": \"\"\n      }\n    },\n    {\n      \"column\": \"e1_index\",\n      \"properties\": {\n        \"dtype\": \"number\",\n        \"std\": 32,\n        \"min\": 0,\n        \"max\": 377,\n        \"num_unique_values\": 187,\n        \"samples\": [\n          224,\n          68,\n          45\n        ],\n        \"semantic_type\": \"\",\n        \"description\": \"\"\n      }\n    },\n    {\n      \"column\": \"e2_index\",\n      \"properties\": {\n        \"dtype\": \"number\",\n        \"std\": 32,\n        \"min\": 13,\n        \"max\": 403,\n        \"num_unique_values\": 208,\n        \"samples\": [\n          159,\n          57,\n          85\n        ],\n        \"semantic_type\": \"\",\n        \"description\": \"\"\n      }\n    },\n    {\n      \"column\": \"cleaned_tokens\",\n      \"properties\": {\n        \"dtype\": \"object\",\n        \"semantic_type\": \"\",\n        \"description\": \"\"\n      }\n    }\n  ]\n}",
              "type": "dataframe",
              "variable_name": "train_df"
            },
            "text/html": [
              "\n",
              "  <div id=\"df-4ba28f71-2ec2-4626-a16d-f51db401b571\" class=\"colab-df-container\">\n",
              "    <div>\n",
              "<style scoped>\n",
              "    .dataframe tbody tr th:only-of-type {\n",
              "        vertical-align: middle;\n",
              "    }\n",
              "\n",
              "    .dataframe tbody tr th {\n",
              "        vertical-align: top;\n",
              "    }\n",
              "\n",
              "    .dataframe thead th {\n",
              "        text-align: right;\n",
              "    }\n",
              "</style>\n",
              "<table border=\"1\" class=\"dataframe\">\n",
              "  <thead>\n",
              "    <tr style=\"text-align: right;\">\n",
              "      <th></th>\n",
              "      <th>sentence</th>\n",
              "      <th>relation</th>\n",
              "      <th>e1</th>\n",
              "      <th>e2</th>\n",
              "      <th>e1_index</th>\n",
              "      <th>e2_index</th>\n",
              "      <th>cleaned_tokens</th>\n",
              "    </tr>\n",
              "  </thead>\n",
              "  <tbody>\n",
              "    <tr>\n",
              "      <th>0</th>\n",
              "      <td>The system as described above has its greatest...</td>\n",
              "      <td>3</td>\n",
              "      <td>configuration</td>\n",
              "      <td>elements</td>\n",
              "      <td>73</td>\n",
              "      <td>107</td>\n",
              "      <td>[the, system, as, described, above, has, its, ...</td>\n",
              "    </tr>\n",
              "    <tr>\n",
              "      <th>1</th>\n",
              "      <td>The &lt;e1&gt;child&lt;/e1&gt; was carefully wrapped and b...</td>\n",
              "      <td>18</td>\n",
              "      <td>child</td>\n",
              "      <td>cradle</td>\n",
              "      <td>4</td>\n",
              "      <td>60</td>\n",
              "      <td>[the, E1START, child, E1END, was, carefully, w...</td>\n",
              "    </tr>\n",
              "    <tr>\n",
              "      <th>2</th>\n",
              "      <td>The &lt;e1&gt;author&lt;/e1&gt; of a keygen uses a &lt;e2&gt;dis...</td>\n",
              "      <td>11</td>\n",
              "      <td>author</td>\n",
              "      <td>disassembler</td>\n",
              "      <td>4</td>\n",
              "      <td>39</td>\n",
              "      <td>[the, E1START, author, E1END, of, a, keygen, u...</td>\n",
              "    </tr>\n",
              "  </tbody>\n",
              "</table>\n",
              "</div>\n",
              "    <div class=\"colab-df-buttons\">\n",
              "\n",
              "  <div class=\"colab-df-container\">\n",
              "    <button class=\"colab-df-convert\" onclick=\"convertToInteractive('df-4ba28f71-2ec2-4626-a16d-f51db401b571')\"\n",
              "            title=\"Convert this dataframe to an interactive table.\"\n",
              "            style=\"display:none;\">\n",
              "\n",
              "  <svg xmlns=\"http://www.w3.org/2000/svg\" height=\"24px\" viewBox=\"0 -960 960 960\">\n",
              "    <path d=\"M120-120v-720h720v720H120Zm60-500h600v-160H180v160Zm220 220h160v-160H400v160Zm0 220h160v-160H400v160ZM180-400h160v-160H180v160Zm440 0h160v-160H620v160ZM180-180h160v-160H180v160Zm440 0h160v-160H620v160Z\"/>\n",
              "  </svg>\n",
              "    </button>\n",
              "\n",
              "  <style>\n",
              "    .colab-df-container {\n",
              "      display:flex;\n",
              "      gap: 12px;\n",
              "    }\n",
              "\n",
              "    .colab-df-convert {\n",
              "      background-color: #E8F0FE;\n",
              "      border: none;\n",
              "      border-radius: 50%;\n",
              "      cursor: pointer;\n",
              "      display: none;\n",
              "      fill: #1967D2;\n",
              "      height: 32px;\n",
              "      padding: 0 0 0 0;\n",
              "      width: 32px;\n",
              "    }\n",
              "\n",
              "    .colab-df-convert:hover {\n",
              "      background-color: #E2EBFA;\n",
              "      box-shadow: 0px 1px 2px rgba(60, 64, 67, 0.3), 0px 1px 3px 1px rgba(60, 64, 67, 0.15);\n",
              "      fill: #174EA6;\n",
              "    }\n",
              "\n",
              "    .colab-df-buttons div {\n",
              "      margin-bottom: 4px;\n",
              "    }\n",
              "\n",
              "    [theme=dark] .colab-df-convert {\n",
              "      background-color: #3B4455;\n",
              "      fill: #D2E3FC;\n",
              "    }\n",
              "\n",
              "    [theme=dark] .colab-df-convert:hover {\n",
              "      background-color: #434B5C;\n",
              "      box-shadow: 0px 1px 3px 1px rgba(0, 0, 0, 0.15);\n",
              "      filter: drop-shadow(0px 1px 2px rgba(0, 0, 0, 0.3));\n",
              "      fill: #FFFFFF;\n",
              "    }\n",
              "  </style>\n",
              "\n",
              "    <script>\n",
              "      const buttonEl =\n",
              "        document.querySelector('#df-4ba28f71-2ec2-4626-a16d-f51db401b571 button.colab-df-convert');\n",
              "      buttonEl.style.display =\n",
              "        google.colab.kernel.accessAllowed ? 'block' : 'none';\n",
              "\n",
              "      async function convertToInteractive(key) {\n",
              "        const element = document.querySelector('#df-4ba28f71-2ec2-4626-a16d-f51db401b571');\n",
              "        const dataTable =\n",
              "          await google.colab.kernel.invokeFunction('convertToInteractive',\n",
              "                                                    [key], {});\n",
              "        if (!dataTable) return;\n",
              "\n",
              "        const docLinkHtml = 'Like what you see? Visit the ' +\n",
              "          '<a target=\"_blank\" href=https://colab.research.google.com/notebooks/data_table.ipynb>data table notebook</a>'\n",
              "          + ' to learn more about interactive tables.';\n",
              "        element.innerHTML = '';\n",
              "        dataTable['output_type'] = 'display_data';\n",
              "        await google.colab.output.renderOutput(dataTable, element);\n",
              "        const docLink = document.createElement('div');\n",
              "        docLink.innerHTML = docLinkHtml;\n",
              "        element.appendChild(docLink);\n",
              "      }\n",
              "    </script>\n",
              "  </div>\n",
              "\n",
              "\n",
              "<div id=\"df-fcebdd73-9994-4b2f-9612-4e724a7cc716\">\n",
              "  <button class=\"colab-df-quickchart\" onclick=\"quickchart('df-fcebdd73-9994-4b2f-9612-4e724a7cc716')\"\n",
              "            title=\"Suggest charts\"\n",
              "            style=\"display:none;\">\n",
              "\n",
              "<svg xmlns=\"http://www.w3.org/2000/svg\" height=\"24px\"viewBox=\"0 0 24 24\"\n",
              "     width=\"24px\">\n",
              "    <g>\n",
              "        <path d=\"M19 3H5c-1.1 0-2 .9-2 2v14c0 1.1.9 2 2 2h14c1.1 0 2-.9 2-2V5c0-1.1-.9-2-2-2zM9 17H7v-7h2v7zm4 0h-2V7h2v10zm4 0h-2v-4h2v4z\"/>\n",
              "    </g>\n",
              "</svg>\n",
              "  </button>\n",
              "\n",
              "<style>\n",
              "  .colab-df-quickchart {\n",
              "      --bg-color: #E8F0FE;\n",
              "      --fill-color: #1967D2;\n",
              "      --hover-bg-color: #E2EBFA;\n",
              "      --hover-fill-color: #174EA6;\n",
              "      --disabled-fill-color: #AAA;\n",
              "      --disabled-bg-color: #DDD;\n",
              "  }\n",
              "\n",
              "  [theme=dark] .colab-df-quickchart {\n",
              "      --bg-color: #3B4455;\n",
              "      --fill-color: #D2E3FC;\n",
              "      --hover-bg-color: #434B5C;\n",
              "      --hover-fill-color: #FFFFFF;\n",
              "      --disabled-bg-color: #3B4455;\n",
              "      --disabled-fill-color: #666;\n",
              "  }\n",
              "\n",
              "  .colab-df-quickchart {\n",
              "    background-color: var(--bg-color);\n",
              "    border: none;\n",
              "    border-radius: 50%;\n",
              "    cursor: pointer;\n",
              "    display: none;\n",
              "    fill: var(--fill-color);\n",
              "    height: 32px;\n",
              "    padding: 0;\n",
              "    width: 32px;\n",
              "  }\n",
              "\n",
              "  .colab-df-quickchart:hover {\n",
              "    background-color: var(--hover-bg-color);\n",
              "    box-shadow: 0 1px 2px rgba(60, 64, 67, 0.3), 0 1px 3px 1px rgba(60, 64, 67, 0.15);\n",
              "    fill: var(--button-hover-fill-color);\n",
              "  }\n",
              "\n",
              "  .colab-df-quickchart-complete:disabled,\n",
              "  .colab-df-quickchart-complete:disabled:hover {\n",
              "    background-color: var(--disabled-bg-color);\n",
              "    fill: var(--disabled-fill-color);\n",
              "    box-shadow: none;\n",
              "  }\n",
              "\n",
              "  .colab-df-spinner {\n",
              "    border: 2px solid var(--fill-color);\n",
              "    border-color: transparent;\n",
              "    border-bottom-color: var(--fill-color);\n",
              "    animation:\n",
              "      spin 1s steps(1) infinite;\n",
              "  }\n",
              "\n",
              "  @keyframes spin {\n",
              "    0% {\n",
              "      border-color: transparent;\n",
              "      border-bottom-color: var(--fill-color);\n",
              "      border-left-color: var(--fill-color);\n",
              "    }\n",
              "    20% {\n",
              "      border-color: transparent;\n",
              "      border-left-color: var(--fill-color);\n",
              "      border-top-color: var(--fill-color);\n",
              "    }\n",
              "    30% {\n",
              "      border-color: transparent;\n",
              "      border-left-color: var(--fill-color);\n",
              "      border-top-color: var(--fill-color);\n",
              "      border-right-color: var(--fill-color);\n",
              "    }\n",
              "    40% {\n",
              "      border-color: transparent;\n",
              "      border-right-color: var(--fill-color);\n",
              "      border-top-color: var(--fill-color);\n",
              "    }\n",
              "    60% {\n",
              "      border-color: transparent;\n",
              "      border-right-color: var(--fill-color);\n",
              "    }\n",
              "    80% {\n",
              "      border-color: transparent;\n",
              "      border-right-color: var(--fill-color);\n",
              "      border-bottom-color: var(--fill-color);\n",
              "    }\n",
              "    90% {\n",
              "      border-color: transparent;\n",
              "      border-bottom-color: var(--fill-color);\n",
              "    }\n",
              "  }\n",
              "</style>\n",
              "\n",
              "  <script>\n",
              "    async function quickchart(key) {\n",
              "      const quickchartButtonEl =\n",
              "        document.querySelector('#' + key + ' button');\n",
              "      quickchartButtonEl.disabled = true;  // To prevent multiple clicks.\n",
              "      quickchartButtonEl.classList.add('colab-df-spinner');\n",
              "      try {\n",
              "        const charts = await google.colab.kernel.invokeFunction(\n",
              "            'suggestCharts', [key], {});\n",
              "      } catch (error) {\n",
              "        console.error('Error during call to suggestCharts:', error);\n",
              "      }\n",
              "      quickchartButtonEl.classList.remove('colab-df-spinner');\n",
              "      quickchartButtonEl.classList.add('colab-df-quickchart-complete');\n",
              "    }\n",
              "    (() => {\n",
              "      let quickchartButtonEl =\n",
              "        document.querySelector('#df-fcebdd73-9994-4b2f-9612-4e724a7cc716 button');\n",
              "      quickchartButtonEl.style.display =\n",
              "        google.colab.kernel.accessAllowed ? 'block' : 'none';\n",
              "    })();\n",
              "  </script>\n",
              "</div>\n",
              "    </div>\n",
              "  </div>\n"
            ],
            "text/plain": [
              "                                            sentence  relation             e1  \\\n",
              "0  The system as described above has its greatest...         3  configuration   \n",
              "1  The <e1>child</e1> was carefully wrapped and b...        18          child   \n",
              "2  The <e1>author</e1> of a keygen uses a <e2>dis...        11         author   \n",
              "\n",
              "             e2  e1_index  e2_index  \\\n",
              "0      elements        73       107   \n",
              "1        cradle         4        60   \n",
              "2  disassembler         4        39   \n",
              "\n",
              "                                      cleaned_tokens  \n",
              "0  [the, system, as, described, above, has, its, ...  \n",
              "1  [the, E1START, child, E1END, was, carefully, w...  \n",
              "2  [the, E1START, author, E1END, of, a, keygen, u...  "
            ]
          },
          "execution_count": 16,
          "metadata": {},
          "output_type": "execute_result"
        }
      ],
      "source": [
        "# Display the first 3 rows of the DataFrame after preprocessing\n",
        "train_df.head(3)"
      ]
    },
    {
      "cell_type": "markdown",
      "metadata": {
        "id": "RJj5ZGj868NY"
      },
      "source": [
        "## Dependency Pasre Tree Structure"
      ]
    },
    {
      "cell_type": "markdown",
      "metadata": {
        "id": "odURDo8068NY"
      },
      "source": [
        "### Dependency Parsing Visualization after processing the sentences using SpaCy\n",
        "This code block showcases how to process sentences, visualize dependency parse trees, and extract token dependency information using the SpaCy library in Python."
      ]
    },
    {
      "cell_type": "code",
      "execution_count": null,
      "metadata": {
        "colab": {
          "base_uri": "https://localhost:8080/",
          "height": 557
        },
        "id": "hBQPI-xT68NY",
        "outputId": "4ed7cbba-e674-4049-b6a4-c0f74f3ecb6a"
      },
      "outputs": [
        {
          "name": "stdout",
          "output_type": "stream",
          "text": [
            "Dependency Parse for Sentence 1: 'People have been moving back into downtown.'\n"
          ]
        },
        {
          "data": {
            "text/html": [
              "<span class=\"tex2jax_ignore\"><svg xmlns=\"http://www.w3.org/2000/svg\" xmlns:xlink=\"http://www.w3.org/1999/xlink\" xml:lang=\"en\" id=\"5de166781e56460dadd14d7e2bc0975e-0\" class=\"displacy\" width=\"1100\" height=\"362.0\" direction=\"ltr\" style=\"max-width: none; height: 362.0px; color: black; background: white; font-family: Source Sans Pro; direction: ltr\">\n",
              "<text class=\"displacy-token\" fill=\"currentColor\" text-anchor=\"middle\" y=\"272.0\">\n",
              "    <tspan class=\"displacy-word\" fill=\"currentColor\" x=\"50\">People</tspan>\n",
              "    <tspan class=\"displacy-tag\" dy=\"2em\" fill=\"currentColor\" x=\"50\">NOUN</tspan>\n",
              "</text>\n",
              "\n",
              "<text class=\"displacy-token\" fill=\"currentColor\" text-anchor=\"middle\" y=\"272.0\">\n",
              "    <tspan class=\"displacy-word\" fill=\"currentColor\" x=\"200\">have</tspan>\n",
              "    <tspan class=\"displacy-tag\" dy=\"2em\" fill=\"currentColor\" x=\"200\">AUX</tspan>\n",
              "</text>\n",
              "\n",
              "<text class=\"displacy-token\" fill=\"currentColor\" text-anchor=\"middle\" y=\"272.0\">\n",
              "    <tspan class=\"displacy-word\" fill=\"currentColor\" x=\"350\">been</tspan>\n",
              "    <tspan class=\"displacy-tag\" dy=\"2em\" fill=\"currentColor\" x=\"350\">AUX</tspan>\n",
              "</text>\n",
              "\n",
              "<text class=\"displacy-token\" fill=\"currentColor\" text-anchor=\"middle\" y=\"272.0\">\n",
              "    <tspan class=\"displacy-word\" fill=\"currentColor\" x=\"500\">moving</tspan>\n",
              "    <tspan class=\"displacy-tag\" dy=\"2em\" fill=\"currentColor\" x=\"500\">VERB</tspan>\n",
              "</text>\n",
              "\n",
              "<text class=\"displacy-token\" fill=\"currentColor\" text-anchor=\"middle\" y=\"272.0\">\n",
              "    <tspan class=\"displacy-word\" fill=\"currentColor\" x=\"650\">back</tspan>\n",
              "    <tspan class=\"displacy-tag\" dy=\"2em\" fill=\"currentColor\" x=\"650\">ADV</tspan>\n",
              "</text>\n",
              "\n",
              "<text class=\"displacy-token\" fill=\"currentColor\" text-anchor=\"middle\" y=\"272.0\">\n",
              "    <tspan class=\"displacy-word\" fill=\"currentColor\" x=\"800\">into</tspan>\n",
              "    <tspan class=\"displacy-tag\" dy=\"2em\" fill=\"currentColor\" x=\"800\">ADP</tspan>\n",
              "</text>\n",
              "\n",
              "<text class=\"displacy-token\" fill=\"currentColor\" text-anchor=\"middle\" y=\"272.0\">\n",
              "    <tspan class=\"displacy-word\" fill=\"currentColor\" x=\"950\">downtown.</tspan>\n",
              "    <tspan class=\"displacy-tag\" dy=\"2em\" fill=\"currentColor\" x=\"950\">NOUN</tspan>\n",
              "</text>\n",
              "\n",
              "<g class=\"displacy-arrow\">\n",
              "    <path class=\"displacy-arc\" id=\"arrow-5de166781e56460dadd14d7e2bc0975e-0-0\" stroke-width=\"2px\" d=\"M62,227.0 62,152.0 500.0,152.0 500.0,227.0\" fill=\"none\" stroke=\"currentColor\"/>\n",
              "    <text dy=\"1.25em\" style=\"font-size: 0.8em; letter-spacing: 1px\">\n",
              "        <textPath xlink:href=\"#arrow-5de166781e56460dadd14d7e2bc0975e-0-0\" class=\"displacy-label\" startOffset=\"50%\" side=\"left\" fill=\"currentColor\" text-anchor=\"middle\">nsubj</textPath>\n",
              "    </text>\n",
              "    <path class=\"displacy-arrowhead\" d=\"M62,229.0 L58,221.0 66,221.0\" fill=\"currentColor\"/>\n",
              "</g>\n",
              "\n",
              "<g class=\"displacy-arrow\">\n",
              "    <path class=\"displacy-arc\" id=\"arrow-5de166781e56460dadd14d7e2bc0975e-0-1\" stroke-width=\"2px\" d=\"M212,227.0 212,177.0 497.0,177.0 497.0,227.0\" fill=\"none\" stroke=\"currentColor\"/>\n",
              "    <text dy=\"1.25em\" style=\"font-size: 0.8em; letter-spacing: 1px\">\n",
              "        <textPath xlink:href=\"#arrow-5de166781e56460dadd14d7e2bc0975e-0-1\" class=\"displacy-label\" startOffset=\"50%\" side=\"left\" fill=\"currentColor\" text-anchor=\"middle\">aux</textPath>\n",
              "    </text>\n",
              "    <path class=\"displacy-arrowhead\" d=\"M212,229.0 L208,221.0 216,221.0\" fill=\"currentColor\"/>\n",
              "</g>\n",
              "\n",
              "<g class=\"displacy-arrow\">\n",
              "    <path class=\"displacy-arc\" id=\"arrow-5de166781e56460dadd14d7e2bc0975e-0-2\" stroke-width=\"2px\" d=\"M362,227.0 362,202.0 494.0,202.0 494.0,227.0\" fill=\"none\" stroke=\"currentColor\"/>\n",
              "    <text dy=\"1.25em\" style=\"font-size: 0.8em; letter-spacing: 1px\">\n",
              "        <textPath xlink:href=\"#arrow-5de166781e56460dadd14d7e2bc0975e-0-2\" class=\"displacy-label\" startOffset=\"50%\" side=\"left\" fill=\"currentColor\" text-anchor=\"middle\">aux</textPath>\n",
              "    </text>\n",
              "    <path class=\"displacy-arrowhead\" d=\"M362,229.0 L358,221.0 366,221.0\" fill=\"currentColor\"/>\n",
              "</g>\n",
              "\n",
              "<g class=\"displacy-arrow\">\n",
              "    <path class=\"displacy-arc\" id=\"arrow-5de166781e56460dadd14d7e2bc0975e-0-3\" stroke-width=\"2px\" d=\"M512,227.0 512,202.0 644.0,202.0 644.0,227.0\" fill=\"none\" stroke=\"currentColor\"/>\n",
              "    <text dy=\"1.25em\" style=\"font-size: 0.8em; letter-spacing: 1px\">\n",
              "        <textPath xlink:href=\"#arrow-5de166781e56460dadd14d7e2bc0975e-0-3\" class=\"displacy-label\" startOffset=\"50%\" side=\"left\" fill=\"currentColor\" text-anchor=\"middle\">advmod</textPath>\n",
              "    </text>\n",
              "    <path class=\"displacy-arrowhead\" d=\"M644.0,229.0 L648.0,221.0 640.0,221.0\" fill=\"currentColor\"/>\n",
              "</g>\n",
              "\n",
              "<g class=\"displacy-arrow\">\n",
              "    <path class=\"displacy-arc\" id=\"arrow-5de166781e56460dadd14d7e2bc0975e-0-4\" stroke-width=\"2px\" d=\"M512,227.0 512,177.0 797.0,177.0 797.0,227.0\" fill=\"none\" stroke=\"currentColor\"/>\n",
              "    <text dy=\"1.25em\" style=\"font-size: 0.8em; letter-spacing: 1px\">\n",
              "        <textPath xlink:href=\"#arrow-5de166781e56460dadd14d7e2bc0975e-0-4\" class=\"displacy-label\" startOffset=\"50%\" side=\"left\" fill=\"currentColor\" text-anchor=\"middle\">prep</textPath>\n",
              "    </text>\n",
              "    <path class=\"displacy-arrowhead\" d=\"M797.0,229.0 L801.0,221.0 793.0,221.0\" fill=\"currentColor\"/>\n",
              "</g>\n",
              "\n",
              "<g class=\"displacy-arrow\">\n",
              "    <path class=\"displacy-arc\" id=\"arrow-5de166781e56460dadd14d7e2bc0975e-0-5\" stroke-width=\"2px\" d=\"M812,227.0 812,202.0 944.0,202.0 944.0,227.0\" fill=\"none\" stroke=\"currentColor\"/>\n",
              "    <text dy=\"1.25em\" style=\"font-size: 0.8em; letter-spacing: 1px\">\n",
              "        <textPath xlink:href=\"#arrow-5de166781e56460dadd14d7e2bc0975e-0-5\" class=\"displacy-label\" startOffset=\"50%\" side=\"left\" fill=\"currentColor\" text-anchor=\"middle\">pobj</textPath>\n",
              "    </text>\n",
              "    <path class=\"displacy-arrowhead\" d=\"M944.0,229.0 L948.0,221.0 940.0,221.0\" fill=\"currentColor\"/>\n",
              "</g>\n",
              "</svg></span>"
            ],
            "text/plain": [
              "<IPython.core.display.HTML object>"
            ]
          },
          "metadata": {},
          "output_type": "display_data"
        },
        {
          "name": "stdout",
          "output_type": "stream",
          "text": [
            "People <--nsubj-- moving\n",
            "have <--aux-- moving\n",
            "been <--aux-- moving\n",
            "moving <--ROOT-- moving\n",
            "back <--advmod-- moving\n",
            "into <--prep-- moving\n",
            "downtown <--pobj-- into\n",
            ". <--punct-- moving\n",
            "\n"
          ]
        }
      ],
      "source": [
        "# Load SpaCy English model\n",
        "nlp = spacy.load(\"en_core_web_sm\")\n",
        "\n",
        "# Sample sentences\n",
        "sentences = [\n",
        "    \"People have been moving back into downtown.\",\n",
        "]\n",
        "\n",
        "# Process each sentence and generate dependency parse structure\n",
        "\"\"\"\n",
        "The loop iterates through each sentence,\n",
        "processes it using SpaCy, and generates a dependency parse structure.\n",
        "\"\"\"\n",
        "for i, sentence in enumerate(sentences):\n",
        "    doc = nlp(sentence)\n",
        "    print(f\"Dependency Parse for Sentence {i+1}: '{sentence}'\")\n",
        "\n",
        "    # Generate dependency parse tree diagram\n",
        "    options = {\"compact\": True, \"bg\": \"white\", \"color\": \"black\", \"font\": \"Source Sans Pro\", \"fontsize\": 25}\n",
        "    displacy.render(doc, style=\"dep\", options=options, jupyter=True)\n",
        "\n",
        "    # Print the token dependency information\n",
        "    for token in doc:\n",
        "        print(f\"{token.text} <--{token.dep_}-- {token.head.text}\")\n",
        "    print()\n"
      ]
    },
    {
      "cell_type": "markdown",
      "metadata": {
        "id": "933GBSxrbJbY"
      },
      "source": [
        "## Padding and Tokenization\n",
        "This code block is responsible for tokenizing the cleaned sentences and then padding or truncating them to a fixed length for further processing\n",
        "\n",
        "1. **Fit Tokenizer on Cleaned Tokens**: The tokenizer is fitted on the cleaned tokens extracted from the training data. This step builds the vocabulary based on the tokens present in the data.\n",
        "2. Convert Sentences to Sequences: Using the tokenizer's texts_to_sequences method, the cleaned tokens are converted to sequences of indices. Each word in the sentences is replaced by its corresponding index in the vocabulary.\n",
        "3. **Padding/Truncating**: Finally, the sequences are padded or truncated to a fixed length (max_sent_len) using the pad_sequences function from TensorFlow. This ensures that all sequences have the same length, which is necessary for input to deep learning models."
      ]
    },
    {
      "cell_type": "code",
      "execution_count": null,
      "metadata": {
        "colab": {
          "base_uri": "https://localhost:8080/"
        },
        "id": "J3Jbw_oXbHLS",
        "outputId": "cb05bfbf-5cac-48cf-c157-25c500ac7a8c"
      },
      "outputs": [
        {
          "name": "stdout",
          "output_type": "stream",
          "text": [
            "Vocabulary size: 19936\n"
          ]
        },
        {
          "data": {
            "text/plain": [
              "array([[   1,   94,   21, ...,    0,    0,    0],\n",
              "       [   1,    2,  447, ...,    0,    0,    0],\n",
              "       [   1,    2,  226, ...,    0,    0,    0],\n",
              "       ...,\n",
              "       [  10,  740,   23, ...,    0,    0,    0],\n",
              "       [   1,  910,    8, ...,    0,    0,    0],\n",
              "       [   1,    2, 1532, ...,    0,    0,    0]], dtype=int32)"
            ]
          },
          "execution_count": 18,
          "metadata": {},
          "output_type": "execute_result"
        }
      ],
      "source": [
        "\n",
        "# Tokenize the sentences and pad/truncate them\n",
        "max_sent_len =100\n",
        "tokenizer = Tokenizer()\n",
        "\n",
        "# Fit tokenizer on the cleaned tokens\n",
        "tokenizer.fit_on_texts(list(train_df['cleaned_tokens']))\n",
        "\n",
        "# Print the vocabulary size\n",
        "print(\"Vocabulary size:\", len(tokenizer.word_counts))\n",
        "\n",
        "# Convert sentences to sequences of indices and pad/truncate to a fixed length\n",
        "sentences_idx = tokenizer.texts_to_sequences(train_df['cleaned_tokens'])\n",
        "sentences_idx = pad_sequences(sentences_idx, maxlen=max_sent_len, padding=\"post\")\n",
        "sentences_idx"
      ]
    },
    {
      "cell_type": "markdown",
      "metadata": {
        "id": "VmM3ykrpbNbl"
      },
      "source": [
        "## Mask for entity words in the input sentences\n",
        "Generate a mask where 1 represents entity words and 0 represents other words.\n",
        "\n",
        "Args:\n",
        "- x (numpy.ndarray): Input sentences converted to indices.\n",
        "- word_index (dict): Dictionary mapping word tokens to their indices.\n",
        "\n",
        "Returns:\n",
        "- ret (numpy.ndarray): Mask array where 1 represents entity words and 0 represents other words.\n"
      ]
    },
    {
      "cell_type": "code",
      "execution_count": null,
      "metadata": {
        "id": "BPtXh25ZbLP1"
      },
      "outputs": [],
      "source": [
        "# Function to create a mask for entity words in the input sequence.\n",
        "def get_mask_entities(x, word_index):\n",
        "    ''' 1 for entity words, 0 otherwise '''\n",
        "\n",
        "    ret = np.zeros_like(x)\n",
        "    for i in range(x.shape[0]):\n",
        "        e1 = [0, 0]\n",
        "        e2 = [0, 0]\n",
        "        for j in range(x.shape[1]):\n",
        "            if x[i][j] == word_index[\"e1start\"]:\n",
        "                e1[0] = j\n",
        "            elif x[i][j] == word_index[\"e1end\"]:\n",
        "                e1[1] = j\n",
        "            elif x[i][j] == word_index[\"e2start\"]:\n",
        "                e2[0] = j\n",
        "            elif x[i][j] == word_index[\"e2end\"]:\n",
        "                e2[1] = j\n",
        "                break\n",
        "        for j in range(e1[0]+1, e1[1]):\n",
        "            ret[i][j] = 1\n",
        "        for j in range(e2[0]+1, e2[1]):\n",
        "            ret[i][j] = 1\n",
        "\n",
        "    return ret"
      ]
    },
    {
      "cell_type": "code",
      "execution_count": null,
      "metadata": {
        "id": "Alv5c4lpbPAo"
      },
      "outputs": [],
      "source": [
        "# Get dictionary of word indexes.\n",
        "word_index = tokenizer.word_index\n",
        "\n",
        "# Get masked sentence, i.e. only entity words are 1, rest all the words are 0.\n",
        "mask_entities = get_mask_entities(sentences_idx, word_index)"
      ]
    },
    {
      "cell_type": "code",
      "execution_count": null,
      "metadata": {
        "colab": {
          "base_uri": "https://localhost:8080/"
        },
        "id": "xMXsBOr8bQRU",
        "outputId": "52abb357-e9b8-4514-b273-9d5a840e88d7"
      },
      "outputs": [
        {
          "data": {
            "text/plain": [
              "array([[0, 0, 0, ..., 0, 0, 0],\n",
              "       [0, 0, 1, ..., 0, 0, 0],\n",
              "       [0, 0, 1, ..., 0, 0, 0],\n",
              "       ...,\n",
              "       [0, 0, 0, ..., 0, 0, 0],\n",
              "       [0, 0, 0, ..., 0, 0, 0],\n",
              "       [0, 0, 1, ..., 0, 0, 0]], dtype=int32)"
            ]
          },
          "execution_count": 21,
          "metadata": {},
          "output_type": "execute_result"
        }
      ],
      "source": [
        "# Print the masked sentences matrix\n",
        "mask_entities"
      ]
    },
    {
      "cell_type": "markdown",
      "metadata": {
        "id": "8EPdRkjKbR5s"
      },
      "source": [
        "## Function to Load GloVe Word Embeddings and Create Embedding Matrix\n",
        "* load_glove: This function loads GloVe word embeddings from a specified file and creates an embedding matrix.\n",
        "\n",
        "* Args:\n",
        "word_index: Dictionary containing word-index mappings.\n",
        "* Returns:\n",
        "embedding_matrix: Matrix containing word embeddings.\n",
        "* Process:\n",
        "   1. Load GloVe embeddings from the file specified by EMBEDDING_FILE.\n",
        "   2. Calculate the mean and standard deviation of the embeddings.\n",
        "   3. Initialize an embedding matrix with random values.\n",
        "   4. Fill the embedding matrix with GloVe embeddings for words in word_index.\n",
        "* Note: The function assumes that the GloVe embeddings file is in the correct format and that the embeddings have the same dimensionality (embed_size) as specified in the function."
      ]
    },
    {
      "cell_type": "code",
      "execution_count": null,
      "metadata": {
        "id": "pfG8ghVlbT4b"
      },
      "outputs": [],
      "source": [
        "def load_glove(word_index):\n",
        "\n",
        "    # Path to the GloVe embeddings file\n",
        "    EMBEDDING_FILE = 'glove.6B.100d.txt'\n",
        "\n",
        "    # Function to get word coefficients from GloVe file\n",
        "    def get_coefs(word,*arr): return word, np.asarray(arr, dtype='float32')\n",
        "\n",
        "    # Read GloVe embeddings into a dictionary\n",
        "    embeddings_index = dict(get_coefs(*o.split(\" \")) for o in open(EMBEDDING_FILE, encoding=\"utf8\"))\n",
        "\n",
        "    # Calculate mean and standard deviation of the embeddings\n",
        "    all_embs = np.stack(list(embeddings_index.values()))\n",
        "    emb_mean,emb_std = all_embs.mean(), all_embs.std()\n",
        "    embed_size = all_embs.shape[1]\n",
        "\n",
        "    # Initialize embedding matrix with random values\n",
        "    num_words = len(word_index)\n",
        "    embedding_matrix = np.random.normal(emb_mean, emb_std, (num_words, embed_size))\n",
        "\n",
        "    # Fill embedding matrix with GloVe embeddings for words in word_index\n",
        "    for word, i in word_index.items():\n",
        "        if i >= num_words: continue\n",
        "        embedding_vector = embeddings_index.get(word)\n",
        "        if embedding_vector is not None: embedding_matrix[i] = embedding_vector\n",
        "\n",
        "    return embedding_matrix\n"
      ]
    },
    {
      "cell_type": "code",
      "execution_count": null,
      "metadata": {
        "colab": {
          "base_uri": "https://localhost:8080/"
        },
        "id": "CUIZCfngbV_J",
        "outputId": "809e1fe8-6a91-4d33-9258-b1ab381e62f5"
      },
      "outputs": [
        {
          "name": "stdout",
          "output_type": "stream",
          "text": [
            "Embedding matrix shape: (19936, 100)\n"
          ]
        }
      ],
      "source": [
        "# Load Embedding for all the unique words in the vocab.\n",
        "embedding = load_glove(word_index)\n",
        "print(\"Embedding matrix shape:\", embedding.shape)"
      ]
    },
    {
      "cell_type": "markdown",
      "metadata": {
        "id": "Ef9xoFRObYoD"
      },
      "source": [
        "### Encoding Relations"
      ]
    },
    {
      "cell_type": "code",
      "execution_count": null,
      "metadata": {
        "colab": {
          "base_uri": "https://localhost:8080/"
        },
        "id": "EuUmHpO_bXOC",
        "outputId": "9f58a08a-9cfd-4807-95cf-f1bb1a8d95d0"
      },
      "outputs": [
        {
          "name": "stdout",
          "output_type": "stream",
          "text": [
            "Total Number of relations: 19\n",
            "Relations:\n",
            " [ 0  1  2  3  4  5  6  7  8  9 10 11 12 13 14 15 16 17 18]\n"
          ]
        }
      ],
      "source": [
        "# Encoding the relations to indexes.\n",
        "label_encoder = LabelEncoder()\n",
        "relations_idx = label_encoder.fit_transform(train_df['relation'])\n",
        "print(\"Total Number of relations:\", len(label_encoder.classes_))\n",
        "print(\"Relations:\\n\", label_encoder.classes_)"
      ]
    },
    {
      "cell_type": "markdown",
      "metadata": {
        "id": "yi7OjjTitbMI"
      },
      "source": [
        "## Model Definition : Bidirectional LSTM + CNN with Multi-head Attention"
      ]
    },
    {
      "cell_type": "code",
      "execution_count": 35,
      "metadata": {
        "colab": {
          "base_uri": "https://localhost:8080/"
        },
        "id": "uitCQSHecQyX",
        "outputId": "b6dfe532-45b8-4978-d152-a361cb106bcd"
      },
      "outputs": [
        {
          "name": "stdout",
          "output_type": "stream",
          "text": [
            "Model: \"model_1\"\n",
            "__________________________________________________________________________________________________\n",
            " Layer (type)                Output Shape                 Param #   Connected to                  \n",
            "==================================================================================================\n",
            " input_3 (InputLayer)        [(None, 100)]                0         []                            \n",
            "                                                                                                  \n",
            " embedding_1 (Embedding)     (None, 100, 100)             1993600   ['input_3[0][0]']             \n",
            "                                                                                                  \n",
            " dropout_7 (Dropout)         (None, 100, 100)             0         ['embedding_1[0][0]']         \n",
            "                                                                                                  \n",
            " bidirectional_1 (Bidirecti  (None, 100, 400)             481600    ['dropout_7[0][0]']           \n",
            " onal)                                                                                            \n",
            "                                                                                                  \n",
            " dropout_8 (Dropout)         (None, 100, 400)             0         ['bidirectional_1[0][0]']     \n",
            "                                                                                                  \n",
            " dropout_9 (Dropout)         (None, 100, 400)             0         ['dropout_8[0][0]']           \n",
            "                                                                                                  \n",
            " dropout_10 (Dropout)        (None, 100, 400)             0         ['dropout_9[0][0]']           \n",
            "                                                                                                  \n",
            " conv1d_3 (Conv1D)           (None, 98, 100)              120100    ['dropout_8[0][0]']           \n",
            "                                                                                                  \n",
            " conv1d_4 (Conv1D)           (None, 97, 100)              160100    ['dropout_9[0][0]']           \n",
            "                                                                                                  \n",
            " conv1d_5 (Conv1D)           (None, 96, 100)              200100    ['dropout_10[0][0]']          \n",
            "                                                                                                  \n",
            " global_max_pooling1d_4 (Gl  (None, 100)                  0         ['conv1d_3[0][0]']            \n",
            " obalMaxPooling1D)                                                                                \n",
            "                                                                                                  \n",
            " global_max_pooling1d_5 (Gl  (None, 100)                  0         ['conv1d_4[0][0]']            \n",
            " obalMaxPooling1D)                                                                                \n",
            "                                                                                                  \n",
            " global_max_pooling1d_6 (Gl  (None, 100)                  0         ['conv1d_5[0][0]']            \n",
            " obalMaxPooling1D)                                                                                \n",
            "                                                                                                  \n",
            " concatenate_2 (Concatenate  (None, 300)                  0         ['global_max_pooling1d_4[0][0]\n",
            " )                                                                  ',                            \n",
            "                                                                     'global_max_pooling1d_5[0][0]\n",
            "                                                                    ',                            \n",
            "                                                                     'global_max_pooling1d_6[0][0]\n",
            "                                                                    ']                            \n",
            "                                                                                                  \n",
            " concatenate_3 (Concatenate  (None, 300)                  0         ['concatenate_2[0][0]']       \n",
            " )                                                                                                \n",
            "                                                                                                  \n",
            " dense_4 (Dense)             (None, 200)                  60200     ['concatenate_3[0][0]']       \n",
            "                                                                                                  \n",
            " dropout_13 (Dropout)        (None, 200)                  0         ['dense_4[0][0]']             \n",
            "                                                                                                  \n",
            " input_4 (InputLayer)        [(None, 100)]                0         []                            \n",
            "                                                                                                  \n",
            " dense_5 (Dense)             (None, 19)                   3819      ['dropout_13[0][0]']          \n",
            "                                                                                                  \n",
            "==================================================================================================\n",
            "Total params: 3019519 (11.52 MB)\n",
            "Trainable params: 3019519 (11.52 MB)\n",
            "Non-trainable params: 0 (0.00 Byte)\n",
            "__________________________________________________________________________________________________\n"
          ]
        }
      ],
      "source": [
        "# Import necessary modules\n",
        "from tensorflow.keras.layers import Layer, Input, Embedding, Dropout, Conv1D, Bidirectional, LSTM, Activation, GlobalMaxPooling1D, Dense, concatenate, MultiHeadAttention\n",
        "from tensorflow.keras.models import Model\n",
        "from tensorflow.keras.optimizers import Nadam\n",
        "from tensorflow.keras.utils import to_categorical\n",
        "from tensorflow.keras.callbacks import ReduceLROnPlateau, EarlyStopping\n",
        "\n",
        "\n",
        "# Define inputs\n",
        "words_input = Input(shape=(max_sent_len,), dtype='int32') # Input for word indices\n",
        "words_input_mask = Input(shape=(max_sent_len,), dtype='int32') # Input for mask entities\n",
        "\n",
        "# Embedding layer\n",
        "embedding_size = embedding.shape[1]\n",
        "words = Embedding(input_dim=embedding.shape[0], output_dim=embedding_size, weights=[embedding], trainable=True)(words_input)\n",
        "words = Dropout(rate=0.5)(words) # Dropout layer to prevent overfitting\n",
        "\n",
        "# Bidirectional LSTM layer\n",
        "output = Bidirectional(LSTM(units=200, return_sequences=True))(words)\n",
        "output = Dropout(rate=0.3)(output)\n",
        "\n",
        "# Parallel Convolutional layers\n",
        "output1 = Conv1D(filters=100, kernel_size=3, activation='relu')(output)\n",
        "output = Dropout(rate=0.3)(output)\n",
        "output2 = Conv1D(filters=100, kernel_size=4, activation='relu')(output)\n",
        "output = Dropout(rate=0.3)(output)\n",
        "output3 = Conv1D(filters=100, kernel_size=5, activation='relu')(output)\n",
        "output = Dropout(rate=0.3)(output)\n",
        "\n",
        "# Max-pooling and concatenate\n",
        "output1 = GlobalMaxPooling1D()(output1)\n",
        "output2 = GlobalMaxPooling1D()(output2)\n",
        "output3 = GlobalMaxPooling1D()(output3)\n",
        "merged = concatenate([output1, output2, output3])\n",
        "\n",
        "# Multi-Head Attention\n",
        "attention_output = MultiHeadAttention(num_heads=8, key_dim=64)(output, output)\n",
        "attention_output = GlobalMaxPooling1D()(attention_output)\n",
        "\n",
        "# Concatenate attention output with previous dense layers\n",
        "merged_with_attention = concatenate([merged])\n",
        "\n",
        "# Dense layers\n",
        "output = Dense(units=300, activation='relu')(merged_with_attention)\n",
        "output = Dropout(rate=0.5)(output)\n",
        "output = Dense(units=200, activation='relu')(merged_with_attention)\n",
        "output = Dropout(rate=0.5)(output)\n",
        "\n",
        "# Final prediction layer\n",
        "output = Dense(units=len(label_encoder.classes_), activation='softmax')(output)\n",
        "\n",
        "# Define and compile the model\n",
        "model = Model(inputs=[words_input, words_input_mask], outputs=output)\n",
        "model.compile(optimizer=Nadam(learning_rate=0.002), loss='categorical_crossentropy', metrics=['accuracy'])\n",
        "\n",
        "# Print a summary of the model architecture\n",
        "model.summary()\n",
        "\n",
        "# Convert integer labels to one-hot encoding\n",
        "relations_one_hot = to_categorical(relations_idx, num_classes=len(label_encoder.classes_))\n",
        "\n",
        "# Define callbacks for model training\n",
        "reduce_lr = ReduceLROnPlateau(monitor='val_loss', factor=0.2, patience=5, min_lr=0.0001)\n",
        "early_stopping = EarlyStopping(monitor='val_loss', patience=10, restore_best_weights=True)"
      ]
    },
    {
      "cell_type": "markdown",
      "metadata": {
        "id": "5oa-fAfx68Na"
      },
      "source": [
        "## Training the Model"
      ]
    },
    {
      "cell_type": "code",
      "execution_count": 36,
      "metadata": {
        "colab": {
          "base_uri": "https://localhost:8080/"
        },
        "id": "SduB3acy68Na",
        "outputId": "67625f5d-90eb-4de3-f167-93acced7f5b0"
      },
      "outputs": [
        {
          "name": "stdout",
          "output_type": "stream",
          "text": [
            "Epoch 1/20\n",
            "50/50 [==============================] - 19s 185ms/step - loss: 2.5951 - accuracy: 0.1934 - val_loss: 2.2893 - val_accuracy: 0.2944\n",
            "Epoch 2/20\n",
            "50/50 [==============================] - 6s 116ms/step - loss: 1.8682 - accuracy: 0.4009 - val_loss: 1.6797 - val_accuracy: 0.4588\n",
            "Epoch 3/20\n",
            "50/50 [==============================] - 5s 92ms/step - loss: 1.3848 - accuracy: 0.5556 - val_loss: 1.4800 - val_accuracy: 0.5069\n",
            "Epoch 4/20\n",
            "50/50 [==============================] - 6s 129ms/step - loss: 1.1737 - accuracy: 0.6195 - val_loss: 1.3668 - val_accuracy: 0.5475\n",
            "Epoch 5/20\n",
            "50/50 [==============================] - 3s 68ms/step - loss: 1.0353 - accuracy: 0.6716 - val_loss: 1.3594 - val_accuracy: 0.5469\n",
            "Epoch 6/20\n",
            "50/50 [==============================] - 4s 77ms/step - loss: 0.9180 - accuracy: 0.7100 - val_loss: 1.3109 - val_accuracy: 0.5788\n",
            "Epoch 7/20\n",
            "50/50 [==============================] - 3s 70ms/step - loss: 0.8124 - accuracy: 0.7425 - val_loss: 1.2392 - val_accuracy: 0.5875\n",
            "Epoch 8/20\n",
            "50/50 [==============================] - 3s 60ms/step - loss: 0.7474 - accuracy: 0.7605 - val_loss: 1.2774 - val_accuracy: 0.6100\n",
            "Epoch 9/20\n",
            "50/50 [==============================] - 3s 64ms/step - loss: 0.6490 - accuracy: 0.7956 - val_loss: 1.3158 - val_accuracy: 0.5981\n",
            "Epoch 10/20\n",
            "50/50 [==============================] - 3s 65ms/step - loss: 0.5874 - accuracy: 0.8136 - val_loss: 1.3256 - val_accuracy: 0.6175\n",
            "Epoch 11/20\n",
            "50/50 [==============================] - 3s 61ms/step - loss: 0.5214 - accuracy: 0.8352 - val_loss: 1.3244 - val_accuracy: 0.6331\n",
            "Epoch 12/20\n",
            "50/50 [==============================] - 3s 62ms/step - loss: 0.4764 - accuracy: 0.8458 - val_loss: 1.2946 - val_accuracy: 0.6350\n",
            "Epoch 13/20\n",
            "50/50 [==============================] - 3s 57ms/step - loss: 0.4112 - accuracy: 0.8658 - val_loss: 1.5078 - val_accuracy: 0.6206\n",
            "Epoch 14/20\n",
            "50/50 [==============================] - 3s 60ms/step - loss: 0.3754 - accuracy: 0.8841 - val_loss: 1.3981 - val_accuracy: 0.6175\n",
            "Epoch 15/20\n",
            "50/50 [==============================] - 3s 69ms/step - loss: 0.3390 - accuracy: 0.8881 - val_loss: 1.6375 - val_accuracy: 0.6137\n",
            "Epoch 16/20\n",
            "50/50 [==============================] - 3s 63ms/step - loss: 0.3046 - accuracy: 0.9019 - val_loss: 1.4803 - val_accuracy: 0.6331\n",
            "Epoch 17/20\n",
            "50/50 [==============================] - 3s 59ms/step - loss: 0.2714 - accuracy: 0.9103 - val_loss: 1.6757 - val_accuracy: 0.6200\n",
            "Epoch 18/20\n",
            "50/50 [==============================] - 3s 54ms/step - loss: 0.2491 - accuracy: 0.9253 - val_loss: 1.5728 - val_accuracy: 0.6344\n",
            "Epoch 19/20\n",
            "50/50 [==============================] - 3s 61ms/step - loss: 0.2185 - accuracy: 0.9275 - val_loss: 1.6747 - val_accuracy: 0.6306\n",
            "Epoch 20/20\n",
            "50/50 [==============================] - 3s 55ms/step - loss: 0.1902 - accuracy: 0.9381 - val_loss: 1.8565 - val_accuracy: 0.6294\n"
          ]
        }
      ],
      "source": [
        "# Train the model\n",
        "history = model.fit([sentences_idx, mask_entities], relations_one_hot, shuffle=True, batch_size=128, epochs=20, verbose=1, validation_split=0.2)"
      ]
    },
    {
      "cell_type": "markdown",
      "metadata": {
        "id": "IwyyoH1Cb8k3"
      },
      "source": [
        "## Evaluating on unseen test data\n",
        "\n",
        "---\n",
        "\n"
      ]
    },
    {
      "cell_type": "markdown",
      "metadata": {
        "id": "Rgmix6uA68Nb"
      },
      "source": [
        "### Loading and Preprocessing Test Data\n",
        "\n",
        "Result:\n",
        "\n",
        "* test_x_idx: Tokenized and padded sequences of sentences.\n",
        "* test_mask_entities: Mask for entities in the test sentences.\n",
        "* test_y_idx: Transformed numerical labels for relations."
      ]
    },
    {
      "cell_type": "code",
      "execution_count": 37,
      "metadata": {
        "colab": {
          "base_uri": "https://localhost:8080/"
        },
        "id": "MfqhoBSUb99r",
        "outputId": "2734f370-e753-4bdf-cbd0-c187270669f1"
      },
      "outputs": [
        {
          "name": "stdout",
          "output_type": "stream",
          "text": [
            "Number of sentences and relations, i.e. number of samples: 2717\n"
          ]
        }
      ],
      "source": [
        "# Load the dataset\n",
        "dataset = load_dataset(\"sem_eval_2010_task_8\")\n",
        "\n",
        "test_x, test_y = [], []\n",
        "\n",
        "# Iterate over the test split of the dataset\n",
        "for sample in dataset['test']:\n",
        "    sentence = sample['sentence']\n",
        "    label = sample['relation']\n",
        "\n",
        "    # Convert Text to Lowercase\n",
        "    sentence = sentence.lower()\n",
        "\n",
        "    # Replace <e1> and </e1> tags with tokens\n",
        "    sentence = sentence.replace(\"<e1>\", \" E1_START \").replace(\"</e1>\", \" E1_END \")\n",
        "    # Replace <e2> and </e2> tags with tokens\n",
        "    sentence = sentence.replace(\"<e2>\", \" E2_START \").replace(\"</e2>\", \" E2_END \")\n",
        "\n",
        "    # Remove Noise\n",
        "    sentence = re.sub(r'[^a-zA-Z0-9\\s]', '', sentence)\n",
        "\n",
        "    # Tokenize the sentence\n",
        "    tokens = word_tokenize(sentence)\n",
        "\n",
        "    # Store preprocessed sentence and label\n",
        "    test_x.append(tokens)\n",
        "    test_y.append(label)\n",
        "\n",
        "print(\"Number of sentences and relations, i.e. number of samples:\", len(test_x))\n",
        "\n",
        "# Convert sentences to indices\n",
        "test_x_idx = tokenizer.texts_to_sequences(test_x)\n",
        "test_x_idx = pad_sequences(test_x_idx, maxlen=max_sent_len)\n",
        "\n",
        "# Get mask for entities\n",
        "test_mask_entities = get_mask_entities(test_x_idx, word_index)\n",
        "\n",
        "# Transform labels\n",
        "test_y_idx = label_encoder.transform(test_y)\n"
      ]
    },
    {
      "cell_type": "markdown",
      "metadata": {
        "id": "fJB3TgmP68Nb"
      },
      "source": [
        "### Predictions on Test Data\n",
        "\n",
        "Step 1: Model Prediction\n",
        "* Use the trained model to predict the relation labels for the test data\n",
        "* Pass the tokenized and padded sequences of sentences (test_x_idx)\n",
        "and the mask for entities (test_mask_entities) as inputs to the model's predict method"
      ]
    },
    {
      "cell_type": "code",
      "execution_count": 38,
      "metadata": {
        "colab": {
          "base_uri": "https://localhost:8080/"
        },
        "id": "bQppqSrvb_VX",
        "outputId": "ca8f1d20-22e7-4277-beb3-fb98fb580332"
      },
      "outputs": [
        {
          "name": "stdout",
          "output_type": "stream",
          "text": [
            "85/85 [==============================] - 2s 11ms/step\n"
          ]
        }
      ],
      "source": [
        "pred = model.predict([test_x_idx, test_mask_entities])\n",
        "\n",
        "# Take the index of the maximum value along the last axis of the predicted probabilities\n",
        "# to get the predicted class labels\n",
        "pred = np.argmax(pred, axis=-1)"
      ]
    },
    {
      "cell_type": "code",
      "execution_count": 39,
      "metadata": {
        "colab": {
          "base_uri": "https://localhost:8080/"
        },
        "id": "BdvsKxMFj-qX",
        "outputId": "46b49f2d-663d-406c-9121-5c1422b46854"
      },
      "outputs": [
        {
          "data": {
            "text/plain": [
              "array([14, 17, 11, ...,  3, 16,  6])"
            ]
          },
          "execution_count": 39,
          "metadata": {},
          "output_type": "execute_result"
        }
      ],
      "source": [
        "# Display the predicted class labels\n",
        "pred"
      ]
    },
    {
      "cell_type": "markdown",
      "metadata": {
        "id": "E3HIJ8Jv68Nb"
      },
      "source": [
        "### Evaluating Model Performance"
      ]
    },
    {
      "cell_type": "code",
      "execution_count": 40,
      "metadata": {
        "colab": {
          "base_uri": "https://localhost:8080/"
        },
        "id": "fmGAIYy0cA9X",
        "outputId": "e967a5ee-0abc-4290-8f3f-decfa6cd6bde"
      },
      "outputs": [
        {
          "name": "stdout",
          "output_type": "stream",
          "text": [
            "f1_score: 0.7442031652557969\n"
          ]
        }
      ],
      "source": [
        "# Importing necessary libraries\n",
        "from sklearn.metrics import f1_score, accuracy_score\n",
        "\n",
        "# Calculate the F1 score using the true labels (test_y_idx) and the predicted labels (pred)\n",
        "# Set the average parameter to \"micro\" to compute the metric globally across all classes\n",
        "print(\"f1_score:\",f1_score(test_y_idx, pred, average=\"micro\"))\n"
      ]
    },
    {
      "cell_type": "markdown",
      "metadata": {
        "id": "WdUEmQ2jc_VV"
      },
      "source": [
        "### Training and Validation Performance Visualization\n",
        "\n",
        "The plots help in understanding the model's performance during training and whether it's overfitting or underfitting."
      ]
    },
    {
      "cell_type": "code",
      "execution_count": 41,
      "metadata": {
        "colab": {
          "base_uri": "https://localhost:8080/",
          "height": 927
        },
        "id": "Py4Fbw_5cisK",
        "outputId": "c866e0db-0085-4a4c-9bfa-a94038a4226b"
      },
      "outputs": [
        {
          "data": {
            "image/png": "[encoded data removed]",
            "text/plain": [
              "<Figure size 640x480 with 1 Axes>"
            ]
          },
          "metadata": {},
          "output_type": "display_data"
        },
        {
          "data": {
            "image/png": "[encoded data removed]",
            "text/plain": [
              "<Figure size 640x480 with 1 Axes>"
            ]
          },
          "metadata": {},
          "output_type": "display_data"
        }
      ],
      "source": [
        "# Plotting the training and validation accuracy values over epochs\n",
        "\n",
        "# Step 1: Plotting Accuracy\n",
        "# Plot the training accuracy values stored in 'accuracy' and validation accuracy values stored in 'val_accuracy' from history object\n",
        "plt.plot(history.history['accuracy'])\n",
        "plt.plot(history.history['val_accuracy'])\n",
        "plt.title('Model accuracy')\n",
        "plt.ylabel('Accuracy')\n",
        "plt.xlabel('Epoch')\n",
        "plt.legend(['Train', 'Test'], loc = 'upper left')\n",
        "plt.show()\n",
        "\n",
        "# Step 2: Plotting Loss\n",
        "# Plot the training loss values stored in 'loss' and validation loss values stored in 'val_loss' from history objectplt.plot(history.history['loss'])\n",
        "plt.plot(history.history['loss'])\n",
        "plt.plot(history.history['val_loss'])\n",
        "plt.title('Model loss')\n",
        "plt.ylabel('Loss')\n",
        "plt.xlabel('Epoch')\n",
        "plt.legend(['Train', 'Validation'], loc = 'upper left')\n",
        "plt.show()"
      ]
    },
    {
      "cell_type": "markdown",
      "metadata": {
        "id": "_lu_KHH068Nc"
      },
      "source": [
        "### Other Evaluation Metrics used for Model Evaluation\n",
        "\n",
        "The classification report includes precision, recall, and F1-score for each class, as well as support (the number of true instances for each class). The overall F1 score is calculated as the weighted average of F1 scores across all classes."
      ]
    },
    {
      "cell_type": "code",
      "execution_count": 42,
      "metadata": {
        "colab": {
          "base_uri": "https://localhost:8080/"
        },
        "id": "kEb8DRF0nPlM",
        "outputId": "2a57d099-0c1d-46cb-9e44-ca419ca227d5"
      },
      "outputs": [
        {
          "name": "stdout",
          "output_type": "stream",
          "text": [
            "Classification Report:\n",
            "               precision    recall  f1-score   support\n",
            "\n",
            "           0       0.83      0.90      0.86       134\n",
            "           1       0.78      0.90      0.84       194\n",
            "           2       0.75      0.81      0.78       162\n",
            "           3       0.64      0.79      0.71       150\n",
            "           4       0.73      0.91      0.81       153\n",
            "           5       0.82      0.69      0.75        39\n",
            "           6       0.86      0.87      0.86       291\n",
            "           7       0.00      0.00      0.00         1\n",
            "           8       0.80      0.82      0.81       211\n",
            "           9       0.85      0.83      0.84        47\n",
            "          10       0.40      0.45      0.43        22\n",
            "          11       0.63      0.67      0.65       134\n",
            "          12       0.74      0.62      0.68        32\n",
            "          13       0.83      0.84      0.83       201\n",
            "          14       0.81      0.90      0.86       210\n",
            "          15       0.83      0.69      0.75        51\n",
            "          16       0.73      0.76      0.74       108\n",
            "          17       0.83      0.49      0.62       123\n",
            "          18       0.54      0.42      0.47       454\n",
            "\n",
            "    accuracy                           0.74      2717\n",
            "   macro avg       0.71      0.70      0.70      2717\n",
            "weighted avg       0.74      0.74      0.74      2717\n",
            "\n",
            "Overall F1 Score: 0.7361901364328912\n"
          ]
        },
        {
          "name": "stderr",
          "output_type": "stream",
          "text": [
            "/usr/local/lib/python3.10/dist-packages/sklearn/metrics/_classification.py:1344: UndefinedMetricWarning: Precision and F-score are ill-defined and being set to 0.0 in labels with no predicted samples. Use `zero_division` parameter to control this behavior.\n",
            "  _warn_prf(average, modifier, msg_start, len(result))\n",
            "/usr/local/lib/python3.10/dist-packages/sklearn/metrics/_classification.py:1344: UndefinedMetricWarning: Precision and F-score are ill-defined and being set to 0.0 in labels with no predicted samples. Use `zero_division` parameter to control this behavior.\n",
            "  _warn_prf(average, modifier, msg_start, len(result))\n",
            "/usr/local/lib/python3.10/dist-packages/sklearn/metrics/_classification.py:1344: UndefinedMetricWarning: Precision and F-score are ill-defined and being set to 0.0 in labels with no predicted samples. Use `zero_division` parameter to control this behavior.\n",
            "  _warn_prf(average, modifier, msg_start, len(result))\n"
          ]
        }
      ],
      "source": [
        "from sklearn.metrics import classification_report, f1_score\n",
        "\n",
        "# Convert one-hot encoded predictions to class labels\n",
        "pred_labels = label_encoder.inverse_transform(pred)\n",
        "\n",
        "# Print classification report\n",
        "print(\"Classification Report:\\n\", classification_report(test_y, pred_labels))\n",
        "\n",
        "# Calculate and print overall F1 score\n",
        "overall_f1 = f1_score(test_y, pred_labels, average='weighted')\n",
        "print(\"Overall F1 Score:\", overall_f1)\n"
      ]
    },
    {
      "cell_type": "markdown",
      "metadata": {
        "id": "bHynftdRRbBa"
      },
      "source": [
        "# User Evaluation"
      ]
    },
    {
      "cell_type": "markdown",
      "metadata": {
        "id": "jULCc-LUXi8d"
      },
      "source": [
        "# User Input"
      ]
    },
    {
      "cell_type": "code",
      "execution_count": 45,
      "metadata": {
        "id": "cF_p_cQDd8Jg"
      },
      "outputs": [],
      "source": [
        "#classify_relation function is being imported from the 'classifier' module and is then used for relation classification.\n",
        "\n",
        "from classifier import classify_relation"
      ]
    },
    {
      "cell_type": "code",
      "execution_count": null,
      "metadata": {
        "id": "juPpGkyVeCrQ"
      },
      "outputs": [],
      "source": [
        "####################\n",
        "\"\"\" USER TESTING \"\"\"\n",
        "####################\n",
        "\n",
        "# Prompt the user for input in the specified format\n",
        "print(\"Enter a sentence with entities in the format: \\\"The software <e1>company</e1> addressed the problem with the <e2>publication</e2> of a fix on Saturday.\\\"\")\n",
        "\n",
        "\n",
        "user_input = input(\"Enter a sentence for relation classification: \")\n",
        "\n",
        "\n",
        "# Call the classify_relation function\n",
        "predicted_relation = classify_relation(user_input, model, tokenizer, max_sent_len, word_index, label_encoder)\n",
        "\n",
        "# Print the result\n",
        "print(f\"Predicted Relation: {predicted_relation}\")\n",
        "\n",
        "# Get the predicted relation label\n",
        "predicted_relation_label = relation_labels_dict[str(predicted_relation)]\n",
        "\n",
        "# Print the result\n",
        "print(f\"Predicted Relation Class Label: {predicted_relation_label}\")"
      ]
    }
  ],
  "metadata": {
    "accelerator": "GPU",
    "colab": {
      "gpuType": "T4",
      "provenance": []
    },
    "kernelspec": {
      "display_name": "Python 3",
      "name": "python3"
    },
    "language_info": {
      "codemirror_mode": {
        "name": "ipython",
        "version": 3
      },
      "file_extension": ".py",
      "mimetype": "text/x-python",
      "name": "python",
      "nbconvert_exporter": "python",
      "pygments_lexer": "ipython3",
      "version": "3.11.5"
    },
    "widgets": {
      "application/vnd.jupyter.widget-state+json": {
        "0931c01c4e864576850c03724b9ab241": {
          "model_module": "@jupyter-widgets/controls",
          "model_module_version": "1.5.0",
          "model_name": "HBoxModel",
          "state": {
            "_dom_classes": [],
            "_model_module": "@jupyter-widgets/controls",
            "_model_module_version": "1.5.0",
            "_model_name": "HBoxModel",
            "_view_count": null,
            "_view_module": "@jupyter-widgets/controls",
            "_view_module_version": "1.5.0",
            "_view_name": "HBoxView",
            "box_style": "",
            "children": [
              "IPY_MODEL_fba51b380b044e87b64a60dc296f77c8",
              "IPY_MODEL_e893198875eb4a11bd06a70b535b7d44",
              "IPY_MODEL_35e351f5d1f94e62993758af3176fd9a"
            ],
            "layout": "IPY_MODEL_b0e5cfca436f47f5899f5b63d95f1784"
          }
        },
        "14e89743c39646dda620fd632186f6bf": {
          "model_module": "@jupyter-widgets/controls",
          "model_module_version": "1.5.0",
          "model_name": "HTMLModel",
          "state": {
            "_dom_classes": [],
            "_model_module": "@jupyter-widgets/controls",
            "_model_module_version": "1.5.0",
            "_model_name": "HTMLModel",
            "_view_count": null,
            "_view_module": "@jupyter-widgets/controls",
            "_view_module_version": "1.5.0",
            "_view_name": "HTMLView",
            "description": "",
            "description_tooltip": null,
            "layout": "IPY_MODEL_2e5127c828c94d7aa80d257d44552c1c",
            "placeholder": "​",
            "style": "IPY_MODEL_3a7b1132f1a44b5c8e61094cd8dce26f",
            "value": " 673k/673k [00:00&lt;00:00, 1.20MB/s]"
          }
        },
        "1f0e2827b48343c893b36d2b27211bda": {
          "model_module": "@jupyter-widgets/controls",
          "model_module_version": "1.5.0",
          "model_name": "HTMLModel",
          "state": {
            "_dom_classes": [],
            "_model_module": "@jupyter-widgets/controls",
            "_model_module_version": "1.5.0",
            "_model_name": "HTMLModel",
            "_view_count": null,
            "_view_module": "@jupyter-widgets/controls",
            "_view_module_version": "1.5.0",
            "_view_name": "HTMLView",
            "description": "",
            "description_tooltip": null,
            "layout": "IPY_MODEL_9479708d83524d62841a4edb92b4173c",
            "placeholder": "​",
            "style": "IPY_MODEL_251f0a16d4f349c7995d6bc097efc97f",
            "value": "Generating train split: 100%"
          }
        },
        "1f2d03bb65694a26bb7703e89605fb08": {
          "model_module": "@jupyter-widgets/controls",
          "model_module_version": "1.5.0",
          "model_name": "HBoxModel",
          "state": {
            "_dom_classes": [],
            "_model_module": "@jupyter-widgets/controls",
            "_model_module_version": "1.5.0",
            "_model_name": "HBoxModel",
            "_view_count": null,
            "_view_module": "@jupyter-widgets/controls",
            "_view_module_version": "1.5.0",
            "_view_name": "HBoxView",
            "box_style": "",
            "children": [
              "IPY_MODEL_502b5d7f9e104458a737e361c5a1b424",
              "IPY_MODEL_256ed2c1b8aa47ef804927262dd08bb0",
              "IPY_MODEL_14e89743c39646dda620fd632186f6bf"
            ],
            "layout": "IPY_MODEL_689fdf5a205e4c49a8df4fb26c8388d8"
          }
        },
        "2512449d8b6a475aaa2c893c9cbaad26": {
          "model_module": "@jupyter-widgets/base",
          "model_module_version": "1.2.0",
          "model_name": "LayoutModel",
          "state": {
            "_model_module": "@jupyter-widgets/base",
            "_model_module_version": "1.2.0",
            "_model_name": "LayoutModel",
            "_view_count": null,
            "_view_module": "@jupyter-widgets/base",
            "_view_module_version": "1.2.0",
            "_view_name": "LayoutView",
            "align_content": null,
            "align_items": null,
            "align_self": null,
            "border": null,
            "bottom": null,
            "display": null,
            "flex": null,
            "flex_flow": null,
            "grid_area": null,
            "grid_auto_columns": null,
            "grid_auto_flow": null,
            "grid_auto_rows": null,
            "grid_column": null,
            "grid_gap": null,
            "grid_row": null,
            "grid_template_areas": null,
            "grid_template_columns": null,
            "grid_template_rows": null,
            "height": null,
            "justify_content": null,
            "justify_items": null,
            "left": null,
            "margin": null,
            "max_height": null,
            "max_width": null,
            "min_height": null,
            "min_width": null,
            "object_fit": null,
            "object_position": null,
            "order": null,
            "overflow": null,
            "overflow_x": null,
            "overflow_y": null,
            "padding": null,
            "right": null,
            "top": null,
            "visibility": null,
            "width": null
          }
        },
        "251f0a16d4f349c7995d6bc097efc97f": {
          "model_module": "@jupyter-widgets/controls",
          "model_module_version": "1.5.0",
          "model_name": "DescriptionStyleModel",
          "state": {
            "_model_module": "@jupyter-widgets/controls",
            "_model_module_version": "1.5.0",
            "_model_name": "DescriptionStyleModel",
            "_view_count": null,
            "_view_module": "@jupyter-widgets/base",
            "_view_module_version": "1.2.0",
            "_view_name": "StyleView",
            "description_width": ""
          }
        },
        "256ed2c1b8aa47ef804927262dd08bb0": {
          "model_module": "@jupyter-widgets/controls",
          "model_module_version": "1.5.0",
          "model_name": "FloatProgressModel",
          "state": {
            "_dom_classes": [],
            "_model_module": "@jupyter-widgets/controls",
            "_model_module_version": "1.5.0",
            "_model_name": "FloatProgressModel",
            "_view_count": null,
            "_view_module": "@jupyter-widgets/controls",
            "_view_module_version": "1.5.0",
            "_view_name": "ProgressView",
            "bar_style": "success",
            "description": "",
            "description_tooltip": null,
            "layout": "IPY_MODEL_5402924c27664224a5d20c357a883366",
            "max": 672958,
            "min": 0,
            "orientation": "horizontal",
            "style": "IPY_MODEL_46fffc5b33a5422bb0355eae26847c6a",
            "value": 672958
          }
        },
        "25af4eeba72b468ba85326f7113205ee": {
          "model_module": "@jupyter-widgets/controls",
          "model_module_version": "1.5.0",
          "model_name": "HBoxModel",
          "state": {
            "_dom_classes": [],
            "_model_module": "@jupyter-widgets/controls",
            "_model_module_version": "1.5.0",
            "_model_name": "HBoxModel",
            "_view_count": null,
            "_view_module": "@jupyter-widgets/controls",
            "_view_module_version": "1.5.0",
            "_view_name": "HBoxView",
            "box_style": "",
            "children": [
              "IPY_MODEL_9f839c7087534c4fbd701a0a475c3363",
              "IPY_MODEL_2f948e0c9497494091c264f91937dbfb",
              "IPY_MODEL_c7813825053947fc9b2fcc35d99cbab0"
            ],
            "layout": "IPY_MODEL_7d3d899f90704097ad021238232fa11d"
          }
        },
        "26342bbd117b4f4d9d6485b97d43d21e": {
          "model_module": "@jupyter-widgets/controls",
          "model_module_version": "1.5.0",
          "model_name": "ProgressStyleModel",
          "state": {
            "_model_module": "@jupyter-widgets/controls",
            "_model_module_version": "1.5.0",
            "_model_name": "ProgressStyleModel",
            "_view_count": null,
            "_view_module": "@jupyter-widgets/base",
            "_view_module_version": "1.2.0",
            "_view_name": "StyleView",
            "bar_color": null,
            "description_width": ""
          }
        },
        "2a5a35992a3f4ef9ada92367222fa191": {
          "model_module": "@jupyter-widgets/controls",
          "model_module_version": "1.5.0",
          "model_name": "DescriptionStyleModel",
          "state": {
            "_model_module": "@jupyter-widgets/controls",
            "_model_module_version": "1.5.0",
            "_model_name": "DescriptionStyleModel",
            "_view_count": null,
            "_view_module": "@jupyter-widgets/base",
            "_view_module_version": "1.2.0",
            "_view_name": "StyleView",
            "description_width": ""
          }
        },
        "2e5127c828c94d7aa80d257d44552c1c": {
          "model_module": "@jupyter-widgets/base",
          "model_module_version": "1.2.0",
          "model_name": "LayoutModel",
          "state": {
            "_model_module": "@jupyter-widgets/base",
            "_model_module_version": "1.2.0",
            "_model_name": "LayoutModel",
            "_view_count": null,
            "_view_module": "@jupyter-widgets/base",
            "_view_module_version": "1.2.0",
            "_view_name": "LayoutView",
            "align_content": null,
            "align_items": null,
            "align_self": null,
            "border": null,
            "bottom": null,
            "display": null,
            "flex": null,
            "flex_flow": null,
            "grid_area": null,
            "grid_auto_columns": null,
            "grid_auto_flow": null,
            "grid_auto_rows": null,
            "grid_column": null,
            "grid_gap": null,
            "grid_row": null,
            "grid_template_areas": null,
            "grid_template_columns": null,
            "grid_template_rows": null,
            "height": null,
            "justify_content": null,
            "justify_items": null,
            "left": null,
            "margin": null,
            "max_height": null,
            "max_width": null,
            "min_height": null,
            "min_width": null,
            "object_fit": null,
            "object_position": null,
            "order": null,
            "overflow": null,
            "overflow_x": null,
            "overflow_y": null,
            "padding": null,
            "right": null,
            "top": null,
            "visibility": null,
            "width": null
          }
        },
        "2f948e0c9497494091c264f91937dbfb": {
          "model_module": "@jupyter-widgets/controls",
          "model_module_version": "1.5.0",
          "model_name": "FloatProgressModel",
          "state": {
            "_dom_classes": [],
            "_model_module": "@jupyter-widgets/controls",
            "_model_module_version": "1.5.0",
            "_model_name": "FloatProgressModel",
            "_view_count": null,
            "_view_module": "@jupyter-widgets/controls",
            "_view_module_version": "1.5.0",
            "_view_name": "ProgressView",
            "bar_style": "success",
            "description": "",
            "description_tooltip": null,
            "layout": "IPY_MODEL_86c46680231b4fd7b7e0a6a5b4614466",
            "max": 230821,
            "min": 0,
            "orientation": "horizontal",
            "style": "IPY_MODEL_26342bbd117b4f4d9d6485b97d43d21e",
            "value": 230821
          }
        },
        "35e351f5d1f94e62993758af3176fd9a": {
          "model_module": "@jupyter-widgets/controls",
          "model_module_version": "1.5.0",
          "model_name": "HTMLModel",
          "state": {
            "_dom_classes": [],
            "_model_module": "@jupyter-widgets/controls",
            "_model_module_version": "1.5.0",
            "_model_name": "HTMLModel",
            "_view_count": null,
            "_view_module": "@jupyter-widgets/controls",
            "_view_module_version": "1.5.0",
            "_view_name": "HTMLView",
            "description": "",
            "description_tooltip": null,
            "layout": "IPY_MODEL_66c89599662e436189ae3d65ae78f428",
            "placeholder": "​",
            "style": "IPY_MODEL_8e00ac0c3a474f4cb9d55b786fc74ed4",
            "value": " 2717/2717 [00:00&lt;00:00, 27114.56 examples/s]"
          }
        },
        "3a7b1132f1a44b5c8e61094cd8dce26f": {
          "model_module": "@jupyter-widgets/controls",
          "model_module_version": "1.5.0",
          "model_name": "DescriptionStyleModel",
          "state": {
            "_model_module": "@jupyter-widgets/controls",
            "_model_module_version": "1.5.0",
            "_model_name": "DescriptionStyleModel",
            "_view_count": null,
            "_view_module": "@jupyter-widgets/base",
            "_view_module_version": "1.2.0",
            "_view_name": "StyleView",
            "description_width": ""
          }
        },
        "4048460df13448508bccefb64f9ae73d": {
          "model_module": "@jupyter-widgets/base",
          "model_module_version": "1.2.0",
          "model_name": "LayoutModel",
          "state": {
            "_model_module": "@jupyter-widgets/base",
            "_model_module_version": "1.2.0",
            "_model_name": "LayoutModel",
            "_view_count": null,
            "_view_module": "@jupyter-widgets/base",
            "_view_module_version": "1.2.0",
            "_view_name": "LayoutView",
            "align_content": null,
            "align_items": null,
            "align_self": null,
            "border": null,
            "bottom": null,
            "display": null,
            "flex": null,
            "flex_flow": null,
            "grid_area": null,
            "grid_auto_columns": null,
            "grid_auto_flow": null,
            "grid_auto_rows": null,
            "grid_column": null,
            "grid_gap": null,
            "grid_row": null,
            "grid_template_areas": null,
            "grid_template_columns": null,
            "grid_template_rows": null,
            "height": null,
            "justify_content": null,
            "justify_items": null,
            "left": null,
            "margin": null,
            "max_height": null,
            "max_width": null,
            "min_height": null,
            "min_width": null,
            "object_fit": null,
            "object_position": null,
            "order": null,
            "overflow": null,
            "overflow_x": null,
            "overflow_y": null,
            "padding": null,
            "right": null,
            "top": null,
            "visibility": null,
            "width": null
          }
        },
        "46fffc5b33a5422bb0355eae26847c6a": {
          "model_module": "@jupyter-widgets/controls",
          "model_module_version": "1.5.0",
          "model_name": "ProgressStyleModel",
          "state": {
            "_model_module": "@jupyter-widgets/controls",
            "_model_module_version": "1.5.0",
            "_model_name": "ProgressStyleModel",
            "_view_count": null,
            "_view_module": "@jupyter-widgets/base",
            "_view_module_version": "1.2.0",
            "_view_name": "StyleView",
            "bar_color": null,
            "description_width": ""
          }
        },
        "502b5d7f9e104458a737e361c5a1b424": {
          "model_module": "@jupyter-widgets/controls",
          "model_module_version": "1.5.0",
          "model_name": "HTMLModel",
          "state": {
            "_dom_classes": [],
            "_model_module": "@jupyter-widgets/controls",
            "_model_module_version": "1.5.0",
            "_model_name": "HTMLModel",
            "_view_count": null,
            "_view_module": "@jupyter-widgets/controls",
            "_view_module_version": "1.5.0",
            "_view_name": "HTMLView",
            "description": "",
            "description_tooltip": null,
            "layout": "IPY_MODEL_4048460df13448508bccefb64f9ae73d",
            "placeholder": "​",
            "style": "IPY_MODEL_678991b53fbf4856948a2aa749d57699",
            "value": "Downloading data: 100%"
          }
        },
        "5402924c27664224a5d20c357a883366": {
          "model_module": "@jupyter-widgets/base",
          "model_module_version": "1.2.0",
          "model_name": "LayoutModel",
          "state": {
            "_model_module": "@jupyter-widgets/base",
            "_model_module_version": "1.2.0",
            "_model_name": "LayoutModel",
            "_view_count": null,
            "_view_module": "@jupyter-widgets/base",
            "_view_module_version": "1.2.0",
            "_view_name": "LayoutView",
            "align_content": null,
            "align_items": null,
            "align_self": null,
            "border": null,
            "bottom": null,
            "display": null,
            "flex": null,
            "flex_flow": null,
            "grid_area": null,
            "grid_auto_columns": null,
            "grid_auto_flow": null,
            "grid_auto_rows": null,
            "grid_column": null,
            "grid_gap": null,
            "grid_row": null,
            "grid_template_areas": null,
            "grid_template_columns": null,
            "grid_template_rows": null,
            "height": null,
            "justify_content": null,
            "justify_items": null,
            "left": null,
            "margin": null,
            "max_height": null,
            "max_width": null,
            "min_height": null,
            "min_width": null,
            "object_fit": null,
            "object_position": null,
            "order": null,
            "overflow": null,
            "overflow_x": null,
            "overflow_y": null,
            "padding": null,
            "right": null,
            "top": null,
            "visibility": null,
            "width": null
          }
        },
        "57a9dd1d046c406ea5b82fa6e4e51ce6": {
          "model_module": "@jupyter-widgets/base",
          "model_module_version": "1.2.0",
          "model_name": "LayoutModel",
          "state": {
            "_model_module": "@jupyter-widgets/base",
            "_model_module_version": "1.2.0",
            "_model_name": "LayoutModel",
            "_view_count": null,
            "_view_module": "@jupyter-widgets/base",
            "_view_module_version": "1.2.0",
            "_view_name": "LayoutView",
            "align_content": null,
            "align_items": null,
            "align_self": null,
            "border": null,
            "bottom": null,
            "display": null,
            "flex": null,
            "flex_flow": null,
            "grid_area": null,
            "grid_auto_columns": null,
            "grid_auto_flow": null,
            "grid_auto_rows": null,
            "grid_column": null,
            "grid_gap": null,
            "grid_row": null,
            "grid_template_areas": null,
            "grid_template_columns": null,
            "grid_template_rows": null,
            "height": null,
            "justify_content": null,
            "justify_items": null,
            "left": null,
            "margin": null,
            "max_height": null,
            "max_width": null,
            "min_height": null,
            "min_width": null,
            "object_fit": null,
            "object_position": null,
            "order": null,
            "overflow": null,
            "overflow_x": null,
            "overflow_y": null,
            "padding": null,
            "right": null,
            "top": null,
            "visibility": null,
            "width": null
          }
        },
        "64fc6df6c334495fa07bd2bed2ad2768": {
          "model_module": "@jupyter-widgets/controls",
          "model_module_version": "1.5.0",
          "model_name": "DescriptionStyleModel",
          "state": {
            "_model_module": "@jupyter-widgets/controls",
            "_model_module_version": "1.5.0",
            "_model_name": "DescriptionStyleModel",
            "_view_count": null,
            "_view_module": "@jupyter-widgets/base",
            "_view_module_version": "1.2.0",
            "_view_name": "StyleView",
            "description_width": ""
          }
        },
        "66c89599662e436189ae3d65ae78f428": {
          "model_module": "@jupyter-widgets/base",
          "model_module_version": "1.2.0",
          "model_name": "LayoutModel",
          "state": {
            "_model_module": "@jupyter-widgets/base",
            "_model_module_version": "1.2.0",
            "_model_name": "LayoutModel",
            "_view_count": null,
            "_view_module": "@jupyter-widgets/base",
            "_view_module_version": "1.2.0",
            "_view_name": "LayoutView",
            "align_content": null,
            "align_items": null,
            "align_self": null,
            "border": null,
            "bottom": null,
            "display": null,
            "flex": null,
            "flex_flow": null,
            "grid_area": null,
            "grid_auto_columns": null,
            "grid_auto_flow": null,
            "grid_auto_rows": null,
            "grid_column": null,
            "grid_gap": null,
            "grid_row": null,
            "grid_template_areas": null,
            "grid_template_columns": null,
            "grid_template_rows": null,
            "height": null,
            "justify_content": null,
            "justify_items": null,
            "left": null,
            "margin": null,
            "max_height": null,
            "max_width": null,
            "min_height": null,
            "min_width": null,
            "object_fit": null,
            "object_position": null,
            "order": null,
            "overflow": null,
            "overflow_x": null,
            "overflow_y": null,
            "padding": null,
            "right": null,
            "top": null,
            "visibility": null,
            "width": null
          }
        },
        "678991b53fbf4856948a2aa749d57699": {
          "model_module": "@jupyter-widgets/controls",
          "model_module_version": "1.5.0",
          "model_name": "DescriptionStyleModel",
          "state": {
            "_model_module": "@jupyter-widgets/controls",
            "_model_module_version": "1.5.0",
            "_model_name": "DescriptionStyleModel",
            "_view_count": null,
            "_view_module": "@jupyter-widgets/base",
            "_view_module_version": "1.2.0",
            "_view_name": "StyleView",
            "description_width": ""
          }
        },
        "689fdf5a205e4c49a8df4fb26c8388d8": {
          "model_module": "@jupyter-widgets/base",
          "model_module_version": "1.2.0",
          "model_name": "LayoutModel",
          "state": {
            "_model_module": "@jupyter-widgets/base",
            "_model_module_version": "1.2.0",
            "_model_name": "LayoutModel",
            "_view_count": null,
            "_view_module": "@jupyter-widgets/base",
            "_view_module_version": "1.2.0",
            "_view_name": "LayoutView",
            "align_content": null,
            "align_items": null,
            "align_self": null,
            "border": null,
            "bottom": null,
            "display": null,
            "flex": null,
            "flex_flow": null,
            "grid_area": null,
            "grid_auto_columns": null,
            "grid_auto_flow": null,
            "grid_auto_rows": null,
            "grid_column": null,
            "grid_gap": null,
            "grid_row": null,
            "grid_template_areas": null,
            "grid_template_columns": null,
            "grid_template_rows": null,
            "height": null,
            "justify_content": null,
            "justify_items": null,
            "left": null,
            "margin": null,
            "max_height": null,
            "max_width": null,
            "min_height": null,
            "min_width": null,
            "object_fit": null,
            "object_position": null,
            "order": null,
            "overflow": null,
            "overflow_x": null,
            "overflow_y": null,
            "padding": null,
            "right": null,
            "top": null,
            "visibility": null,
            "width": null
          }
        },
        "745ad333fb0f4a728b914a029e7e37b2": {
          "model_module": "@jupyter-widgets/base",
          "model_module_version": "1.2.0",
          "model_name": "LayoutModel",
          "state": {
            "_model_module": "@jupyter-widgets/base",
            "_model_module_version": "1.2.0",
            "_model_name": "LayoutModel",
            "_view_count": null,
            "_view_module": "@jupyter-widgets/base",
            "_view_module_version": "1.2.0",
            "_view_name": "LayoutView",
            "align_content": null,
            "align_items": null,
            "align_self": null,
            "border": null,
            "bottom": null,
            "display": null,
            "flex": null,
            "flex_flow": null,
            "grid_area": null,
            "grid_auto_columns": null,
            "grid_auto_flow": null,
            "grid_auto_rows": null,
            "grid_column": null,
            "grid_gap": null,
            "grid_row": null,
            "grid_template_areas": null,
            "grid_template_columns": null,
            "grid_template_rows": null,
            "height": null,
            "justify_content": null,
            "justify_items": null,
            "left": null,
            "margin": null,
            "max_height": null,
            "max_width": null,
            "min_height": null,
            "min_width": null,
            "object_fit": null,
            "object_position": null,
            "order": null,
            "overflow": null,
            "overflow_x": null,
            "overflow_y": null,
            "padding": null,
            "right": null,
            "top": null,
            "visibility": null,
            "width": null
          }
        },
        "74a9092b07de4d598f36b793ab18fb0d": {
          "model_module": "@jupyter-widgets/base",
          "model_module_version": "1.2.0",
          "model_name": "LayoutModel",
          "state": {
            "_model_module": "@jupyter-widgets/base",
            "_model_module_version": "1.2.0",
            "_model_name": "LayoutModel",
            "_view_count": null,
            "_view_module": "@jupyter-widgets/base",
            "_view_module_version": "1.2.0",
            "_view_name": "LayoutView",
            "align_content": null,
            "align_items": null,
            "align_self": null,
            "border": null,
            "bottom": null,
            "display": null,
            "flex": null,
            "flex_flow": null,
            "grid_area": null,
            "grid_auto_columns": null,
            "grid_auto_flow": null,
            "grid_auto_rows": null,
            "grid_column": null,
            "grid_gap": null,
            "grid_row": null,
            "grid_template_areas": null,
            "grid_template_columns": null,
            "grid_template_rows": null,
            "height": null,
            "justify_content": null,
            "justify_items": null,
            "left": null,
            "margin": null,
            "max_height": null,
            "max_width": null,
            "min_height": null,
            "min_width": null,
            "object_fit": null,
            "object_position": null,
            "order": null,
            "overflow": null,
            "overflow_x": null,
            "overflow_y": null,
            "padding": null,
            "right": null,
            "top": null,
            "visibility": null,
            "width": null
          }
        },
        "7882a49db1d5492dab1ebf401da7deef": {
          "model_module": "@jupyter-widgets/base",
          "model_module_version": "1.2.0",
          "model_name": "LayoutModel",
          "state": {
            "_model_module": "@jupyter-widgets/base",
            "_model_module_version": "1.2.0",
            "_model_name": "LayoutModel",
            "_view_count": null,
            "_view_module": "@jupyter-widgets/base",
            "_view_module_version": "1.2.0",
            "_view_name": "LayoutView",
            "align_content": null,
            "align_items": null,
            "align_self": null,
            "border": null,
            "bottom": null,
            "display": null,
            "flex": null,
            "flex_flow": null,
            "grid_area": null,
            "grid_auto_columns": null,
            "grid_auto_flow": null,
            "grid_auto_rows": null,
            "grid_column": null,
            "grid_gap": null,
            "grid_row": null,
            "grid_template_areas": null,
            "grid_template_columns": null,
            "grid_template_rows": null,
            "height": null,
            "justify_content": null,
            "justify_items": null,
            "left": null,
            "margin": null,
            "max_height": null,
            "max_width": null,
            "min_height": null,
            "min_width": null,
            "object_fit": null,
            "object_position": null,
            "order": null,
            "overflow": null,
            "overflow_x": null,
            "overflow_y": null,
            "padding": null,
            "right": null,
            "top": null,
            "visibility": null,
            "width": null
          }
        },
        "7c1f269d009c42abb0fbb1a2f3f2bafd": {
          "model_module": "@jupyter-widgets/base",
          "model_module_version": "1.2.0",
          "model_name": "LayoutModel",
          "state": {
            "_model_module": "@jupyter-widgets/base",
            "_model_module_version": "1.2.0",
            "_model_name": "LayoutModel",
            "_view_count": null,
            "_view_module": "@jupyter-widgets/base",
            "_view_module_version": "1.2.0",
            "_view_name": "LayoutView",
            "align_content": null,
            "align_items": null,
            "align_self": null,
            "border": null,
            "bottom": null,
            "display": null,
            "flex": null,
            "flex_flow": null,
            "grid_area": null,
            "grid_auto_columns": null,
            "grid_auto_flow": null,
            "grid_auto_rows": null,
            "grid_column": null,
            "grid_gap": null,
            "grid_row": null,
            "grid_template_areas": null,
            "grid_template_columns": null,
            "grid_template_rows": null,
            "height": null,
            "justify_content": null,
            "justify_items": null,
            "left": null,
            "margin": null,
            "max_height": null,
            "max_width": null,
            "min_height": null,
            "min_width": null,
            "object_fit": null,
            "object_position": null,
            "order": null,
            "overflow": null,
            "overflow_x": null,
            "overflow_y": null,
            "padding": null,
            "right": null,
            "top": null,
            "visibility": null,
            "width": null
          }
        },
        "7d3d899f90704097ad021238232fa11d": {
          "model_module": "@jupyter-widgets/base",
          "model_module_version": "1.2.0",
          "model_name": "LayoutModel",
          "state": {
            "_model_module": "@jupyter-widgets/base",
            "_model_module_version": "1.2.0",
            "_model_name": "LayoutModel",
            "_view_count": null,
            "_view_module": "@jupyter-widgets/base",
            "_view_module_version": "1.2.0",
            "_view_name": "LayoutView",
            "align_content": null,
            "align_items": null,
            "align_self": null,
            "border": null,
            "bottom": null,
            "display": null,
            "flex": null,
            "flex_flow": null,
            "grid_area": null,
            "grid_auto_columns": null,
            "grid_auto_flow": null,
            "grid_auto_rows": null,
            "grid_column": null,
            "grid_gap": null,
            "grid_row": null,
            "grid_template_areas": null,
            "grid_template_columns": null,
            "grid_template_rows": null,
            "height": null,
            "justify_content": null,
            "justify_items": null,
            "left": null,
            "margin": null,
            "max_height": null,
            "max_width": null,
            "min_height": null,
            "min_width": null,
            "object_fit": null,
            "object_position": null,
            "order": null,
            "overflow": null,
            "overflow_x": null,
            "overflow_y": null,
            "padding": null,
            "right": null,
            "top": null,
            "visibility": null,
            "width": null
          }
        },
        "86c46680231b4fd7b7e0a6a5b4614466": {
          "model_module": "@jupyter-widgets/base",
          "model_module_version": "1.2.0",
          "model_name": "LayoutModel",
          "state": {
            "_model_module": "@jupyter-widgets/base",
            "_model_module_version": "1.2.0",
            "_model_name": "LayoutModel",
            "_view_count": null,
            "_view_module": "@jupyter-widgets/base",
            "_view_module_version": "1.2.0",
            "_view_name": "LayoutView",
            "align_content": null,
            "align_items": null,
            "align_self": null,
            "border": null,
            "bottom": null,
            "display": null,
            "flex": null,
            "flex_flow": null,
            "grid_area": null,
            "grid_auto_columns": null,
            "grid_auto_flow": null,
            "grid_auto_rows": null,
            "grid_column": null,
            "grid_gap": null,
            "grid_row": null,
            "grid_template_areas": null,
            "grid_template_columns": null,
            "grid_template_rows": null,
            "height": null,
            "justify_content": null,
            "justify_items": null,
            "left": null,
            "margin": null,
            "max_height": null,
            "max_width": null,
            "min_height": null,
            "min_width": null,
            "object_fit": null,
            "object_position": null,
            "order": null,
            "overflow": null,
            "overflow_x": null,
            "overflow_y": null,
            "padding": null,
            "right": null,
            "top": null,
            "visibility": null,
            "width": null
          }
        },
        "8e00ac0c3a474f4cb9d55b786fc74ed4": {
          "model_module": "@jupyter-widgets/controls",
          "model_module_version": "1.5.0",
          "model_name": "DescriptionStyleModel",
          "state": {
            "_model_module": "@jupyter-widgets/controls",
            "_model_module_version": "1.5.0",
            "_model_name": "DescriptionStyleModel",
            "_view_count": null,
            "_view_module": "@jupyter-widgets/base",
            "_view_module_version": "1.2.0",
            "_view_name": "StyleView",
            "description_width": ""
          }
        },
        "8ff8a786239b4e1eaa5481fa3d45f365": {
          "model_module": "@jupyter-widgets/controls",
          "model_module_version": "1.5.0",
          "model_name": "ProgressStyleModel",
          "state": {
            "_model_module": "@jupyter-widgets/controls",
            "_model_module_version": "1.5.0",
            "_model_name": "ProgressStyleModel",
            "_view_count": null,
            "_view_module": "@jupyter-widgets/base",
            "_view_module_version": "1.2.0",
            "_view_name": "StyleView",
            "bar_color": null,
            "description_width": ""
          }
        },
        "9479708d83524d62841a4edb92b4173c": {
          "model_module": "@jupyter-widgets/base",
          "model_module_version": "1.2.0",
          "model_name": "LayoutModel",
          "state": {
            "_model_module": "@jupyter-widgets/base",
            "_model_module_version": "1.2.0",
            "_model_name": "LayoutModel",
            "_view_count": null,
            "_view_module": "@jupyter-widgets/base",
            "_view_module_version": "1.2.0",
            "_view_name": "LayoutView",
            "align_content": null,
            "align_items": null,
            "align_self": null,
            "border": null,
            "bottom": null,
            "display": null,
            "flex": null,
            "flex_flow": null,
            "grid_area": null,
            "grid_auto_columns": null,
            "grid_auto_flow": null,
            "grid_auto_rows": null,
            "grid_column": null,
            "grid_gap": null,
            "grid_row": null,
            "grid_template_areas": null,
            "grid_template_columns": null,
            "grid_template_rows": null,
            "height": null,
            "justify_content": null,
            "justify_items": null,
            "left": null,
            "margin": null,
            "max_height": null,
            "max_width": null,
            "min_height": null,
            "min_width": null,
            "object_fit": null,
            "object_position": null,
            "order": null,
            "overflow": null,
            "overflow_x": null,
            "overflow_y": null,
            "padding": null,
            "right": null,
            "top": null,
            "visibility": null,
            "width": null
          }
        },
        "9f839c7087534c4fbd701a0a475c3363": {
          "model_module": "@jupyter-widgets/controls",
          "model_module_version": "1.5.0",
          "model_name": "HTMLModel",
          "state": {
            "_dom_classes": [],
            "_model_module": "@jupyter-widgets/controls",
            "_model_module_version": "1.5.0",
            "_model_name": "HTMLModel",
            "_view_count": null,
            "_view_module": "@jupyter-widgets/controls",
            "_view_module_version": "1.5.0",
            "_view_name": "HTMLView",
            "description": "",
            "description_tooltip": null,
            "layout": "IPY_MODEL_745ad333fb0f4a728b914a029e7e37b2",
            "placeholder": "​",
            "style": "IPY_MODEL_2a5a35992a3f4ef9ada92367222fa191",
            "value": "Downloading data: 100%"
          }
        },
        "a74343e8351f48588f06365e501a0213": {
          "model_module": "@jupyter-widgets/base",
          "model_module_version": "1.2.0",
          "model_name": "LayoutModel",
          "state": {
            "_model_module": "@jupyter-widgets/base",
            "_model_module_version": "1.2.0",
            "_model_name": "LayoutModel",
            "_view_count": null,
            "_view_module": "@jupyter-widgets/base",
            "_view_module_version": "1.2.0",
            "_view_name": "LayoutView",
            "align_content": null,
            "align_items": null,
            "align_self": null,
            "border": null,
            "bottom": null,
            "display": null,
            "flex": null,
            "flex_flow": null,
            "grid_area": null,
            "grid_auto_columns": null,
            "grid_auto_flow": null,
            "grid_auto_rows": null,
            "grid_column": null,
            "grid_gap": null,
            "grid_row": null,
            "grid_template_areas": null,
            "grid_template_columns": null,
            "grid_template_rows": null,
            "height": null,
            "justify_content": null,
            "justify_items": null,
            "left": null,
            "margin": null,
            "max_height": null,
            "max_width": null,
            "min_height": null,
            "min_width": null,
            "object_fit": null,
            "object_position": null,
            "order": null,
            "overflow": null,
            "overflow_x": null,
            "overflow_y": null,
            "padding": null,
            "right": null,
            "top": null,
            "visibility": null,
            "width": null
          }
        },
        "b0e5cfca436f47f5899f5b63d95f1784": {
          "model_module": "@jupyter-widgets/base",
          "model_module_version": "1.2.0",
          "model_name": "LayoutModel",
          "state": {
            "_model_module": "@jupyter-widgets/base",
            "_model_module_version": "1.2.0",
            "_model_name": "LayoutModel",
            "_view_count": null,
            "_view_module": "@jupyter-widgets/base",
            "_view_module_version": "1.2.0",
            "_view_name": "LayoutView",
            "align_content": null,
            "align_items": null,
            "align_self": null,
            "border": null,
            "bottom": null,
            "display": null,
            "flex": null,
            "flex_flow": null,
            "grid_area": null,
            "grid_auto_columns": null,
            "grid_auto_flow": null,
            "grid_auto_rows": null,
            "grid_column": null,
            "grid_gap": null,
            "grid_row": null,
            "grid_template_areas": null,
            "grid_template_columns": null,
            "grid_template_rows": null,
            "height": null,
            "justify_content": null,
            "justify_items": null,
            "left": null,
            "margin": null,
            "max_height": null,
            "max_width": null,
            "min_height": null,
            "min_width": null,
            "object_fit": null,
            "object_position": null,
            "order": null,
            "overflow": null,
            "overflow_x": null,
            "overflow_y": null,
            "padding": null,
            "right": null,
            "top": null,
            "visibility": null,
            "width": null
          }
        },
        "bc6ee126104c40bf83e8c4f9bbf3c4ab": {
          "model_module": "@jupyter-widgets/controls",
          "model_module_version": "1.5.0",
          "model_name": "DescriptionStyleModel",
          "state": {
            "_model_module": "@jupyter-widgets/controls",
            "_model_module_version": "1.5.0",
            "_model_name": "DescriptionStyleModel",
            "_view_count": null,
            "_view_module": "@jupyter-widgets/base",
            "_view_module_version": "1.2.0",
            "_view_name": "StyleView",
            "description_width": ""
          }
        },
        "c7813825053947fc9b2fcc35d99cbab0": {
          "model_module": "@jupyter-widgets/controls",
          "model_module_version": "1.5.0",
          "model_name": "HTMLModel",
          "state": {
            "_dom_classes": [],
            "_model_module": "@jupyter-widgets/controls",
            "_model_module_version": "1.5.0",
            "_model_name": "HTMLModel",
            "_view_count": null,
            "_view_module": "@jupyter-widgets/controls",
            "_view_module_version": "1.5.0",
            "_view_name": "HTMLView",
            "description": "",
            "description_tooltip": null,
            "layout": "IPY_MODEL_2512449d8b6a475aaa2c893c9cbaad26",
            "placeholder": "​",
            "style": "IPY_MODEL_fcc0e7b353fe452bbd674628395e3356",
            "value": " 231k/231k [00:00&lt;00:00, 288kB/s]"
          }
        },
        "cd6bce2820ce42d592d28906daabca4f": {
          "model_module": "@jupyter-widgets/controls",
          "model_module_version": "1.5.0",
          "model_name": "ProgressStyleModel",
          "state": {
            "_model_module": "@jupyter-widgets/controls",
            "_model_module_version": "1.5.0",
            "_model_name": "ProgressStyleModel",
            "_view_count": null,
            "_view_module": "@jupyter-widgets/base",
            "_view_module_version": "1.2.0",
            "_view_name": "StyleView",
            "bar_color": null,
            "description_width": ""
          }
        },
        "d86146d98e614582ab44acdb477cc49d": {
          "model_module": "@jupyter-widgets/controls",
          "model_module_version": "1.5.0",
          "model_name": "HBoxModel",
          "state": {
            "_dom_classes": [],
            "_model_module": "@jupyter-widgets/controls",
            "_model_module_version": "1.5.0",
            "_model_name": "HBoxModel",
            "_view_count": null,
            "_view_module": "@jupyter-widgets/controls",
            "_view_module_version": "1.5.0",
            "_view_name": "HBoxView",
            "box_style": "",
            "children": [
              "IPY_MODEL_1f0e2827b48343c893b36d2b27211bda",
              "IPY_MODEL_e192d35df35e485ca6db4741a1262d91",
              "IPY_MODEL_e13424bc5b244150a97f56e60ad38e7f"
            ],
            "layout": "IPY_MODEL_a74343e8351f48588f06365e501a0213"
          }
        },
        "e13424bc5b244150a97f56e60ad38e7f": {
          "model_module": "@jupyter-widgets/controls",
          "model_module_version": "1.5.0",
          "model_name": "HTMLModel",
          "state": {
            "_dom_classes": [],
            "_model_module": "@jupyter-widgets/controls",
            "_model_module_version": "1.5.0",
            "_model_name": "HTMLModel",
            "_view_count": null,
            "_view_module": "@jupyter-widgets/controls",
            "_view_module_version": "1.5.0",
            "_view_name": "HTMLView",
            "description": "",
            "description_tooltip": null,
            "layout": "IPY_MODEL_7882a49db1d5492dab1ebf401da7deef",
            "placeholder": "​",
            "style": "IPY_MODEL_64fc6df6c334495fa07bd2bed2ad2768",
            "value": " 8000/8000 [00:00&lt;00:00, 40614.22 examples/s]"
          }
        },
        "e192d35df35e485ca6db4741a1262d91": {
          "model_module": "@jupyter-widgets/controls",
          "model_module_version": "1.5.0",
          "model_name": "FloatProgressModel",
          "state": {
            "_dom_classes": [],
            "_model_module": "@jupyter-widgets/controls",
            "_model_module_version": "1.5.0",
            "_model_name": "FloatProgressModel",
            "_view_count": null,
            "_view_module": "@jupyter-widgets/controls",
            "_view_module_version": "1.5.0",
            "_view_name": "ProgressView",
            "bar_style": "success",
            "description": "",
            "description_tooltip": null,
            "layout": "IPY_MODEL_74a9092b07de4d598f36b793ab18fb0d",
            "max": 8000,
            "min": 0,
            "orientation": "horizontal",
            "style": "IPY_MODEL_8ff8a786239b4e1eaa5481fa3d45f365",
            "value": 8000
          }
        },
        "e893198875eb4a11bd06a70b535b7d44": {
          "model_module": "@jupyter-widgets/controls",
          "model_module_version": "1.5.0",
          "model_name": "FloatProgressModel",
          "state": {
            "_dom_classes": [],
            "_model_module": "@jupyter-widgets/controls",
            "_model_module_version": "1.5.0",
            "_model_name": "FloatProgressModel",
            "_view_count": null,
            "_view_module": "@jupyter-widgets/controls",
            "_view_module_version": "1.5.0",
            "_view_name": "ProgressView",
            "bar_style": "success",
            "description": "",
            "description_tooltip": null,
            "layout": "IPY_MODEL_7c1f269d009c42abb0fbb1a2f3f2bafd",
            "max": 2717,
            "min": 0,
            "orientation": "horizontal",
            "style": "IPY_MODEL_cd6bce2820ce42d592d28906daabca4f",
            "value": 2717
          }
        },
        "fba51b380b044e87b64a60dc296f77c8": {
          "model_module": "@jupyter-widgets/controls",
          "model_module_version": "1.5.0",
          "model_name": "HTMLModel",
          "state": {
            "_dom_classes": [],
            "_model_module": "@jupyter-widgets/controls",
            "_model_module_version": "1.5.0",
            "_model_name": "HTMLModel",
            "_view_count": null,
            "_view_module": "@jupyter-widgets/controls",
            "_view_module_version": "1.5.0",
            "_view_name": "HTMLView",
            "description": "",
            "description_tooltip": null,
            "layout": "IPY_MODEL_57a9dd1d046c406ea5b82fa6e4e51ce6",
            "placeholder": "​",
            "style": "IPY_MODEL_bc6ee126104c40bf83e8c4f9bbf3c4ab",
            "value": "Generating test split: 100%"
          }
        },
        "fcc0e7b353fe452bbd674628395e3356": {
          "model_module": "@jupyter-widgets/controls",
          "model_module_version": "1.5.0",
          "model_name": "DescriptionStyleModel",
          "state": {
            "_model_module": "@jupyter-widgets/controls",
            "_model_module_version": "1.5.0",
            "_model_name": "DescriptionStyleModel",
            "_view_count": null,
            "_view_module": "@jupyter-widgets/base",
            "_view_module_version": "1.2.0",
            "_view_name": "StyleView",
            "description_width": ""
          }
        }
      }
    }
  },
  "nbformat": 4,
  "nbformat_minor": 0
}
